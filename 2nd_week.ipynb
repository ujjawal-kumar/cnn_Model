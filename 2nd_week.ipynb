{
 "cells": [
  {
   "cell_type": "code",
   "execution_count": 1,
   "metadata": {},
   "outputs": [],
   "source": [
    "%matplotlib inline"
   ]
  },
  {
   "cell_type": "code",
   "execution_count": 2,
   "metadata": {},
   "outputs": [
    {
     "name": "stderr",
     "output_type": "stream",
     "text": [
      "/home/ujjawal/project/env1/lib/python3.6/site-packages/h5py/__init__.py:36: FutureWarning: Conversion of the second argument of issubdtype from `float` to `np.floating` is deprecated. In future, it will be treated as `np.float64 == np.dtype(float).type`.\n",
      "  from ._conv import register_converters as _register_converters\n"
     ]
    }
   ],
   "source": [
    "import tensorflow as tf\n",
    "import numpy as np\n",
    "import matplotlib.pyplot as plt\n",
    "from sklearn.datasets import make_classification\n",
    "from tensorflow.examples.tutorials.mnist import input_data"
   ]
  },
  {
   "cell_type": "code",
   "execution_count": 3,
   "metadata": {},
   "outputs": [
    {
     "name": "stdout",
     "output_type": "stream",
     "text": [
      "Extracting MNIST_data/train-images-idx3-ubyte.gz\n",
      "Extracting MNIST_data/train-labels-idx1-ubyte.gz\n",
      "Successfully downloaded t10k-images-idx3-ubyte.gz 1648877 bytes.\n",
      "Extracting MNIST_data/t10k-images-idx3-ubyte.gz\n",
      "Successfully downloaded t10k-labels-idx1-ubyte.gz 4542 bytes.\n",
      "Extracting MNIST_data/t10k-labels-idx1-ubyte.gz\n"
     ]
    }
   ],
   "source": [
    "MNIST = input_data.read_data_sets('MNIST_data', one_hot=True)"
   ]
  },
  {
   "cell_type": "code",
   "execution_count": 4,
   "metadata": {},
   "outputs": [],
   "source": [
    "lr = .01 # the learning rate\n",
    "batch_size = 128 # the number of examples we will consider per iterations\n",
    "n_epochs = 2500 # the number of iterations we will do"
   ]
  },
  {
   "cell_type": "code",
   "execution_count": 5,
   "metadata": {},
   "outputs": [],
   "source": [
    "# TODO: Create placeholders for X (our features) and Y (our labels)\n",
    "X = tf.placeholder(tf.float32, [None, 784])\n",
    "Y = tf.placeholder(tf.float32, [None, 10])"
   ]
  },
  {
   "cell_type": "code",
   "execution_count": 6,
   "metadata": {},
   "outputs": [],
   "source": [
    "# TODO: create Variables for w (our weights) and b (our biases)\n",
    "w = tf.Variable(tf.truncated_normal(shape = [784, 10], stddev=0.01), name = 'w')\n",
    "b = tf.Variable(tf.zeros([1, 10]), name = 'b')"
   ]
  },
  {
   "cell_type": "code",
   "execution_count": 7,
   "metadata": {},
   "outputs": [],
   "source": [
    "logits = tf.matmul(X, w) + b"
   ]
  },
  {
   "cell_type": "code",
   "execution_count": 8,
   "metadata": {},
   "outputs": [],
   "source": [
    "normalized_logits = tf.nn.softmax(logits)"
   ]
  },
  {
   "cell_type": "code",
   "execution_count": 9,
   "metadata": {},
   "outputs": [
    {
     "name": "stdout",
     "output_type": "stream",
     "text": [
      "WARNING:tensorflow:From <ipython-input-9-cb405794c09c>:3: softmax_cross_entropy_with_logits (from tensorflow.python.ops.nn_ops) is deprecated and will be removed in a future version.\n",
      "Instructions for updating:\n",
      "\n",
      "Future major versions of TensorFlow will allow gradients to flow\n",
      "into the labels input on backprop by default.\n",
      "\n",
      "See tf.nn.softmax_cross_entropy_with_logits_v2.\n",
      "\n"
     ]
    }
   ],
   "source": [
    "# TODO: write code to compute the cross_entropy_loss and the mean_squared_loss.\n",
    "# Experiment with both losses: which one performs better? Why might this be?\n",
    "cross_entropy = tf.reduce_mean(tf.nn.softmax_cross_entropy_with_logits(labels = Y, logits = logits))\n",
    "mean_squared_loss = tf.reduce_mean(tf.square(Y - normalized_logits))\n",
    "loss = mean_squared_loss"
   ]
  },
  {
   "cell_type": "code",
   "execution_count": 10,
   "metadata": {},
   "outputs": [],
   "source": [
    "# TODO: Create a GradientDescentOptimizer that minimizes our loss. \n",
    "opt = tf.train.GradientDescentOptimizer(learning_rate = lr).minimize(loss)"
   ]
  },
  {
   "cell_type": "code",
   "execution_count": 11,
   "metadata": {},
   "outputs": [],
   "source": [
    "# operations that help us monitour our accuracy\n",
    "cp = tf.equal(tf.argmax(logits, axis = 1), tf.argmax(Y, axis = 1))\n",
    "acc= tf.reduce_mean(tf.cast(cp, tf.float32))\n"
   ]
  },
  {
   "cell_type": "code",
   "execution_count": 12,
   "metadata": {},
   "outputs": [
    {
     "name": "stdout",
     "output_type": "stream",
     "text": [
      "Loss: 0.08995632082223892\n",
      "Loss: 0.08774362504482269\n",
      "Loss: 0.08516256511211395\n",
      "Loss: 0.08176962286233902\n",
      "Loss: 0.07943440228700638\n",
      "test acc: 0.6502000093460083\n"
     ]
    }
   ],
   "source": [
    "# TODO: create a global_variables_initializer, launch the graph, and run the optimization step for n_epochs iterations.\n",
    "init = tf.global_variables_initializer()\n",
    "sess = tf.InteractiveSession()\n",
    "sess.run(init)\n",
    "for i in range(n_epochs):\n",
    "    batch = MNIST.train.next_batch(batch_size)\n",
    "    sess.run(opt, feed_dict = {X: batch[0], Y: batch[1]})\n",
    "    if i % 500 == 0:\n",
    "        l = loss.eval(feed_dict = {X: batch[0], Y: batch[1]})\n",
    "        print(\"Loss: {}\".format(l))\n",
    "a = acc.eval(feed_dict = {X: MNIST.test.images, Y: MNIST.test.labels})\n",
    "print(\"test acc: {}\".format(a))"
   ]
  },
  {
   "cell_type": "code",
   "execution_count": 13,
   "metadata": {},
   "outputs": [],
   "source": [
    "import matplotlib.pyplot as plt\n",
    "\n",
    "def plot_images(images):\n",
    "    for i in range(images.shape[0]):\n",
    "        plt.subplot(1, 5, i + 1) # Plotting 1 row of NUM_FIGURES.\n",
    "        plt.axis('off')\n",
    "        plt.imshow(images[i].reshape((28,28)), cmap = plt.cm.gray_r)\n",
    "    plt.show()\n",
    "    \n"
   ]
  },
  {
   "cell_type": "code",
   "execution_count": 14,
   "metadata": {},
   "outputs": [
    {
     "data": {
      "image/png": "[encoded data removed]",
      "text/plain": [
       "<matplotlib.figure.Figure at 0x7ffa80862fd0>"
      ]
     },
     "metadata": {},
     "output_type": "display_data"
    },
    {
     "name": "stdout",
     "output_type": "stream",
     "text": [
      "predicted 3, ground truth was 8\n",
      "predicted 7, ground truth was 9\n",
      "predicted 6, ground truth was 6\n",
      "predicted 3, ground truth was 3\n",
      "predicted 1, ground truth was 1\n"
     ]
    }
   ],
   "source": [
    "# TODO: Take some random images from the MNIST dataset, run a prediction, and display the prediction and the actual label.\n",
    "\n",
    "NUM_IMAGES = 5\n",
    "rand_image_idx = np.random.randint(0, MNIST.test.images.shape[1], NUM_IMAGES)\n",
    "images, labels = [MNIST.test.images[i] for i in rand_image_idx], [MNIST.test.labels[i] for i in rand_image_idx]\n",
    "images, labels = np.array(images), np.array(labels)\n",
    "plot_images(images)\n",
    "for i in range(images.shape[0]):\n",
    "    prediction = sess.run(logits, feed_dict = {X: images[i].reshape((1, images[i].shape[0])), Y: labels[i].reshape((1, labels[i].shape[0]))})\n",
    "    predicted_label = np.argmax(prediction)\n",
    "    actual_label = np.argmax(labels[i])\n",
    "    print(\"predicted {}, ground truth was {}\".format(predicted_label, actual_label))"
   ]
  }
 ],
 "metadata": {
  "kernelspec": {
   "display_name": "Python 3",
   "language": "python",
   "name": "python3"
  },
  "language_info": {
   "codemirror_mode": {
    "name": "ipython",
    "version": 3
   },
   "file_extension": ".py",
   "mimetype": "text/x-python",
   "name": "python",
   "nbconvert_exporter": "python",
   "pygments_lexer": "ipython3",
   "version": "3.6.3"
  }
 },
 "nbformat": 4,
 "nbformat_minor": 2
}
