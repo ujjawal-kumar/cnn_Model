{
 "cells": [
  {
   "cell_type": "code",
   "execution_count": 1,
   "metadata": {},
   "outputs": [
    {
     "name": "stderr",
     "output_type": "stream",
     "text": [
      "Using Theano backend.\n",
      "Using cuDNN version 5110 on context None\n",
      "Mapped name None to device cuda: Tesla M40 24GB (0000:02:00.0)\n",
      "/home/16mcmi16/anaconda/envs/theano/lib/python3.5/site-packages/sklearn/cross_validation.py:41: DeprecationWarning: This module was deprecated in version 0.18 in favor of the model_selection module into which all the refactored classes and functions are moved. Also note that the interface of the new CV iterators are different from that of this module. This module will be removed in 0.20.\n",
      "  \"This module will be removed in 0.20.\", DeprecationWarning)\n"
     ]
    }
   ],
   "source": [
    "import os,cv2\n",
    "import numpy as np\n",
    "import pandas as pd\n",
    "import matplotlib.pyplot as plt\n",
    "import h5py\n",
    "from keras.utils import np_utils\n",
    "from sklearn.utils import shuffle\n",
    "from sklearn.cross_validation import train_test_split\n",
    "\n",
    "from keras import backend as K\n",
    "K.set_image_dim_ordering('th')\n",
    "\n",
    "from keras.utils import np_utils\n",
    "from keras.models import Sequential\n",
    "from keras.layers.core import Dense, Dropout, Activation, Flatten\n",
    "from keras.layers.convolutional import Convolution2D, MaxPooling2D\n",
    "from keras.optimizers import SGD,RMSprop,adam"
   ]
  },
  {
   "cell_type": "code",
   "execution_count": 2,
   "metadata": {},
   "outputs": [
    {
     "data": {
      "text/plain": [
       "['.mozilla',\n",
       " '.bash_logout',\n",
       " '.bash_profile',\n",
       " '.bashrc',\n",
       " '.emacs',\n",
       " '.cache',\n",
       " '.config',\n",
       " '.bash_history',\n",
       " '.ipython',\n",
       " '.keras',\n",
       " '.theano',\n",
       " '.rnd',\n",
       " '.continuum',\n",
       " '.bashrc-miniconda2.bak',\n",
       " '.dbus',\n",
       " '.conda',\n",
       " '.theanorc',\n",
       " '.nv',\n",
       " '.local',\n",
       " '.esd_auth',\n",
       " '.gstreamer-0.10',\n",
       " 'Desktop',\n",
       " 'perl5',\n",
       " 'Downloads',\n",
       " 'anaconda',\n",
       " '.emacs.d',\n",
       " 'Untitled3.ipynb',\n",
       " '.pki',\n",
       " 'Train_img_dataset3.h5',\n",
       " 'Untitled2.ipynb',\n",
       " '.kde',\n",
       " '.defaults-0.1.0.ini',\n",
       " 'own_data_cnn_implementation_keras',\n",
       " 'Untitled.ipynb',\n",
       " '.jupyter',\n",
       " '.ipynb_checkpoints',\n",
       " '.ssh',\n",
       " '.bashrc-anaconda3.bak',\n",
       " 'Untitled4.ipynb',\n",
       " '.python_history',\n",
       " 'DeepLearning',\n",
       " '.pyxbld',\n",
       " 'data',\n",
       " 'Untitled1.ipynb',\n",
       " '.Xauthority']"
      ]
     },
     "execution_count": 2,
     "metadata": {},
     "output_type": "execute_result"
    }
   ],
   "source": [
    "os.listdir('.')"
   ]
  },
  {
   "cell_type": "code",
   "execution_count": 3,
   "metadata": {
    "collapsed": true
   },
   "outputs": [],
   "source": [
    "f=h5py.File('Train_img_dataset3.h5','r')"
   ]
  },
  {
   "cell_type": "code",
   "execution_count": 4,
   "metadata": {},
   "outputs": [
    {
     "name": "stdout",
     "output_type": "stream",
     "text": [
      "['train_data']\n"
     ]
    }
   ],
   "source": [
    "print(list(f.keys()))"
   ]
  },
  {
   "cell_type": "code",
   "execution_count": 5,
   "metadata": {
    "collapsed": true
   },
   "outputs": [],
   "source": [
    "train_data=list(f.keys())[0]"
   ]
  },
  {
   "cell_type": "code",
   "execution_count": 6,
   "metadata": {},
   "outputs": [
    {
     "name": "stdout",
     "output_type": "stream",
     "text": [
      "(100000, 64, 64, 3)\n"
     ]
    }
   ],
   "source": [
    "final_train=f[train_data].shape\n",
    "print(final_train)"
   ]
  },
  {
   "cell_type": "code",
   "execution_count": 7,
   "metadata": {
    "collapsed": true
   },
   "outputs": [],
   "source": [
    "img_array=f[train_data]"
   ]
  },
  {
   "cell_type": "code",
   "execution_count": 8,
   "metadata": {
    "collapsed": true
   },
   "outputs": [],
   "source": [
    "nd_array=np.asarray(img_array)"
   ]
  },
  {
   "cell_type": "code",
   "execution_count": 9,
   "metadata": {
    "collapsed": true
   },
   "outputs": [],
   "source": [
    "nd_array/=255"
   ]
  },
  {
   "cell_type": "code",
   "execution_count": 10,
   "metadata": {},
   "outputs": [
    {
     "name": "stdout",
     "output_type": "stream",
     "text": [
      "(100000, 3, 64, 64)\n"
     ]
    }
   ],
   "source": [
    "if K.image_dim_ordering()=='th':\n",
    "\t\tnd_array=np.rollaxis(nd_array,3,1)\n",
    "\t\tprint (nd_array.shape)"
   ]
  },
  {
   "cell_type": "code",
   "execution_count": 11,
   "metadata": {
    "collapsed": true
   },
   "outputs": [],
   "source": [
    "# Assigning Labels\n",
    "\n",
    "# Define the number of classes\n",
    "num_classes = 200\n",
    "num_of_samples = img_array.shape[0]\n",
    "labels = np.ones((num_of_samples,),dtype='int64')"
   ]
  },
  {
   "cell_type": "code",
   "execution_count": 12,
   "metadata": {
    "collapsed": true
   },
   "outputs": [],
   "source": [
    "list1=labels.tolist()"
   ]
  },
  {
   "cell_type": "code",
   "execution_count": 13,
   "metadata": {
    "collapsed": true
   },
   "outputs": [],
   "source": [
    "i=0\n",
    "j=0\n",
    "while(i<num_classes):\n",
    "    count=0\n",
    "    while(j<len(list1)) :\n",
    "        list1[j]=i\n",
    "        j+=1\n",
    "        #print(list1[j])\n",
    "        count=count+1\n",
    "        if(count==500):\n",
    "            break\n",
    "    i+=1        \n",
    "           \n",
    "            "
   ]
  },
  {
   "cell_type": "code",
   "execution_count": 14,
   "metadata": {
    "collapsed": true
   },
   "outputs": [],
   "source": [
    "labels=np.asarray(list1)"
   ]
  },
  {
   "cell_type": "code",
   "execution_count": 15,
   "metadata": {
    "collapsed": true
   },
   "outputs": [],
   "source": [
    "# convert class labels to on-hot encoding\n",
    "Y = np_utils.to_categorical(labels, num_classes)"
   ]
  },
  {
   "cell_type": "code",
   "execution_count": 16,
   "metadata": {
    "collapsed": true
   },
   "outputs": [],
   "source": [
    "#Shuffle the dataset\n",
    "x,y = shuffle(nd_array,Y, random_state=2)"
   ]
  },
  {
   "cell_type": "code",
   "execution_count": 17,
   "metadata": {
    "collapsed": true
   },
   "outputs": [],
   "source": [
    "# Split the dataset\n",
    "X_train, X_test, y_train, y_test = train_test_split(x, y, test_size=0.2, random_state=2)"
   ]
  },
  {
   "cell_type": "code",
   "execution_count": 18,
   "metadata": {},
   "outputs": [
    {
     "name": "stdout",
     "output_type": "stream",
     "text": [
      "(3, 64, 64)\n"
     ]
    }
   ],
   "source": [
    "# Defining the model\n",
    "input_shape=nd_array[0].shape\n",
    "print(input_shape)"
   ]
  },
  {
   "cell_type": "code",
   "execution_count": 19,
   "metadata": {},
   "outputs": [
    {
     "name": "stderr",
     "output_type": "stream",
     "text": [
      "/home/16mcmi16/anaconda/envs/theano/lib/python3.5/site-packages/ipykernel_launcher.py:24: UserWarning: Update your `Conv2D` call to the Keras 2 API: `Conv2D(64, (3, 3), padding=\"same\", input_shape=(3, 64, 64...)`\n",
      "/home/16mcmi16/anaconda/envs/theano/lib/python3.5/site-packages/ipykernel_launcher.py:26: UserWarning: Update your `Conv2D` call to the Keras 2 API: `Conv2D(64, (3, 3))`\n"
     ]
    }
   ],
   "source": [
    "\n",
    "#model.add(Convolution2D(64, 3,3,border_mode='same',input_shape=input_shape))\n",
    "#model.add(Activation('relu'))\n",
    "#model.add(Convolution2D(64, 3, 3))\n",
    "#model.add(Activation('relu'))\n",
    "#model.add(MaxPooling2D(pool_size=(2, 2)))\n",
    "#model.add(Dropout(0.5))\n",
    "\n",
    "#model.add(Convolution2D(128, 3, 3))\n",
    "#model.add(Activation('relu'))\n",
    "#model.add(Convolution2D(64, 3, 3))\n",
    "#model.add(Activation('relu'))\n",
    "#model.add(MaxPooling2D(pool_size=(2, 2)))\n",
    "#model.add(Dropout(0.5))\n",
    "\n",
    "#model.add(Flatten())\n",
    "#model.add(Dense(128))\n",
    "#model.add(Activation('relu'))\n",
    "#model.add(Dropout(0.5))\n",
    "#model.add(Dense(num_classes))\n",
    "#model.add(Activation('softmax'))\n",
    "\n",
    "model = Sequential()\n",
    "model.add(Convolution2D(64, 3, 3, border_mode='same',input_shape=input_shape))\n",
    "model.add(Activation('relu'))\n",
    "model.add(Convolution2D( 64, 3, 3))\n",
    "model.add(Activation('relu'))\n",
    "model.add(MaxPooling2D(pool_size=(2, 2)))\n",
    "model.add(Dropout(0.25))\n",
    "\n",
    "model.add(Flatten())\n",
    "model.add(Dense( 256))\n",
    "model.add(Activation('relu'))\n",
    "model.add(Dropout(0.5))\n",
    "\n",
    "model.add(Dense( num_classes))\n",
    "model.add(Activation('softmax'))"
   ]
  },
  {
   "cell_type": "code",
   "execution_count": 20,
   "metadata": {},
   "outputs": [
    {
     "name": "stdout",
     "output_type": "stream",
     "text": [
      "_________________________________________________________________\n",
      "Layer (type)                 Output Shape              Param #   \n",
      "=================================================================\n",
      "conv2d_1 (Conv2D)            (None, 64, 64, 64)        1792      \n",
      "_________________________________________________________________\n",
      "activation_1 (Activation)    (None, 64, 64, 64)        0         \n",
      "_________________________________________________________________\n",
      "conv2d_2 (Conv2D)            (None, 64, 62, 62)        36928     \n",
      "_________________________________________________________________\n",
      "activation_2 (Activation)    (None, 64, 62, 62)        0         \n",
      "_________________________________________________________________\n",
      "max_pooling2d_1 (MaxPooling2 (None, 64, 31, 31)        0         \n",
      "_________________________________________________________________\n",
      "dropout_1 (Dropout)          (None, 64, 31, 31)        0         \n",
      "_________________________________________________________________\n",
      "flatten_1 (Flatten)          (None, 61504)             0         \n",
      "_________________________________________________________________\n",
      "dense_1 (Dense)              (None, 256)               15745280  \n",
      "_________________________________________________________________\n",
      "activation_3 (Activation)    (None, 256)               0         \n",
      "_________________________________________________________________\n",
      "dropout_2 (Dropout)          (None, 256)               0         \n",
      "_________________________________________________________________\n",
      "dense_2 (Dense)              (None, 200)               51400     \n",
      "_________________________________________________________________\n",
      "activation_4 (Activation)    (None, 200)               0         \n",
      "=================================================================\n",
      "Total params: 15,835,400\n",
      "Trainable params: 15,835,400\n",
      "Non-trainable params: 0\n",
      "_________________________________________________________________\n"
     ]
    }
   ],
   "source": [
    "model.summary()"
   ]
  },
  {
   "cell_type": "code",
   "execution_count": 21,
   "metadata": {
    "collapsed": true
   },
   "outputs": [],
   "source": [
    "sgd = SGD(lr=0.01, decay=1e-6, momentum=0.9, nesterov=True)\n",
    "model.compile(loss='categorical_crossentropy', optimizer=sgd,metrics=[\"accuracy\"])\n",
    "#model.compile(loss='categorical_crossentropy', optimizer='rmsprop',metrics=[\"accuracy\"])"
   ]
  },
  {
   "cell_type": "code",
   "execution_count": 22,
   "metadata": {},
   "outputs": [
    {
     "name": "stdout",
     "output_type": "stream",
     "text": [
      "Train on 80000 samples, validate on 20000 samples\n",
      "Epoch 1/50\n",
      "80000/80000 [==============================] - 132s - loss: 5.1520 - acc: 0.0166 - val_loss: 4.9590 - val_acc: 0.0333\n",
      "Epoch 2/50\n",
      "80000/80000 [==============================] - 134s - loss: 4.8981 - acc: 0.0362 - val_loss: 4.7165 - val_acc: 0.0585\n",
      "Epoch 3/50\n",
      "80000/80000 [==============================] - 133s - loss: 4.6707 - acc: 0.0578 - val_loss: 4.4637 - val_acc: 0.0887\n",
      "Epoch 4/50\n",
      "80000/80000 [==============================] - 131s - loss: 4.4430 - acc: 0.0845 - val_loss: 4.3116 - val_acc: 0.1084\n",
      "Epoch 5/50\n",
      "80000/80000 [==============================] - 134s - loss: 4.2010 - acc: 0.1129 - val_loss: 4.1867 - val_acc: 0.1197\n",
      "Epoch 6/50\n",
      "80000/80000 [==============================] - 134s - loss: 3.9330 - acc: 0.1514 - val_loss: 4.1946 - val_acc: 0.1209\n",
      "Epoch 7/50\n",
      "80000/80000 [==============================] - 135s - loss: 3.6287 - acc: 0.1979 - val_loss: 4.2419 - val_acc: 0.1184\n",
      "Epoch 8/50\n",
      "80000/80000 [==============================] - 133s - loss: 3.2901 - acc: 0.2520 - val_loss: 4.2675 - val_acc: 0.1207\n",
      "Epoch 9/50\n",
      "80000/80000 [==============================] - 131s - loss: 2.9849 - acc: 0.3064 - val_loss: 4.3544 - val_acc: 0.1107\n",
      "Epoch 10/50\n",
      "80000/80000 [==============================] - 131s - loss: 2.6995 - acc: 0.3564 - val_loss: 4.5147 - val_acc: 0.0978\n",
      "Epoch 11/50\n",
      "80000/80000 [==============================] - 131s - loss: 2.4645 - acc: 0.4029 - val_loss: 4.5816 - val_acc: 0.0997\n",
      "Epoch 12/50\n",
      "80000/80000 [==============================] - 131s - loss: 2.2866 - acc: 0.4424 - val_loss: 4.6795 - val_acc: 0.0983\n",
      "Epoch 13/50\n",
      "80000/80000 [==============================] - 131s - loss: 2.1357 - acc: 0.4722 - val_loss: 4.7781 - val_acc: 0.0957\n",
      "Epoch 14/50\n",
      "80000/80000 [==============================] - 132s - loss: 2.0111 - acc: 0.5003 - val_loss: 4.8479 - val_acc: 0.0969\n",
      "Epoch 15/50\n",
      "80000/80000 [==============================] - 132s - loss: 1.9154 - acc: 0.5213 - val_loss: 5.0079 - val_acc: 0.0894\n",
      "Epoch 16/50\n",
      "80000/80000 [==============================] - 131s - loss: 1.8097 - acc: 0.5452 - val_loss: 5.0354 - val_acc: 0.0845\n",
      "Epoch 17/50\n",
      "80000/80000 [==============================] - 133s - loss: 1.7606 - acc: 0.5572 - val_loss: 5.1723 - val_acc: 0.0906 0s - loss: 1.7605 - acc: 0.55\n",
      "Epoch 18/50\n",
      "80000/80000 [==============================] - 132s - loss: 1.7041 - acc: 0.5736 - val_loss: 5.1880 - val_acc: 0.0846\n",
      "Epoch 19/50\n",
      "80000/80000 [==============================] - 133s - loss: 1.6489 - acc: 0.5866 - val_loss: 5.2573 - val_acc: 0.0796\n",
      "Epoch 20/50\n",
      "80000/80000 [==============================] - 132s - loss: 1.6033 - acc: 0.5976 - val_loss: 5.3210 - val_acc: 0.0907\n",
      "Epoch 21/50\n",
      "80000/80000 [==============================] - 133s - loss: 1.5708 - acc: 0.6075 - val_loss: 5.4896 - val_acc: 0.0849\n",
      "Epoch 22/50\n",
      "80000/80000 [==============================] - 132s - loss: 1.5293 - acc: 0.6171 - val_loss: 5.5290 - val_acc: 0.0833\n",
      "Epoch 23/50\n",
      "80000/80000 [==============================] - 134s - loss: 1.4873 - acc: 0.6275 - val_loss: 5.5598 - val_acc: 0.0819\n",
      "Epoch 24/50\n",
      "80000/80000 [==============================] - 132s - loss: 1.4384 - acc: 0.6390 - val_loss: 5.5484 - val_acc: 0.0804\n",
      "Epoch 25/50\n",
      "80000/80000 [==============================] - 131s - loss: 1.4342 - acc: 0.6422 - val_loss: 5.6852 - val_acc: 0.0813\n",
      "Epoch 26/50\n",
      "80000/80000 [==============================] - 144s - loss: 1.4168 - acc: 0.6491 - val_loss: 5.7461 - val_acc: 0.0782\n",
      "Epoch 27/50\n",
      "80000/80000 [==============================] - 132s - loss: 1.3903 - acc: 0.6572 - val_loss: 5.8514 - val_acc: 0.0800\n",
      "Epoch 28/50\n",
      "80000/80000 [==============================] - 139s - loss: 1.3656 - acc: 0.6616 - val_loss: 5.8532 - val_acc: 0.076566\n",
      "Epoch 29/50\n",
      "80000/80000 [==============================] - 171s - loss: 1.3384 - acc: 0.6684 - val_loss: 5.9357 - val_acc: 0.0781\n",
      "Epoch 30/50\n",
      "80000/80000 [==============================] - 183s - loss: 1.3237 - acc: 0.6764 - val_loss: 5.7645 - val_acc: 0.0753\n",
      "Epoch 31/50\n",
      "80000/80000 [==============================] - 186s - loss: 1.3102 - acc: 0.6766 - val_loss: 5.9939 - val_acc: 0.0708TA: 1s - lo\n",
      "Epoch 32/50\n",
      "80000/80000 [==============================] - 182s - loss: 1.2705 - acc: 0.6873 - val_loss: 6.1754 - val_acc: 0.0815\n",
      "Epoch 33/50\n",
      "80000/80000 [==============================] - 181s - loss: 1.2671 - acc: 0.6895 - val_loss: 6.1113 - val_acc: 0.0743\n",
      "Epoch 34/50\n",
      "80000/80000 [==============================] - 182s - loss: 1.2677 - acc: 0.6922 - val_loss: 5.9635 - val_acc: 0.0766\n",
      "Epoch 35/50\n",
      "80000/80000 [==============================] - 180s - loss: 1.2535 - acc: 0.6946 - val_loss: 6.0080 - val_acc: 0.0797\n",
      "Epoch 36/50\n",
      "80000/80000 [==============================] - 184s - loss: 1.2435 - acc: 0.6978 - val_loss: 6.4072 - val_acc: 0.0777\n",
      "Epoch 37/50\n",
      "80000/80000 [==============================] - 182s - loss: 1.2481 - acc: 0.6989 - val_loss: 6.1559 - val_acc: 0.0782\n",
      "Epoch 38/50\n",
      "80000/80000 [==============================] - 187s - loss: 1.1988 - acc: 0.7111 - val_loss: 6.2823 - val_acc: 0.0754\n",
      "Epoch 39/50\n",
      "80000/80000 [==============================] - 193s - loss: 1.1894 - acc: 0.7124 - val_loss: 6.4028 - val_acc: 0.0736\n",
      "Epoch 40/50\n",
      "80000/80000 [==============================] - 188s - loss: 1.1739 - acc: 0.7177 - val_loss: 6.3132 - val_acc: 0.0746\n",
      "Epoch 41/50\n",
      "80000/80000 [==============================] - 184s - loss: 1.1637 - acc: 0.7219 - val_loss: 6.4972 - val_acc: 0.0742\n",
      "Epoch 42/50\n",
      "80000/80000 [==============================] - 181s - loss: 1.1673 - acc: 0.7222 - val_loss: 6.4544 - val_acc: 0.0761oss: 1.1666 - acc: 0.7 - ETA: 0s - loss: 1.1664 \n",
      "Epoch 43/50\n",
      "80000/80000 [==============================] - 182s - loss: 1.1439 - acc: 0.7275 - val_loss: 6.5835 - val_acc: 0.0728\n",
      "Epoch 44/50\n",
      "80000/80000 [==============================] - 183s - loss: 1.1414 - acc: 0.7295 - val_loss: 6.7162 - val_acc: 0.0669\n",
      "Epoch 45/50\n",
      "80000/80000 [==============================] - 182s - loss: 1.1456 - acc: 0.7284 - val_loss: 6.4678 - val_acc: 0.0769\n",
      "Epoch 46/50\n",
      "80000/80000 [==============================] - 160s - loss: 1.1143 - acc: 0.7373 - val_loss: 6.5707 - val_acc: 0.0717\n",
      "Epoch 47/50\n",
      "80000/80000 [==============================] - 135s - loss: 1.1059 - acc: 0.7393 - val_loss: 6.6327 - val_acc: 0.0705\n",
      "Epoch 48/50\n",
      "80000/80000 [==============================] - 132s - loss: 1.0978 - acc: 0.7404 - val_loss: 6.7254 - val_acc: 0.0718\n",
      "Epoch 49/50\n",
      "80000/80000 [==============================] - 136s - loss: 1.1100 - acc: 0.7397 - val_loss: 6.7537 - val_acc: 0.0689\n",
      "Epoch 50/50\n",
      "80000/80000 [==============================] - 134s - loss: 1.1065 - acc: 0.7415 - val_loss: 6.7192 - val_acc: 0.0734\n"
     ]
    }
   ],
   "source": [
    "# Training\n",
    "hist = model.fit(X_train, y_train, batch_size=16, epochs=50, verbose=1, validation_data=(X_test, y_test))\n",
    "\n",
    "#hist = model.fit(X_train, y_train, batch_size=32, epochs=20,verbose=1, validation_split=0.2)"
   ]
  },
  {
   "cell_type": "code",
   "execution_count": 23,
   "metadata": {},
   "outputs": [
    {
     "name": "stdout",
     "output_type": "stream",
     "text": [
      "Test Loss: 6.71924707489\n",
      "Test accuracy: 0.0734\n"
     ]
    }
   ],
   "source": [
    "\n",
    "# Evaluating the model\n",
    "\n",
    "score = model.evaluate(X_test, y_test, verbose=0)\n",
    "print('Test Loss:', score[0])\n",
    "print('Test accuracy:', score[1])\n"
   ]
  },
  {
   "cell_type": "code",
   "execution_count": 24,
   "metadata": {},
   "outputs": [
    {
     "name": "stdout",
     "output_type": "stream",
     "text": [
      "(1, 3, 64, 64)\n",
      "[[  1.00637117e-05   4.55265791e-07   2.34970526e-06   2.90151274e-06\n",
      "    1.81056821e-05   1.24717315e-06   8.38633059e-06   7.95254834e-07\n",
      "    4.84594830e-06   6.06249250e-06   4.71882731e-06   1.15703826e-03\n",
      "    1.21396873e-03   2.02544543e-04   3.95014195e-06   1.08814038e-05\n",
      "    2.25003944e-07   3.20395230e-07   6.36382538e-06   1.04717328e-05\n",
      "    1.99961346e-06   5.02917450e-04   2.12466563e-04   1.01964826e-04\n",
      "    8.86909856e-06   3.65130603e-04   9.65681102e-05   7.46974139e-04\n",
      "    5.25833457e-05   5.14729836e-05   2.14450731e-04   8.93777760e-05\n",
      "    2.44874682e-04   1.89870107e-03   7.82950519e-06   3.36373596e-05\n",
      "    8.74949765e-05   1.23948962e-06   1.39947429e-06   7.26907786e-07\n",
      "    3.21545886e-05   1.11075031e-04   1.00920210e-04   1.26140512e-04\n",
      "    2.53906978e-06   8.13647603e-08   6.94821324e-07   1.12938806e-05\n",
      "    6.33158430e-04   4.59646290e-05   1.05655854e-05   3.44769105e-05\n",
      "    1.04545206e-05   9.71285554e-05   2.77489715e-04   1.89134572e-03\n",
      "    2.58927121e-05   9.21370156e-06   3.07186019e-05   8.77228160e-07\n",
      "    1.70411629e-04   2.86569702e-03   2.19643742e-04   7.41319149e-04\n",
      "    2.17856534e-04   7.70244369e-05   1.91481213e-05   1.52646133e-03\n",
      "    6.87092615e-05   7.49518105e-04   1.02614626e-06   2.13377383e-02\n",
      "    1.45527460e-02   2.40020934e-04   5.33384387e-04   4.98479756e-04\n",
      "    2.61194305e-04   2.22308925e-04   9.02858446e-04   4.11761466e-05\n",
      "    3.17248960e-05   1.43757672e-04   4.17351066e-06   1.95171649e-03\n",
      "    4.26787083e-05   1.32723805e-03   2.01907614e-03   5.95779711e-05\n",
      "    1.07515152e-05   1.51034214e-06   2.97750143e-04   6.91526884e-06\n",
      "    1.11128484e-05   4.47040406e-07   3.58591315e-05   3.03945621e-04\n",
      "    1.42388599e-04   4.72625215e-05   3.51207127e-05   4.44862326e-06\n",
      "    5.39110624e-04   7.73199368e-04   9.92809073e-04   5.01317321e-04\n",
      "    6.82269892e-05   1.22034010e-02   2.66270741e-04   1.14653349e-05\n",
      "    4.81914077e-03   4.66266461e-03   3.17118596e-04   1.00574712e-03\n",
      "    3.22369416e-03   1.55129746e-04   1.15813012e-03   4.93374304e-04\n",
      "    2.45543953e-04   1.33485287e-06   2.32983293e-04   5.76761551e-03\n",
      "    4.42818971e-03   1.52096763e-04   4.05313949e-05   5.42101101e-04\n",
      "    3.94474977e-04   1.05521693e-04   2.29567831e-05   7.50995338e-01\n",
      "    1.30518423e-02   2.04893746e-04   7.23151315e-05   3.13414331e-03\n",
      "    3.47471843e-03   2.48634606e-04   4.47289087e-04   5.30174984e-05\n",
      "    2.11991952e-04   5.93571924e-04   1.94458310e-02   8.68675779e-05\n",
      "    1.66671835e-02   3.27075389e-03   3.51597415e-03   7.64312936e-05\n",
      "    2.37624809e-05   4.63703515e-07   1.31085864e-03   4.14041476e-03\n",
      "    1.09305847e-02   1.16129100e-04   5.36684638e-06   2.32100002e-02\n",
      "    2.20602124e-05   3.54339420e-08   5.57759704e-05   3.72317765e-04\n",
      "    5.63804533e-05   6.48329706e-06   1.81934913e-03   4.47272003e-04\n",
      "    5.50852747e-05   9.31946925e-05   1.04855935e-05   5.46324474e-04\n",
      "    2.33869832e-05   4.29545966e-04   1.76288173e-04   2.20016595e-02\n",
      "    3.92391048e-05   8.03306513e-03   2.58144537e-05   4.53731673e-06\n",
      "    6.77369884e-04   1.65600155e-03   2.87684579e-05   1.46100638e-06\n",
      "    1.84559474e-06   7.16611839e-06   5.57828287e-07   4.17595365e-05\n",
      "    1.65508897e-03   3.04089099e-07   1.61358946e-06   3.43371568e-07\n",
      "    1.85667045e-06   8.71545672e-06   1.79471692e-06   6.63512623e-08\n",
      "    6.34353864e-06   2.69327234e-06   5.29990132e-08   2.28460841e-08\n",
      "    4.51033024e-08   2.43561917e-05   4.52460590e-05   2.56492116e-04\n",
      "    1.19374554e-05   1.64825105e-04   1.72536515e-04   3.73236726e-05]]\n",
      "1/1 [==============================] - 0s\n",
      "[127]\n",
      "[[ 0.  0.  0.  0.  0.  0.  0.  0.  0.  0.  0.  0.  0.  0.  0.  0.  0.  0.\n",
      "   0.  0.  0.  0.  0.  0.  0.  0.  0.  0.  0.  0.  0.  0.  0.  0.  0.  0.\n",
      "   0.  0.  0.  0.  0.  0.  0.  0.  0.  0.  0.  0.  0.  0.  0.  0.  0.  0.\n",
      "   0.  0.  0.  0.  0.  0.  0.  0.  0.  0.  0.  0.  0.  0.  0.  0.  0.  0.\n",
      "   0.  0.  0.  0.  0.  0.  0.  0.  0.  0.  0.  0.  0.  0.  0.  0.  0.  0.\n",
      "   0.  0.  0.  0.  0.  0.  0.  0.  0.  0.  0.  0.  0.  0.  0.  0.  1.  0.\n",
      "   0.  0.  0.  0.  0.  0.  0.  0.  0.  0.  0.  0.  0.  0.  0.  0.  0.  0.\n",
      "   0.  0.  0.  0.  0.  0.  0.  0.  0.  0.  0.  0.  0.  0.  0.  0.  0.  0.\n",
      "   0.  0.  0.  0.  0.  0.  0.  0.  0.  0.  0.  0.  0.  0.  0.  0.  0.  0.\n",
      "   0.  0.  0.  0.  0.  0.  0.  0.  0.  0.  0.  0.  0.  0.  0.  0.  0.  0.\n",
      "   0.  0.  0.  0.  0.  0.  0.  0.  0.  0.  0.  0.  0.  0.  0.  0.  0.  0.\n",
      "   0.  0.]]\n"
     ]
    }
   ],
   "source": [
    "\n",
    "test_image = X_test[0:1]\n",
    "print (test_image.shape)\n",
    "\n",
    "print(model.predict(test_image))\n",
    "print(model.predict_classes(test_image))\n",
    "print(y_test[0:1])"
   ]
  },
  {
   "cell_type": "code",
   "execution_count": 26,
   "metadata": {},
   "outputs": [
    {
     "name": "stdout",
     "output_type": "stream",
     "text": [
      "Train on 80000 samples, validate on 20000 samples\n",
      "Epoch 1/50\n",
      "   80/80000 [..............................] - ETA: 157s - loss: 1.0250 - acc: 0.7375"
     ]
    },
    {
     "name": "stderr",
     "output_type": "stream",
     "text": [
      "/home/16mcmi16/anaconda/envs/theano/lib/python3.5/site-packages/keras/models.py:848: UserWarning: The `nb_epoch` argument in `fit` has been renamed `epochs`.\n",
      "  warnings.warn('The `nb_epoch` argument in `fit` '\n"
     ]
    },
    {
     "name": "stdout",
     "output_type": "stream",
     "text": [
      "79984/80000 [============================>.] - ETA: 0s - loss: 1.1121 - acc: 0.7408Epoch 00000: val_loss improved from inf to 6.81413, saving model to Best-weights-my_model-000-1.1122-0.7408.hdf5\n",
      "80000/80000 [==============================] - 134s - loss: 1.1122 - acc: 0.7408 - val_loss: 6.8141 - val_acc: 0.0690\n",
      "Epoch 2/50\n",
      "79984/80000 [============================>.] - ETA: 0s - loss: 1.0997 - acc: 0.7439Epoch 00001: val_loss did not improve\n",
      "80000/80000 [==============================] - 133s - loss: 1.0996 - acc: 0.7439 - val_loss: 6.9015 - val_acc: 0.0738\n"
     ]
    }
   ],
   "source": [
    "# Training with callbacks\n",
    "from keras import callbacks\n",
    "\n",
    "filename='model_train_new.csv'\n",
    "csv_log=callbacks.CSVLogger(filename, separator=',', append=False)\n",
    "\n",
    "early_stopping=callbacks.EarlyStopping(monitor='val_loss', min_delta=0, patience=0, verbose=0, mode='min')\n",
    "\n",
    "filepath=\"Best-weights-my_model-{epoch:03d}-{loss:.4f}-{acc:.4f}.hdf5\"\n",
    "\n",
    "checkpoint = callbacks.ModelCheckpoint(filepath, monitor='val_loss', verbose=1, save_best_only=True, mode='min')\n",
    "\n",
    "callbacks_list = [csv_log,early_stopping,checkpoint]\n",
    "\n",
    "hist = model.fit(X_train, y_train, batch_size=16, nb_epoch=50, verbose=1, validation_data=(X_test, y_test),callbacks=callbacks_list)"
   ]
  },
  {
   "cell_type": "code",
   "execution_count": 27,
   "metadata": {},
   "outputs": [
    {
     "data": {
      "image/png": "[encoded data removed]",
      "text/plain": [
       "<matplotlib.figure.Figure at 0x7f05afcc3b70>"
      ]
     },
     "metadata": {},
     "output_type": "display_data"
    }
   ],
   "source": [
    "\n",
    "\n",
    "# visualizing losses and accuracy\n",
    "train_loss=hist.history['loss']\n",
    "val_loss=hist.history['val_loss']\n",
    "train_acc=hist.history['acc']\n",
    "val_acc=hist.history['val_acc']\n",
    "xc=range(2)\n",
    "\n",
    "plt.figure(1,figsize=(7,5))\n",
    "plt.plot(xc,train_loss)\n",
    "plt.plot(xc,val_loss)\n",
    "\n",
    "\n",
    "plt.xlabel('num of Epochs')\n",
    "plt.ylabel('loss')\n",
    "plt.title('train_loss vs val_loss')\n",
    "plt.grid(True)\n",
    "plt.legend(['train','val'])\n",
    "#print plt.style.available # use bmh, classic,ggplot for big pictures\n",
    "plt.style.use(['classic'])\n",
    "plt.show()\n",
    "\n"
   ]
  },
  {
   "cell_type": "code",
   "execution_count": 28,
   "metadata": {},
   "outputs": [
    {
     "data": {
      "image/png": "[encoded data removed]",
      "text/plain": [
       "<matplotlib.figure.Figure at 0x7f05afdd7e48>"
      ]
     },
     "metadata": {},
     "output_type": "display_data"
    }
   ],
   "source": [
    "plt.figure(2,figsize=(7,5))\n",
    "plt.plot(xc,train_acc)\n",
    "plt.plot(xc,val_acc)\n",
    "\n",
    "plt.xlabel('num of Epochs')\n",
    "plt.ylabel('accuracy')\n",
    "plt.title('train_acc vs val_acc')\n",
    "plt.grid(True)\n",
    "plt.legend(['train','val'],loc=4)\n",
    "#print plt.style.available # use bmh, classic,ggplot for big pictures\n",
    "plt.style.use(['classic'])\n",
    "plt.show()"
   ]
  },
  {
   "cell_type": "code",
   "execution_count": 29,
   "metadata": {},
   "outputs": [
    {
     "name": "stdout",
     "output_type": "stream",
     "text": [
      "Test Loss: 6.90148692169\n",
      "Test accuracy: 0.0738\n",
      "(1, 3, 64, 64)\n",
      "[[  3.80933216e-06   1.84081273e-05   2.39941670e-04   8.77643743e-06\n",
      "    6.08551374e-04   1.49502317e-04   1.44166144e-04   3.02199605e-05\n",
      "    5.31490805e-05   8.09447607e-04   2.81519879e-05   2.30546389e-03\n",
      "    9.92517162e-05   2.47674889e-05   2.19727863e-05   1.83898184e-04\n",
      "    2.92701941e-07   2.29130528e-04   3.45294143e-06   4.33161331e-05\n",
      "    4.58181094e-05   3.32270312e-04   3.34589655e-04   6.60918420e-04\n",
      "    9.32693874e-05   7.26884391e-05   4.10088396e-04   1.23730264e-04\n",
      "    2.29126708e-05   2.20025213e-05   1.71783268e-02   6.45198952e-03\n",
      "    3.50349327e-03   7.17869843e-04   7.48347566e-06   3.18355560e-05\n",
      "    3.98220982e-06   8.65266265e-05   2.08979168e-06   4.02724936e-06\n",
      "    3.28864146e-04   3.02683134e-06   9.72302369e-05   3.97349067e-05\n",
      "    7.80298024e-07   1.14263997e-07   3.68994165e-06   5.79598034e-03\n",
      "    1.10160955e-03   7.14136055e-04   1.03720304e-04   2.12881458e-03\n",
      "    2.20464390e-05   2.98141007e-04   8.55861945e-05   8.24427116e-05\n",
      "    1.02342936e-04   3.72048780e-05   2.29906710e-03   4.29825104e-06\n",
      "    2.33827504e-05   7.10105465e-04   1.23197344e-04   9.08829588e-06\n",
      "    1.28044812e-05   1.03989029e-02   5.42693725e-03   1.53175060e-05\n",
      "    2.47151074e-05   1.62988179e-03   1.96284163e-05   1.09435674e-02\n",
      "    9.50531103e-05   1.25505409e-04   1.72479966e-04   7.51631276e-04\n",
      "    3.24639783e-04   1.27666935e-05   1.60549360e-03   6.59443613e-05\n",
      "    4.13783127e-03   4.11396933e-04   2.37701461e-03   5.18364192e-04\n",
      "    5.87887153e-05   3.79241537e-04   1.95855908e-02   4.51171100e-02\n",
      "    4.67484233e-06   3.22632899e-04   2.28911358e-05   1.03236747e-03\n",
      "    3.34109427e-05   1.12441230e-05   1.42244826e-05   2.31549406e-04\n",
      "    1.13900257e-02   2.82104164e-02   3.98788579e-05   5.82737775e-05\n",
      "    2.57493146e-02   2.48035154e-04   3.92867049e-04   4.30870265e-01\n",
      "    2.43284099e-04   3.15503275e-05   1.93333998e-02   1.93403801e-03\n",
      "    2.20255213e-04   7.68520986e-05   7.01226108e-03   5.55368097e-05\n",
      "    3.11720505e-04   1.63289136e-04   8.42327427e-06   3.41773411e-04\n",
      "    2.64932867e-03   7.19025033e-04   2.77728413e-05   1.82506675e-03\n",
      "    2.23018942e-04   2.58674938e-03   1.32145753e-04   8.72282453e-06\n",
      "    2.86763839e-06   3.33716594e-06   7.00532866e-04   1.87439173e-02\n",
      "    4.23095298e-05   1.98008038e-05   2.31336526e-04   8.26015719e-04\n",
      "    5.14415569e-06   2.40846351e-02   2.98909399e-05   2.54896549e-05\n",
      "    8.52066837e-03   3.02582717e-04   1.30343164e-04   3.42030171e-06\n",
      "    2.28463858e-02   4.58510884e-04   3.86977685e-03   2.04626940e-05\n",
      "    1.64268783e-03   8.75883197e-05   1.64185129e-02   2.55282526e-03\n",
      "    9.38976556e-03   1.20673258e-05   9.78569369e-05   6.60724333e-03\n",
      "    3.81761674e-06   6.03099977e-07   8.65228765e-04   4.90009697e-05\n",
      "    3.12271959e-06   8.74003745e-04   9.18403675e-05   2.46825191e-04\n",
      "    8.20950419e-03   1.14347567e-04   1.33679088e-04   2.83177767e-04\n",
      "    1.12479529e-03   1.29205491e-02   6.14496740e-03   4.03705379e-03\n",
      "    5.26154781e-06   7.16576062e-04   9.90899396e-04   1.70664134e-05\n",
      "    5.03117990e-05   2.81555054e-04   2.31831223e-06   6.48473952e-06\n",
      "    1.06757152e-05   9.12405255e-07   7.31291366e-05   1.78923958e-03\n",
      "    3.28444330e-05   1.78813898e-05   6.68227513e-05   7.88973375e-06\n",
      "    5.42145585e-07   3.17063314e-05   3.22832284e-06   1.30871638e-06\n",
      "    1.75692844e-06   2.03342992e-07   2.93161520e-05   2.87881267e-06\n",
      "    8.35125411e-06   7.48327557e-06   3.09498585e-03   1.43031210e-01\n",
      "    1.49995658e-05   6.27083518e-03   6.72923110e-04   6.95875497e-06]]\n",
      "1/1 [==============================] - 0s\n",
      "[103]\n",
      "[[ 0.  0.  0.  0.  0.  0.  0.  0.  0.  0.  0.  0.  0.  0.  0.  0.  0.  0.\n",
      "   0.  0.  0.  0.  0.  0.  0.  0.  0.  0.  0.  0.  0.  0.  0.  0.  0.  0.\n",
      "   0.  0.  0.  0.  0.  0.  0.  0.  0.  0.  0.  0.  0.  0.  0.  0.  0.  0.\n",
      "   0.  0.  0.  0.  0.  0.  0.  0.  0.  0.  0.  0.  0.  0.  0.  0.  0.  0.\n",
      "   0.  0.  0.  0.  0.  0.  0.  0.  0.  0.  0.  0.  0.  0.  0.  0.  0.  0.\n",
      "   0.  0.  0.  0.  0.  0.  0.  0.  0.  0.  0.  0.  0.  0.  0.  0.  1.  0.\n",
      "   0.  0.  0.  0.  0.  0.  0.  0.  0.  0.  0.  0.  0.  0.  0.  0.  0.  0.\n",
      "   0.  0.  0.  0.  0.  0.  0.  0.  0.  0.  0.  0.  0.  0.  0.  0.  0.  0.\n",
      "   0.  0.  0.  0.  0.  0.  0.  0.  0.  0.  0.  0.  0.  0.  0.  0.  0.  0.\n",
      "   0.  0.  0.  0.  0.  0.  0.  0.  0.  0.  0.  0.  0.  0.  0.  0.  0.  0.\n",
      "   0.  0.  0.  0.  0.  0.  0.  0.  0.  0.  0.  0.  0.  0.  0.  0.  0.  0.\n",
      "   0.  0.]]\n"
     ]
    }
   ],
   "source": [
    "# Evaluating the model\n",
    "\n",
    "score = model.evaluate(X_test, y_test, verbose=0)\n",
    "print('Test Loss:', score[0])\n",
    "print('Test accuracy:', score[1])\n",
    "\n",
    "test_image = X_test[0:1]\n",
    "print (test_image.shape)\n",
    "\n",
    "print(model.predict(test_image))\n",
    "print(model.predict_classes(test_image))\n",
    "print(y_test[0:1])"
   ]
  },
  {
   "cell_type": "code",
   "execution_count": 36,
   "metadata": {},
   "outputs": [
    {
     "ename": "TypeError",
     "evalue": "Cannot handle this data type",
     "output_type": "error",
     "traceback": [
      "\u001b[0;31m---------------------------------------------------------------------------\u001b[0m",
      "\u001b[0;31mKeyError\u001b[0m                                  Traceback (most recent call last)",
      "\u001b[0;32m~/anaconda/envs/theano/lib/python3.5/site-packages/PIL/Image.py\u001b[0m in \u001b[0;36mfromarray\u001b[0;34m(obj, mode)\u001b[0m\n\u001b[1;32m   2357\u001b[0m             \u001b[0mtypekey\u001b[0m \u001b[0;34m=\u001b[0m \u001b[0;34m(\u001b[0m\u001b[0;36m1\u001b[0m\u001b[0;34m,\u001b[0m \u001b[0;36m1\u001b[0m\u001b[0;34m)\u001b[0m \u001b[0;34m+\u001b[0m \u001b[0mshape\u001b[0m\u001b[0;34m[\u001b[0m\u001b[0;36m2\u001b[0m\u001b[0;34m:\u001b[0m\u001b[0;34m]\u001b[0m\u001b[0;34m,\u001b[0m \u001b[0marr\u001b[0m\u001b[0;34m[\u001b[0m\u001b[0;34m'typestr'\u001b[0m\u001b[0;34m]\u001b[0m\u001b[0;34m\u001b[0m\u001b[0m\n\u001b[0;32m-> 2358\u001b[0;31m             \u001b[0mmode\u001b[0m\u001b[0;34m,\u001b[0m \u001b[0mrawmode\u001b[0m \u001b[0;34m=\u001b[0m \u001b[0m_fromarray_typemap\u001b[0m\u001b[0;34m[\u001b[0m\u001b[0mtypekey\u001b[0m\u001b[0;34m]\u001b[0m\u001b[0;34m\u001b[0m\u001b[0m\n\u001b[0m\u001b[1;32m   2359\u001b[0m         \u001b[0;32mexcept\u001b[0m \u001b[0mKeyError\u001b[0m\u001b[0;34m:\u001b[0m\u001b[0;34m\u001b[0m\u001b[0m\n",
      "\u001b[0;31mKeyError\u001b[0m: ((1, 1, 3), '<f4')",
      "\nDuring handling of the above exception, another exception occurred:\n",
      "\u001b[0;31mTypeError\u001b[0m                                 Traceback (most recent call last)",
      "\u001b[0;32m<ipython-input-36-68e674070fdd>\u001b[0m in \u001b[0;36m<module>\u001b[0;34m()\u001b[0m\n\u001b[1;32m      1\u001b[0m \u001b[0;32mfrom\u001b[0m \u001b[0mPIL\u001b[0m \u001b[0;32mimport\u001b[0m \u001b[0mImage\u001b[0m\u001b[0;34m\u001b[0m\u001b[0m\n\u001b[1;32m      2\u001b[0m \u001b[0;31m# Testing a new image\u001b[0m\u001b[0;34m\u001b[0m\u001b[0;34m\u001b[0m\u001b[0m\n\u001b[0;32m----> 3\u001b[0;31m \u001b[0mtest_image\u001b[0m \u001b[0;34m=\u001b[0m \u001b[0mImage\u001b[0m\u001b[0;34m.\u001b[0m\u001b[0mfromarray\u001b[0m\u001b[0;34m(\u001b[0m\u001b[0mf\u001b[0m\u001b[0;34m[\u001b[0m\u001b[0mtrain_data\u001b[0m\u001b[0;34m]\u001b[0m\u001b[0;34m[\u001b[0m\u001b[0;36m0\u001b[0m\u001b[0;34m]\u001b[0m\u001b[0;34m)\u001b[0m\u001b[0;34m\u001b[0m\u001b[0m\n\u001b[0m\u001b[1;32m      4\u001b[0m \u001b[0;31m#test_image=cv2.cvtColor(test_image, cv2.COLOR_BGR2GRAY)\u001b[0m\u001b[0;34m\u001b[0m\u001b[0;34m\u001b[0m\u001b[0m\n\u001b[1;32m      5\u001b[0m \u001b[0;31m#test_image=cv2.resize(test_image,(128,128))\u001b[0m\u001b[0;34m\u001b[0m\u001b[0;34m\u001b[0m\u001b[0m\n",
      "\u001b[0;32m~/anaconda/envs/theano/lib/python3.5/site-packages/PIL/Image.py\u001b[0m in \u001b[0;36mfromarray\u001b[0;34m(obj, mode)\u001b[0m\n\u001b[1;32m   2359\u001b[0m         \u001b[0;32mexcept\u001b[0m \u001b[0mKeyError\u001b[0m\u001b[0;34m:\u001b[0m\u001b[0;34m\u001b[0m\u001b[0m\n\u001b[1;32m   2360\u001b[0m             \u001b[0;31m# print(typekey)\u001b[0m\u001b[0;34m\u001b[0m\u001b[0;34m\u001b[0m\u001b[0m\n\u001b[0;32m-> 2361\u001b[0;31m             \u001b[0;32mraise\u001b[0m \u001b[0mTypeError\u001b[0m\u001b[0;34m(\u001b[0m\u001b[0;34m\"Cannot handle this data type\"\u001b[0m\u001b[0;34m)\u001b[0m\u001b[0;34m\u001b[0m\u001b[0m\n\u001b[0m\u001b[1;32m   2362\u001b[0m     \u001b[0;32melse\u001b[0m\u001b[0;34m:\u001b[0m\u001b[0;34m\u001b[0m\u001b[0m\n\u001b[1;32m   2363\u001b[0m         \u001b[0mrawmode\u001b[0m \u001b[0;34m=\u001b[0m \u001b[0mmode\u001b[0m\u001b[0;34m\u001b[0m\u001b[0m\n",
      "\u001b[0;31mTypeError\u001b[0m: Cannot handle this data type"
     ]
    }
   ],
   "source": [
    "from PIL import Image\n",
    "# Testing a new image\n",
    "test_image = Image.fromarray(f[train_data][0])\n",
    "#test_image=cv2.cvtColor(test_image, cv2.COLOR_BGR2GRAY)\n",
    "#test_image=cv2.resize(test_image,(128,128))\n",
    "test_image = np.array(test_image)\n",
    "test_image = test_image.astype('float32')\n",
    "test_image /= 255\n",
    "print (test_image.shape)"
   ]
  },
  {
   "cell_type": "code",
   "execution_count": null,
   "metadata": {
    "collapsed": true
   },
   "outputs": [],
   "source": []
  }
 ],
 "metadata": {
  "kernelspec": {
   "display_name": "Python 3",
   "language": "python",
   "name": "python3"
  },
  "language_info": {
   "codemirror_mode": {
    "name": "ipython",
    "version": 3
   },
   "file_extension": ".py",
   "mimetype": "text/x-python",
   "name": "python",
   "nbconvert_exporter": "python",
   "pygments_lexer": "ipython3",
   "version": "3.5.4"
  }
 },
 "nbformat": 4,
 "nbformat_minor": 2
}
