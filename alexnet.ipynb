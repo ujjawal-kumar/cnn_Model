{
 "cells": [
  {
   "cell_type": "code",
   "execution_count": 12,
   "metadata": {},
   "outputs": [],
   "source": [
    "#import libraries\n",
    "import os,cv2\n",
    "import numpy as np\n",
    "import matplotlib.pyplot as plt\n",
    "\n",
    "from sklearn.utils import shuffle\n",
    "from sklearn.cross_validation import train_test_split\n",
    "\n",
    "from keras import backend as K\n",
    "K.set_image_dim_ordering('th')\n",
    "\n",
    "from keras.utils import np_utils\n",
    "from keras.models import Sequential\n",
    "from keras.layers.core import Dense, Dropout, Activation, Flatten\n",
    "from keras.layers import Conv2D, MaxPooling2D\n",
    "from keras.optimizers import SGD,RMSprop,adam"
   ]
  },
  {
   "cell_type": "code",
   "execution_count": 13,
   "metadata": {},
   "outputs": [
    {
     "data": {
      "text/plain": [
       "'C:\\\\Users\\\\Ravi\\\\Desktop\\\\keras own data cnn_files'"
      ]
     },
     "execution_count": 13,
     "metadata": {},
     "output_type": "execute_result"
    }
   ],
   "source": [
    "PATH1=os.chdir('C:/Users/Ravi/Desktop/keras own data cnn_files')\n",
    "PATH = os.getcwd()\n",
    "PATH"
   ]
  },
  {
   "cell_type": "code",
   "execution_count": 14,
   "metadata": {
    "collapsed": true
   },
   "outputs": [],
   "source": [
    "# Define data path\n",
    "data_path = PATH + '/data'\n",
    "data_dir_list = os.listdir(data_path)\n",
    "\n",
    "img_rows=227\n",
    "img_cols=227\n",
    "num_channel=3\n",
    "num_epoch=20"
   ]
  },
  {
   "cell_type": "code",
   "execution_count": 15,
   "metadata": {},
   "outputs": [
    {
     "name": "stdout",
     "output_type": "stream",
     "text": [
      "Loaded the images of dataset-cats\n",
      "\n",
      "Loaded the images of dataset-dogs\n",
      "\n",
      "Loaded the images of dataset-horses\n",
      "\n",
      "Loaded the images of dataset-humans\n",
      "\n",
      "(808, 227, 227, 3)\n"
     ]
    }
   ],
   "source": [
    "# Define the number of classes\n",
    "num_classes = 4\n",
    "\n",
    "img_data_list=[]\n",
    "\n",
    "for dataset in data_dir_list:\n",
    "\timg_list=os.listdir(data_path+'/'+ dataset)\n",
    "\tprint ('Loaded the images of dataset-'+'{}\\n'.format(dataset))\n",
    "\tfor img in img_list:\n",
    "\t\tinput_img=cv2.imread(data_path + '/'+ dataset + '/'+ img )\n",
    "\t\timg_data_list.append(input_img)\n",
    "\n",
    "img_data = np.array(img_data_list)\n",
    "img_data = img_data.astype('float32')\n",
    "img_data /= 255\n",
    "print (img_data.shape)"
   ]
  },
  {
   "cell_type": "markdown",
   "metadata": {},
   "source": []
  },
  {
   "cell_type": "code",
   "execution_count": 16,
   "metadata": {},
   "outputs": [
    {
     "name": "stdout",
     "output_type": "stream",
     "text": [
      "(808, 3, 227, 227)\n"
     ]
    }
   ],
   "source": [
    "# choosing channel modes for various frameworks, NHWC for tensorflow, NCHW for theano\n",
    "if num_channel==1:\n",
    "\tif K.image_dim_ordering()=='th':\n",
    "\t\timg_data= np.expand_dims(img_data, axis=1) \n",
    "\t\tprint (img_data.shape)\n",
    "\telse:\n",
    "\t\timg_data= np.expand_dims(img_data, axis=4) \n",
    "\t\tprint (img_data.shape)\n",
    "\t\t\n",
    "else:\n",
    "\tif K.image_dim_ordering()=='th':\n",
    "\t\timg_data=np.rollaxis(img_data,3,1)\n",
    "\t\tprint (img_data.shape)"
   ]
  },
  {
   "cell_type": "code",
   "execution_count": 17,
   "metadata": {
    "collapsed": true
   },
   "outputs": [],
   "source": [
    "# Assigning Labels\n",
    "\n",
    "# Define the number of classes\n",
    "num_classes = 4\n",
    "\n",
    "num_of_samples = img_data.shape[0]\n",
    "labels = np.ones((num_of_samples,),dtype='int64')\n",
    "\n",
    "labels[0:202]=0\n",
    "labels[202:404]=1\n",
    "labels[404:606]=2\n",
    "labels[606:]=3\n",
    "\t  \n",
    "names = ['cats','dogs','horses','humans']"
   ]
  },
  {
   "cell_type": "code",
   "execution_count": 18,
   "metadata": {
    "collapsed": true
   },
   "outputs": [],
   "source": [
    "# convert class labels to on-hot encoding\n",
    "Y = np_utils.to_categorical(labels, num_classes)\n",
    "\n",
    "#Shuffle the dataset\n",
    "x,y = shuffle(img_data,Y, random_state=2)\n",
    "# Split the dataset\n",
    "X_train, X_test, y_train, y_test = train_test_split(x, y, test_size=0.2, random_state=2)"
   ]
  },
  {
   "cell_type": "code",
   "execution_count": 19,
   "metadata": {},
   "outputs": [
    {
     "name": "stdout",
     "output_type": "stream",
     "text": [
      "(3, 227, 227)\n"
     ]
    }
   ],
   "source": [
    "#%%\n",
    "# Defining the model\n",
    "input_shape=img_data[0].shape\n",
    "print(input_shape)"
   ]
  },
  {
   "cell_type": "code",
   "execution_count": 91,
   "metadata": {},
   "outputs": [],
   "source": [
    "model = Sequential()\n",
    "model.add(Conv2D(96, (11,11), strides=(4, 4), padding='valid',input_shape=input_shape))\n",
    "model.add(Activation('relu'))\n",
    "model.add(MaxPooling2D(pool_size=(3, 3), strides=(2,2), padding='valid', data_format=None))\n",
    "model.add(Conv2D(256, (5,5), strides=(1, 1), padding='same'))\n",
    "model.add(Activation('relu'))\n",
    "model.add(MaxPooling2D(pool_size=(3, 3), strides=(2,2), padding='valid', data_format=None))\n",
    "model.add(Conv2D(384, (3,3), strides=(1, 1), padding='valid'))\n",
    "model.add(Activation('relu'))\n",
    "model.add(Conv2D(384, (3,3), strides=(1, 1), padding='valid'))\n",
    "model.add(Activation('relu'))\n",
    "model.add(Conv2D(256, (3,3), strides=(1, 1), padding='same'))\n",
    "model.add(Activation('relu'))\n",
    "model.add(MaxPooling2D(pool_size=(3, 3), strides=(2,2), padding='valid', data_format=None))\n",
    "model.add(Flatten())\n",
    "model.add(Dense(4096))\n",
    "model.add(Activation('relu'))\n",
    "model.add(Dropout(0.9))\n",
    "model.add(Dense(4096))\n",
    "model.add(Activation('relu'))\n",
    "model.add(Dropout(0.9))\n",
    "model.add(Dense(num_classes))\n",
    "model.add(Activation('softmax'))"
   ]
  },
  {
   "cell_type": "code",
   "execution_count": 92,
   "metadata": {},
   "outputs": [
    {
     "name": "stdout",
     "output_type": "stream",
     "text": [
      "_________________________________________________________________\n",
      "Layer (type)                 Output Shape              Param #   \n",
      "=================================================================\n",
      "conv2d_61 (Conv2D)           (None, 96, 55, 55)        34944     \n",
      "_________________________________________________________________\n",
      "activation_87 (Activation)   (None, 96, 55, 55)        0         \n",
      "_________________________________________________________________\n",
      "max_pooling2d_37 (MaxPooling (None, 96, 27, 27)        0         \n",
      "_________________________________________________________________\n",
      "conv2d_62 (Conv2D)           (None, 256, 27, 27)       614656    \n",
      "_________________________________________________________________\n",
      "activation_88 (Activation)   (None, 256, 27, 27)       0         \n",
      "_________________________________________________________________\n",
      "max_pooling2d_38 (MaxPooling (None, 256, 13, 13)       0         \n",
      "_________________________________________________________________\n",
      "conv2d_63 (Conv2D)           (None, 384, 11, 11)       885120    \n",
      "_________________________________________________________________\n",
      "activation_89 (Activation)   (None, 384, 11, 11)       0         \n",
      "_________________________________________________________________\n",
      "conv2d_64 (Conv2D)           (None, 384, 9, 9)         1327488   \n",
      "_________________________________________________________________\n",
      "activation_90 (Activation)   (None, 384, 9, 9)         0         \n",
      "_________________________________________________________________\n",
      "conv2d_65 (Conv2D)           (None, 256, 9, 9)         884992    \n",
      "_________________________________________________________________\n",
      "activation_91 (Activation)   (None, 256, 9, 9)         0         \n",
      "_________________________________________________________________\n",
      "max_pooling2d_39 (MaxPooling (None, 256, 4, 4)         0         \n",
      "_________________________________________________________________\n",
      "flatten_13 (Flatten)         (None, 4096)              0         \n",
      "_________________________________________________________________\n",
      "dense_27 (Dense)             (None, 4096)              16781312  \n",
      "_________________________________________________________________\n",
      "activation_92 (Activation)   (None, 4096)              0         \n",
      "_________________________________________________________________\n",
      "dropout_15 (Dropout)         (None, 4096)              0         \n",
      "_________________________________________________________________\n",
      "dense_28 (Dense)             (None, 4096)              16781312  \n",
      "_________________________________________________________________\n",
      "activation_93 (Activation)   (None, 4096)              0         \n",
      "_________________________________________________________________\n",
      "dropout_16 (Dropout)         (None, 4096)              0         \n",
      "_________________________________________________________________\n",
      "dense_29 (Dense)             (None, 4)                 16388     \n",
      "_________________________________________________________________\n",
      "activation_94 (Activation)   (None, 4)                 0         \n",
      "=================================================================\n",
      "Total params: 37,326,212\n",
      "Trainable params: 37,326,212\n",
      "Non-trainable params: 0\n",
      "_________________________________________________________________\n"
     ]
    }
   ],
   "source": [
    "model.summary()"
   ]
  },
  {
   "cell_type": "code",
   "execution_count": 93,
   "metadata": {},
   "outputs": [
    {
     "data": {
      "text/plain": [
       "[{'class_name': 'Conv2D',\n",
       "  'config': {'activation': 'linear',\n",
       "   'activity_regularizer': None,\n",
       "   'batch_input_shape': (None, 3, 227, 227),\n",
       "   'bias_constraint': None,\n",
       "   'bias_initializer': {'class_name': 'Zeros', 'config': {}},\n",
       "   'bias_regularizer': None,\n",
       "   'data_format': 'channels_first',\n",
       "   'dilation_rate': (1, 1),\n",
       "   'dtype': 'float32',\n",
       "   'filters': 96,\n",
       "   'kernel_constraint': None,\n",
       "   'kernel_initializer': {'class_name': 'VarianceScaling',\n",
       "    'config': {'distribution': 'uniform',\n",
       "     'mode': 'fan_avg',\n",
       "     'scale': 1.0,\n",
       "     'seed': None}},\n",
       "   'kernel_regularizer': None,\n",
       "   'kernel_size': (11, 11),\n",
       "   'name': 'conv2d_61',\n",
       "   'padding': 'valid',\n",
       "   'strides': (4, 4),\n",
       "   'trainable': True,\n",
       "   'use_bias': True}},\n",
       " {'class_name': 'Activation',\n",
       "  'config': {'activation': 'relu',\n",
       "   'name': 'activation_87',\n",
       "   'trainable': True}},\n",
       " {'class_name': 'MaxPooling2D',\n",
       "  'config': {'data_format': 'channels_first',\n",
       "   'name': 'max_pooling2d_37',\n",
       "   'padding': 'valid',\n",
       "   'pool_size': (3, 3),\n",
       "   'strides': (2, 2),\n",
       "   'trainable': True}},\n",
       " {'class_name': 'Conv2D',\n",
       "  'config': {'activation': 'linear',\n",
       "   'activity_regularizer': None,\n",
       "   'bias_constraint': None,\n",
       "   'bias_initializer': {'class_name': 'Zeros', 'config': {}},\n",
       "   'bias_regularizer': None,\n",
       "   'data_format': 'channels_first',\n",
       "   'dilation_rate': (1, 1),\n",
       "   'filters': 256,\n",
       "   'kernel_constraint': None,\n",
       "   'kernel_initializer': {'class_name': 'VarianceScaling',\n",
       "    'config': {'distribution': 'uniform',\n",
       "     'mode': 'fan_avg',\n",
       "     'scale': 1.0,\n",
       "     'seed': None}},\n",
       "   'kernel_regularizer': None,\n",
       "   'kernel_size': (5, 5),\n",
       "   'name': 'conv2d_62',\n",
       "   'padding': 'same',\n",
       "   'strides': (1, 1),\n",
       "   'trainable': True,\n",
       "   'use_bias': True}},\n",
       " {'class_name': 'Activation',\n",
       "  'config': {'activation': 'relu',\n",
       "   'name': 'activation_88',\n",
       "   'trainable': True}},\n",
       " {'class_name': 'MaxPooling2D',\n",
       "  'config': {'data_format': 'channels_first',\n",
       "   'name': 'max_pooling2d_38',\n",
       "   'padding': 'valid',\n",
       "   'pool_size': (3, 3),\n",
       "   'strides': (2, 2),\n",
       "   'trainable': True}},\n",
       " {'class_name': 'Conv2D',\n",
       "  'config': {'activation': 'linear',\n",
       "   'activity_regularizer': None,\n",
       "   'bias_constraint': None,\n",
       "   'bias_initializer': {'class_name': 'Zeros', 'config': {}},\n",
       "   'bias_regularizer': None,\n",
       "   'data_format': 'channels_first',\n",
       "   'dilation_rate': (1, 1),\n",
       "   'filters': 384,\n",
       "   'kernel_constraint': None,\n",
       "   'kernel_initializer': {'class_name': 'VarianceScaling',\n",
       "    'config': {'distribution': 'uniform',\n",
       "     'mode': 'fan_avg',\n",
       "     'scale': 1.0,\n",
       "     'seed': None}},\n",
       "   'kernel_regularizer': None,\n",
       "   'kernel_size': (3, 3),\n",
       "   'name': 'conv2d_63',\n",
       "   'padding': 'valid',\n",
       "   'strides': (1, 1),\n",
       "   'trainable': True,\n",
       "   'use_bias': True}},\n",
       " {'class_name': 'Activation',\n",
       "  'config': {'activation': 'relu',\n",
       "   'name': 'activation_89',\n",
       "   'trainable': True}},\n",
       " {'class_name': 'Conv2D',\n",
       "  'config': {'activation': 'linear',\n",
       "   'activity_regularizer': None,\n",
       "   'bias_constraint': None,\n",
       "   'bias_initializer': {'class_name': 'Zeros', 'config': {}},\n",
       "   'bias_regularizer': None,\n",
       "   'data_format': 'channels_first',\n",
       "   'dilation_rate': (1, 1),\n",
       "   'filters': 384,\n",
       "   'kernel_constraint': None,\n",
       "   'kernel_initializer': {'class_name': 'VarianceScaling',\n",
       "    'config': {'distribution': 'uniform',\n",
       "     'mode': 'fan_avg',\n",
       "     'scale': 1.0,\n",
       "     'seed': None}},\n",
       "   'kernel_regularizer': None,\n",
       "   'kernel_size': (3, 3),\n",
       "   'name': 'conv2d_64',\n",
       "   'padding': 'valid',\n",
       "   'strides': (1, 1),\n",
       "   'trainable': True,\n",
       "   'use_bias': True}},\n",
       " {'class_name': 'Activation',\n",
       "  'config': {'activation': 'relu',\n",
       "   'name': 'activation_90',\n",
       "   'trainable': True}},\n",
       " {'class_name': 'Conv2D',\n",
       "  'config': {'activation': 'linear',\n",
       "   'activity_regularizer': None,\n",
       "   'bias_constraint': None,\n",
       "   'bias_initializer': {'class_name': 'Zeros', 'config': {}},\n",
       "   'bias_regularizer': None,\n",
       "   'data_format': 'channels_first',\n",
       "   'dilation_rate': (1, 1),\n",
       "   'filters': 256,\n",
       "   'kernel_constraint': None,\n",
       "   'kernel_initializer': {'class_name': 'VarianceScaling',\n",
       "    'config': {'distribution': 'uniform',\n",
       "     'mode': 'fan_avg',\n",
       "     'scale': 1.0,\n",
       "     'seed': None}},\n",
       "   'kernel_regularizer': None,\n",
       "   'kernel_size': (3, 3),\n",
       "   'name': 'conv2d_65',\n",
       "   'padding': 'same',\n",
       "   'strides': (1, 1),\n",
       "   'trainable': True,\n",
       "   'use_bias': True}},\n",
       " {'class_name': 'Activation',\n",
       "  'config': {'activation': 'relu',\n",
       "   'name': 'activation_91',\n",
       "   'trainable': True}},\n",
       " {'class_name': 'MaxPooling2D',\n",
       "  'config': {'data_format': 'channels_first',\n",
       "   'name': 'max_pooling2d_39',\n",
       "   'padding': 'valid',\n",
       "   'pool_size': (3, 3),\n",
       "   'strides': (2, 2),\n",
       "   'trainable': True}},\n",
       " {'class_name': 'Flatten',\n",
       "  'config': {'name': 'flatten_13', 'trainable': True}},\n",
       " {'class_name': 'Dense',\n",
       "  'config': {'activation': 'linear',\n",
       "   'activity_regularizer': None,\n",
       "   'bias_constraint': None,\n",
       "   'bias_initializer': {'class_name': 'Zeros', 'config': {}},\n",
       "   'bias_regularizer': None,\n",
       "   'kernel_constraint': None,\n",
       "   'kernel_initializer': {'class_name': 'VarianceScaling',\n",
       "    'config': {'distribution': 'uniform',\n",
       "     'mode': 'fan_avg',\n",
       "     'scale': 1.0,\n",
       "     'seed': None}},\n",
       "   'kernel_regularizer': None,\n",
       "   'name': 'dense_27',\n",
       "   'trainable': True,\n",
       "   'units': 4096,\n",
       "   'use_bias': True}},\n",
       " {'class_name': 'Activation',\n",
       "  'config': {'activation': 'relu',\n",
       "   'name': 'activation_92',\n",
       "   'trainable': True}},\n",
       " {'class_name': 'Dropout',\n",
       "  'config': {'name': 'dropout_15',\n",
       "   'noise_shape': None,\n",
       "   'rate': 0.9,\n",
       "   'seed': None,\n",
       "   'trainable': True}},\n",
       " {'class_name': 'Dense',\n",
       "  'config': {'activation': 'linear',\n",
       "   'activity_regularizer': None,\n",
       "   'bias_constraint': None,\n",
       "   'bias_initializer': {'class_name': 'Zeros', 'config': {}},\n",
       "   'bias_regularizer': None,\n",
       "   'kernel_constraint': None,\n",
       "   'kernel_initializer': {'class_name': 'VarianceScaling',\n",
       "    'config': {'distribution': 'uniform',\n",
       "     'mode': 'fan_avg',\n",
       "     'scale': 1.0,\n",
       "     'seed': None}},\n",
       "   'kernel_regularizer': None,\n",
       "   'name': 'dense_28',\n",
       "   'trainable': True,\n",
       "   'units': 4096,\n",
       "   'use_bias': True}},\n",
       " {'class_name': 'Activation',\n",
       "  'config': {'activation': 'relu',\n",
       "   'name': 'activation_93',\n",
       "   'trainable': True}},\n",
       " {'class_name': 'Dropout',\n",
       "  'config': {'name': 'dropout_16',\n",
       "   'noise_shape': None,\n",
       "   'rate': 0.9,\n",
       "   'seed': None,\n",
       "   'trainable': True}},\n",
       " {'class_name': 'Dense',\n",
       "  'config': {'activation': 'linear',\n",
       "   'activity_regularizer': None,\n",
       "   'bias_constraint': None,\n",
       "   'bias_initializer': {'class_name': 'Zeros', 'config': {}},\n",
       "   'bias_regularizer': None,\n",
       "   'kernel_constraint': None,\n",
       "   'kernel_initializer': {'class_name': 'VarianceScaling',\n",
       "    'config': {'distribution': 'uniform',\n",
       "     'mode': 'fan_avg',\n",
       "     'scale': 1.0,\n",
       "     'seed': None}},\n",
       "   'kernel_regularizer': None,\n",
       "   'name': 'dense_29',\n",
       "   'trainable': True,\n",
       "   'units': 4,\n",
       "   'use_bias': True}},\n",
       " {'class_name': 'Activation',\n",
       "  'config': {'activation': 'softmax',\n",
       "   'name': 'activation_94',\n",
       "   'trainable': True}}]"
      ]
     },
     "execution_count": 93,
     "metadata": {},
     "output_type": "execute_result"
    }
   ],
   "source": [
    "model.get_config()"
   ]
  },
  {
   "cell_type": "code",
   "execution_count": 94,
   "metadata": {},
   "outputs": [
    {
     "data": {
      "text/plain": [
       "{'activation': 'linear',\n",
       " 'activity_regularizer': None,\n",
       " 'batch_input_shape': (None, 3, 227, 227),\n",
       " 'bias_constraint': None,\n",
       " 'bias_initializer': {'class_name': 'Zeros', 'config': {}},\n",
       " 'bias_regularizer': None,\n",
       " 'data_format': 'channels_first',\n",
       " 'dilation_rate': (1, 1),\n",
       " 'dtype': 'float32',\n",
       " 'filters': 96,\n",
       " 'kernel_constraint': None,\n",
       " 'kernel_initializer': {'class_name': 'VarianceScaling',\n",
       "  'config': {'distribution': 'uniform',\n",
       "   'mode': 'fan_avg',\n",
       "   'scale': 1.0,\n",
       "   'seed': None}},\n",
       " 'kernel_regularizer': None,\n",
       " 'kernel_size': (11, 11),\n",
       " 'name': 'conv2d_61',\n",
       " 'padding': 'valid',\n",
       " 'strides': (4, 4),\n",
       " 'trainable': True,\n",
       " 'use_bias': True}"
      ]
     },
     "execution_count": 94,
     "metadata": {},
     "output_type": "execute_result"
    }
   ],
   "source": [
    "model.layers[0].get_config()"
   ]
  },
  {
   "cell_type": "code",
   "execution_count": 95,
   "metadata": {},
   "outputs": [
    {
     "data": {
      "text/plain": [
       "(None, 3, 227, 227)"
      ]
     },
     "execution_count": 95,
     "metadata": {},
     "output_type": "execute_result"
    }
   ],
   "source": [
    "model.layers[0].input_shape"
   ]
  },
  {
   "cell_type": "code",
   "execution_count": 96,
   "metadata": {},
   "outputs": [
    {
     "data": {
      "text/plain": [
       "(None, 96, 55, 55)"
      ]
     },
     "execution_count": 96,
     "metadata": {},
     "output_type": "execute_result"
    }
   ],
   "source": [
    "model.layers[0].output_shape"
   ]
  },
  {
   "cell_type": "code",
   "execution_count": 97,
   "metadata": {},
   "outputs": [
    {
     "data": {
      "text/plain": [
       "[array([[[[  1.78e-02,   1.80e-02,   5.65e-03, ...,  -1.05e-02,  -8.39e-03,\n",
       "            -4.63e-03],\n",
       "          [  4.82e-03,  -3.79e-03,  -4.87e-03, ...,   1.77e-02,  -1.71e-02,\n",
       "            -2.13e-02],\n",
       "          [  3.99e-03,  -1.40e-02,   1.31e-02, ...,   1.48e-02,   1.72e-02,\n",
       "            -8.71e-03]],\n",
       " \n",
       "         [[ -8.59e-03,   2.20e-02,  -1.72e-02, ...,   1.05e-02,  -1.63e-02,\n",
       "             2.20e-02],\n",
       "          [ -2.55e-03,  -2.06e-02,  -1.95e-02, ...,   1.81e-05,  -5.88e-03,\n",
       "            -1.66e-02],\n",
       "          [ -2.98e-03,  -1.22e-02,  -9.43e-03, ...,  -1.35e-02,  -6.39e-03,\n",
       "            -2.93e-03]],\n",
       " \n",
       "         [[ -1.83e-02,   9.73e-03,   2.19e-02, ...,   4.86e-03,  -2.07e-02,\n",
       "             1.59e-02],\n",
       "          [  2.18e-02,  -1.07e-02,  -1.62e-02, ...,  -9.03e-03,  -1.50e-02,\n",
       "            -1.62e-02],\n",
       "          [  1.43e-02,  -9.51e-03,  -4.62e-03, ...,   1.27e-02,  -4.29e-03,\n",
       "            -9.46e-03]],\n",
       " \n",
       "         ..., \n",
       "         [[ -7.07e-03,  -3.17e-03,  -1.40e-02, ...,   2.15e-02,   6.76e-03,\n",
       "            -1.32e-02],\n",
       "          [ -1.42e-02,   1.63e-02,  -7.65e-03, ...,  -6.35e-04,   8.65e-03,\n",
       "            -1.78e-02],\n",
       "          [ -1.30e-02,   2.07e-03,  -2.21e-02, ...,   3.72e-03,   1.98e-02,\n",
       "             1.87e-02]],\n",
       " \n",
       "         [[ -2.09e-02,  -1.58e-02,   2.17e-02, ...,   1.10e-02,   4.28e-03,\n",
       "            -1.61e-02],\n",
       "          [ -1.76e-02,  -1.90e-02,   1.15e-02, ...,   1.33e-04,   1.02e-02,\n",
       "             5.33e-03],\n",
       "          [  2.14e-02,   1.83e-02,  -3.74e-03, ...,   1.66e-02,   1.85e-02,\n",
       "            -7.47e-03]],\n",
       " \n",
       "         [[  1.43e-02,  -1.64e-02,   2.05e-02, ...,  -6.36e-03,   1.82e-02,\n",
       "            -2.87e-04],\n",
       "          [  2.07e-02,   6.89e-04,   5.10e-03, ...,   3.41e-03,  -7.39e-03,\n",
       "             9.06e-03],\n",
       "          [  1.98e-02,  -1.72e-02,   1.15e-02, ...,   2.04e-03,   1.56e-03,\n",
       "             2.06e-02]]],\n",
       " \n",
       " \n",
       "        [[[  7.49e-03,  -1.79e-02,   2.03e-02, ...,   1.19e-02,   2.12e-02,\n",
       "            -8.54e-03],\n",
       "          [ -1.15e-02,   1.03e-02,  -1.73e-02, ...,  -1.68e-02,   3.27e-03,\n",
       "             6.39e-03],\n",
       "          [ -1.43e-02,  -1.65e-02,  -1.46e-02, ...,   1.86e-02,  -1.06e-02,\n",
       "             1.59e-02]],\n",
       " \n",
       "         [[  2.58e-03,   2.21e-02,  -1.47e-02, ...,  -3.94e-03,  -3.78e-03,\n",
       "            -1.27e-02],\n",
       "          [ -1.82e-02,   7.79e-03,   1.90e-02, ...,  -9.06e-03,  -4.73e-03,\n",
       "             4.18e-03],\n",
       "          [ -1.08e-02,   1.68e-02,  -1.48e-02, ...,   4.06e-03,   1.37e-02,\n",
       "             2.13e-02]],\n",
       " \n",
       "         [[  9.94e-03,   6.15e-03,  -1.88e-02, ...,   1.44e-03,   4.06e-03,\n",
       "             1.66e-02],\n",
       "          [ -1.32e-02,  -9.18e-03,   1.12e-02, ...,  -2.26e-03,   4.09e-03,\n",
       "            -1.71e-02],\n",
       "          [  6.75e-03,  -9.77e-03,   4.17e-03, ...,  -2.02e-02,  -1.17e-02,\n",
       "            -2.09e-02]],\n",
       " \n",
       "         ..., \n",
       "         [[  3.89e-03,   1.27e-03,   1.16e-02, ...,  -1.01e-02,  -7.78e-04,\n",
       "            -6.69e-03],\n",
       "          [ -1.25e-02,  -1.13e-03,  -1.75e-02, ...,   1.62e-02,   1.11e-02,\n",
       "             7.93e-04],\n",
       "          [ -1.20e-02,   1.27e-02,  -6.07e-03, ...,   1.29e-02,  -1.89e-02,\n",
       "             1.68e-02]],\n",
       " \n",
       "         [[ -1.48e-02,  -1.59e-02,   2.94e-04, ...,  -2.07e-02,  -4.00e-03,\n",
       "             4.75e-03],\n",
       "          [ -1.05e-02,   1.40e-02,  -1.84e-02, ...,  -2.44e-04,  -2.10e-02,\n",
       "             9.30e-03],\n",
       "          [ -2.20e-02,  -4.32e-04,  -7.69e-03, ...,   7.54e-04,  -1.40e-02,\n",
       "            -4.30e-03]],\n",
       " \n",
       "         [[  1.77e-02,  -4.03e-03,  -2.06e-03, ...,   3.97e-03,  -7.05e-03,\n",
       "            -1.41e-02],\n",
       "          [ -1.70e-02,  -2.16e-02,   1.45e-02, ...,  -5.95e-03,   1.00e-02,\n",
       "            -1.50e-02],\n",
       "          [ -1.77e-02,  -1.73e-02,   1.74e-02, ...,   7.73e-03,   4.37e-04,\n",
       "            -6.74e-03]]],\n",
       " \n",
       " \n",
       "        [[[ -1.77e-02,  -1.62e-02,  -1.79e-02, ...,   5.37e-03,   6.25e-03,\n",
       "             1.53e-02],\n",
       "          [  6.56e-03,   7.28e-03,   1.26e-02, ...,  -7.01e-03,  -1.51e-03,\n",
       "            -2.37e-03],\n",
       "          [ -1.66e-02,   7.11e-03,   1.27e-02, ...,  -1.52e-02,   1.18e-02,\n",
       "             1.38e-02]],\n",
       " \n",
       "         [[  2.44e-03,  -5.18e-03,   1.73e-02, ...,   1.11e-02,  -1.64e-02,\n",
       "             4.07e-03],\n",
       "          [  7.58e-03,   1.64e-02,   8.23e-03, ...,   1.84e-02,   7.87e-04,\n",
       "             1.58e-02],\n",
       "          [ -1.72e-02,  -1.67e-02,   1.77e-02, ...,   1.88e-02,   6.77e-03,\n",
       "            -1.95e-02]],\n",
       " \n",
       "         [[ -1.39e-02,   9.11e-03,  -1.58e-02, ...,   7.88e-03,   1.56e-02,\n",
       "            -2.42e-03],\n",
       "          [ -1.57e-02,   6.33e-03,   1.81e-02, ...,   1.81e-02,  -1.32e-02,\n",
       "            -2.52e-03],\n",
       "          [  1.49e-02,   9.46e-03,  -2.19e-02, ...,  -8.45e-03,  -1.84e-02,\n",
       "             6.41e-03]],\n",
       " \n",
       "         ..., \n",
       "         [[ -1.97e-02,   8.88e-05,  -2.82e-03, ...,  -1.13e-02,   9.68e-03,\n",
       "             2.07e-02],\n",
       "          [  1.26e-02,  -1.67e-02,  -4.90e-03, ...,   2.09e-02,   1.43e-02,\n",
       "             1.40e-02],\n",
       "          [  1.40e-02,   7.08e-03,  -6.52e-03, ...,   1.27e-03,  -2.04e-02,\n",
       "            -6.40e-03]],\n",
       " \n",
       "         [[ -8.99e-03,  -3.64e-03,   1.78e-02, ...,  -4.79e-03,  -1.39e-02,\n",
       "             1.07e-02],\n",
       "          [  8.82e-03,  -1.29e-03,  -6.04e-03, ...,  -2.23e-02,  -2.42e-03,\n",
       "            -1.30e-02],\n",
       "          [ -1.55e-03,   2.14e-02,   1.93e-02, ...,  -1.76e-02,   2.67e-03,\n",
       "             1.50e-02]],\n",
       " \n",
       "         [[  1.35e-02,  -1.13e-02,   2.16e-02, ...,   5.30e-03,   1.75e-02,\n",
       "            -5.51e-04],\n",
       "          [ -1.43e-02,   5.58e-04,  -1.72e-03, ...,   1.93e-02,  -1.73e-02,\n",
       "             9.83e-03],\n",
       "          [ -1.47e-02,   1.02e-02,   1.95e-03, ...,  -1.70e-02,   1.84e-02,\n",
       "             1.80e-02]]],\n",
       " \n",
       " \n",
       "        ..., \n",
       "        [[[  1.88e-02,   2.15e-02,   1.27e-02, ...,  -1.10e-03,  -7.85e-03,\n",
       "             6.43e-03],\n",
       "          [  1.53e-02,   5.96e-03,   1.39e-02, ...,   6.30e-03,  -4.62e-03,\n",
       "             9.49e-03],\n",
       "          [  2.19e-02,   2.03e-02,  -4.01e-03, ...,  -1.52e-02,   1.78e-02,\n",
       "             2.46e-03]],\n",
       " \n",
       "         [[ -5.23e-03,   1.10e-02,   2.12e-02, ...,   5.42e-03,   1.72e-02,\n",
       "             1.89e-02],\n",
       "          [  1.29e-02,  -8.10e-03,  -2.89e-03, ...,  -8.64e-03,   3.66e-03,\n",
       "             4.30e-03],\n",
       "          [ -1.24e-02,  -8.22e-03,  -2.10e-02, ...,   1.49e-02,  -9.40e-03,\n",
       "             5.16e-03]],\n",
       " \n",
       "         [[ -1.33e-02,   1.14e-02,  -1.57e-02, ...,   1.85e-02,   1.54e-02,\n",
       "            -1.67e-02],\n",
       "          [  4.88e-03,  -1.70e-02,   2.14e-02, ...,  -5.65e-03,  -2.06e-02,\n",
       "            -2.09e-02],\n",
       "          [ -1.76e-02,  -1.39e-02,  -6.60e-04, ...,   1.56e-02,   8.06e-04,\n",
       "            -1.40e-02]],\n",
       " \n",
       "         ..., \n",
       "         [[  1.61e-02,   6.55e-03,   1.03e-02, ...,  -7.65e-03,   2.21e-02,\n",
       "            -1.16e-02],\n",
       "          [  1.09e-02,   8.30e-03,   7.73e-03, ...,  -1.08e-03,  -2.46e-03,\n",
       "            -2.01e-02],\n",
       "          [  1.50e-02,   2.53e-03,   2.20e-02, ...,   1.57e-03,   8.16e-03,\n",
       "            -6.80e-03]],\n",
       " \n",
       "         [[ -1.67e-02,  -7.73e-03,  -3.94e-04, ...,  -1.06e-02,  -1.45e-03,\n",
       "            -2.12e-02],\n",
       "          [ -7.59e-03,  -2.16e-03,   1.42e-02, ...,  -4.86e-03,   2.53e-03,\n",
       "            -1.71e-02],\n",
       "          [ -1.39e-02,   9.59e-03,   7.04e-03, ...,   8.90e-03,   2.23e-03,\n",
       "            -6.88e-03]],\n",
       " \n",
       "         [[  1.70e-02,  -7.74e-03,   1.93e-02, ...,  -1.77e-02,   2.08e-02,\n",
       "             2.11e-03],\n",
       "          [ -7.38e-03,   1.68e-02,  -1.46e-02, ...,   5.67e-04,  -1.17e-02,\n",
       "             1.03e-02],\n",
       "          [ -1.77e-02,   9.18e-03,  -5.16e-03, ...,   7.77e-03,  -2.04e-02,\n",
       "             1.77e-02]]],\n",
       " \n",
       " \n",
       "        [[[ -1.02e-02,  -2.16e-03,   1.70e-02, ...,   1.90e-02,   1.80e-02,\n",
       "            -1.71e-02],\n",
       "          [  9.74e-03,  -1.83e-02,  -6.64e-03, ...,   5.79e-03,  -1.41e-02,\n",
       "             1.33e-02],\n",
       "          [ -1.61e-02,   1.04e-03,  -1.64e-03, ...,  -1.62e-02,  -3.37e-03,\n",
       "            -1.37e-02]],\n",
       " \n",
       "         [[  3.92e-03,   1.31e-02,   1.40e-02, ...,   1.30e-02,  -6.53e-03,\n",
       "            -1.66e-02],\n",
       "          [  3.13e-03,   2.08e-02,   1.75e-02, ...,   1.28e-03,   4.02e-03,\n",
       "            -5.60e-03],\n",
       "          [  1.62e-03,  -7.92e-03,   2.01e-02, ...,  -2.08e-02,   1.77e-02,\n",
       "            -1.84e-02]],\n",
       " \n",
       "         [[  2.13e-02,   1.39e-02,  -7.07e-03, ...,   1.43e-02,  -2.15e-02,\n",
       "             1.09e-02],\n",
       "          [  2.21e-02,  -6.51e-03,   1.29e-02, ...,  -7.30e-03,   3.60e-03,\n",
       "            -1.11e-02],\n",
       "          [ -1.67e-02,   2.09e-02,   2.23e-02, ...,   9.31e-03,  -5.62e-03,\n",
       "            -4.81e-03]],\n",
       " \n",
       "         ..., \n",
       "         [[  2.10e-02,   2.00e-02,  -4.30e-03, ...,   2.18e-02,  -1.54e-02,\n",
       "            -9.39e-03],\n",
       "          [  1.63e-02,  -1.53e-03,   1.20e-02, ...,  -1.79e-02,  -2.03e-02,\n",
       "            -5.59e-03],\n",
       "          [ -2.16e-02,  -1.12e-02,   1.38e-02, ...,   1.42e-02,   1.75e-03,\n",
       "             1.23e-02]],\n",
       " \n",
       "         [[ -9.53e-03,   1.89e-03,   2.22e-02, ...,  -1.39e-02,  -1.94e-02,\n",
       "             6.26e-03],\n",
       "          [  1.88e-02,  -1.86e-02,   1.37e-02, ...,   1.96e-03,   1.48e-02,\n",
       "             3.94e-03],\n",
       "          [  6.60e-03,  -1.14e-02,  -3.32e-03, ...,   2.12e-03,  -2.69e-03,\n",
       "             2.01e-02]],\n",
       " \n",
       "         [[  8.84e-04,  -9.94e-04,   7.40e-03, ...,   1.55e-02,  -8.50e-03,\n",
       "            -1.22e-02],\n",
       "          [ -1.65e-03,   1.86e-02,  -3.57e-03, ...,   2.03e-02,  -2.13e-02,\n",
       "             1.33e-02],\n",
       "          [  1.90e-02,   8.55e-03,  -9.18e-03, ...,   1.55e-02,  -1.36e-02,\n",
       "             2.14e-02]]],\n",
       " \n",
       " \n",
       "        [[[  2.14e-02,  -2.16e-03,  -3.95e-03, ...,  -8.43e-03,  -1.99e-02,\n",
       "            -1.97e-02],\n",
       "          [ -8.86e-03,  -1.36e-02,  -1.15e-02, ...,   1.15e-02,   1.13e-02,\n",
       "             1.51e-02],\n",
       "          [ -7.92e-03,   7.79e-03,   1.67e-02, ...,  -6.91e-03,  -8.99e-03,\n",
       "            -1.90e-02]],\n",
       " \n",
       "         [[ -1.19e-02,  -1.89e-02,   6.35e-03, ...,   1.31e-02,  -1.63e-02,\n",
       "            -4.24e-03],\n",
       "          [  1.61e-02,  -1.67e-02,   1.89e-02, ...,  -1.77e-03,  -3.19e-03,\n",
       "             2.09e-02],\n",
       "          [  1.43e-03,   1.22e-03,  -3.64e-03, ...,  -1.60e-02,  -4.02e-03,\n",
       "            -2.05e-02]],\n",
       " \n",
       "         [[  1.81e-02,  -1.41e-03,  -1.09e-02, ...,  -1.29e-02,  -1.48e-02,\n",
       "             1.98e-02],\n",
       "          [ -1.10e-02,   1.37e-02,   2.16e-02, ...,  -1.10e-02,   1.69e-02,\n",
       "             1.54e-02],\n",
       "          [  1.53e-02,  -1.03e-03,  -6.34e-03, ...,  -1.82e-02,   7.60e-03,\n",
       "             3.31e-03]],\n",
       " \n",
       "         ..., \n",
       "         [[  6.46e-03,   1.11e-02,  -2.17e-02, ...,  -1.71e-02,   1.58e-02,\n",
       "            -1.76e-02],\n",
       "          [  9.66e-03,  -1.70e-02,  -5.37e-03, ...,  -1.62e-02,   1.59e-03,\n",
       "            -1.27e-02],\n",
       "          [ -1.64e-02,  -4.53e-03,   9.84e-03, ...,  -2.90e-03,  -1.03e-02,\n",
       "            -9.13e-03]],\n",
       " \n",
       "         [[  6.69e-03,   1.87e-02,   1.05e-03, ...,   1.75e-03,   1.73e-03,\n",
       "             1.30e-02],\n",
       "          [ -1.93e-02,   6.62e-03,   7.95e-03, ...,  -7.91e-03,  -2.75e-03,\n",
       "            -1.34e-02],\n",
       "          [ -2.35e-03,   1.42e-02,   1.41e-02, ...,  -8.68e-03,   7.66e-03,\n",
       "             6.23e-03]],\n",
       " \n",
       "         [[  1.91e-03,  -1.66e-02,   1.46e-02, ...,  -2.02e-02,   1.80e-02,\n",
       "            -1.02e-02],\n",
       "          [ -1.33e-02,  -1.22e-02,  -1.65e-02, ...,   2.23e-03,  -1.15e-02,\n",
       "            -5.40e-03],\n",
       "          [ -3.45e-03,   1.44e-02,  -2.72e-03, ...,  -2.42e-03,  -1.05e-02,\n",
       "             1.45e-02]]]], dtype=float32),\n",
       " array([ 0.,  0.,  0.,  0.,  0.,  0.,  0.,  0.,  0.,  0.,  0.,  0.,  0.,\n",
       "         0.,  0.,  0.,  0.,  0.,  0.,  0.,  0.,  0.,  0.,  0.,  0.,  0.,\n",
       "         0.,  0.,  0.,  0.,  0.,  0.,  0.,  0.,  0.,  0.,  0.,  0.,  0.,\n",
       "         0.,  0.,  0.,  0.,  0.,  0.,  0.,  0.,  0.,  0.,  0.,  0.,  0.,\n",
       "         0.,  0.,  0.,  0.,  0.,  0.,  0.,  0.,  0.,  0.,  0.,  0.,  0.,\n",
       "         0.,  0.,  0.,  0.,  0.,  0.,  0.,  0.,  0.,  0.,  0.,  0.,  0.,\n",
       "         0.,  0.,  0.,  0.,  0.,  0.,  0.,  0.,  0.,  0.,  0.,  0.,  0.,\n",
       "         0.,  0.,  0.,  0.,  0.], dtype=float32)]"
      ]
     },
     "execution_count": 97,
     "metadata": {},
     "output_type": "execute_result"
    }
   ],
   "source": [
    "model.layers[0].get_weights()"
   ]
  },
  {
   "cell_type": "code",
   "execution_count": 98,
   "metadata": {},
   "outputs": [
    {
     "data": {
      "text/plain": [
       "(11, 11, 3, 96)"
      ]
     },
     "execution_count": 98,
     "metadata": {},
     "output_type": "execute_result"
    }
   ],
   "source": [
    "np.shape(model.layers[0].get_weights()[0])"
   ]
  },
  {
   "cell_type": "code",
   "execution_count": 99,
   "metadata": {},
   "outputs": [
    {
     "data": {
      "text/plain": [
       "True"
      ]
     },
     "execution_count": 99,
     "metadata": {},
     "output_type": "execute_result"
    }
   ],
   "source": [
    "model.layers[0].trainable"
   ]
  },
  {
   "cell_type": "code",
   "execution_count": 100,
   "metadata": {
    "collapsed": true
   },
   "outputs": [],
   "source": [
    "#sgd = SGD(lr=0.01, decay=1e-6, momentum=0.9, nesterov=True)\n",
    "#model.compile(loss='categorical_crossentropy', optimizer=sgd,metrics=[\"accuracy\"])\n",
    "model.compile(loss='categorical_crossentropy', optimizer='rmsprop',metrics=[\"accuracy\"])\n"
   ]
  },
  {
   "cell_type": "code",
   "execution_count": 101,
   "metadata": {},
   "outputs": [
    {
     "name": "stderr",
     "output_type": "stream",
     "text": [
      "C:\\Users\\Ravi\\Anaconda3\\envs\\theano_env\\lib\\site-packages\\keras\\models.py:939: UserWarning: The `nb_epoch` argument in `fit` has been renamed `epochs`.\n",
      "  warnings.warn('The `nb_epoch` argument in `fit` '\n"
     ]
    },
    {
     "name": "stdout",
     "output_type": "stream",
     "text": [
      "Train on 646 samples, validate on 162 samples\n",
      "Epoch 1/20\n",
      "646/646 [==============================] - 77s 119ms/step - loss: 5.7512 - acc: 0.2771 - val_loss: 1.4040 - val_acc: 0.2037\n",
      "Epoch 2/20\n",
      "646/646 [==============================] - 81s 125ms/step - loss: 1.4006 - acc: 0.2245 - val_loss: 1.3956 - val_acc: 0.2037\n",
      "Epoch 3/20\n",
      "646/646 [==============================] - 75s 116ms/step - loss: 1.4048 - acc: 0.2399 - val_loss: 1.3914 - val_acc: 0.2531\n",
      "Epoch 4/20\n",
      "646/646 [==============================] - 78s 121ms/step - loss: 1.4042 - acc: 0.2539 - val_loss: 1.3899 - val_acc: 0.2531\n",
      "Epoch 5/20\n",
      "646/646 [==============================] - 79s 123ms/step - loss: 1.7860 - acc: 0.2895 - val_loss: 1.4087 - val_acc: 0.2531\n",
      "Epoch 6/20\n",
      "646/646 [==============================] - 82s 127ms/step - loss: 1.4268 - acc: 0.2260 - val_loss: 1.3943 - val_acc: 0.2469\n",
      "Epoch 7/20\n",
      "646/646 [==============================] - 76s 117ms/step - loss: 1.4064 - acc: 0.2368 - val_loss: 1.3968 - val_acc: 0.2037\n",
      "Epoch 8/20\n",
      "646/646 [==============================] - 77s 120ms/step - loss: 1.4127 - acc: 0.2090 - val_loss: 1.4001 - val_acc: 0.2037\n",
      "Epoch 9/20\n",
      "646/646 [==============================] - 78s 121ms/step - loss: 1.3976 - acc: 0.2740 - val_loss: 1.3827 - val_acc: 0.2963\n",
      "Epoch 10/20\n",
      "646/646 [==============================] - 78s 120ms/step - loss: 1.3999 - acc: 0.2833 - val_loss: 1.3893 - val_acc: 0.2469\n",
      "Epoch 11/20\n",
      "646/646 [==============================] - 82s 126ms/step - loss: 1.4024 - acc: 0.2430 - val_loss: 1.3910 - val_acc: 0.2469\n",
      "Epoch 12/20\n",
      "646/646 [==============================] - 81s 126ms/step - loss: 1.4150 - acc: 0.2214 - val_loss: 1.3931 - val_acc: 0.2469\n",
      "Epoch 13/20\n",
      "646/646 [==============================] - 82s 128ms/step - loss: 1.4033 - acc: 0.2601 - val_loss: 1.3958 - val_acc: 0.2037\n",
      "Epoch 14/20\n",
      "646/646 [==============================] - 85s 131ms/step - loss: 1.4029 - acc: 0.2446 - val_loss: 1.3932 - val_acc: 0.2037\n",
      "Epoch 15/20\n",
      "646/646 [==============================] - 78s 121ms/step - loss: 1.4011 - acc: 0.2477 - val_loss: 1.3898 - val_acc: 0.2037\n",
      "Epoch 16/20\n",
      "646/646 [==============================] - 83s 129ms/step - loss: 1.3961 - acc: 0.2585 - val_loss: 1.3922 - val_acc: 0.2037\n",
      "Epoch 17/20\n",
      "646/646 [==============================] - 88s 137ms/step - loss: 1.4000 - acc: 0.2508 - val_loss: 1.3896 - val_acc: 0.2531\n",
      "Epoch 18/20\n",
      "646/646 [==============================] - 94s 146ms/step - loss: 1.3857 - acc: 0.2771 - val_loss: 1.3961 - val_acc: 0.2037\n",
      "Epoch 19/20\n",
      "646/646 [==============================] - 98s 152ms/step - loss: 1.4023 - acc: 0.2554 - val_loss: 1.3955 - val_acc: 0.2037\n",
      "Epoch 20/20\n",
      "646/646 [==============================] - 96s 149ms/step - loss: 1.3956 - acc: 0.2508 - val_loss: 1.3984 - val_acc: 0.2037\n"
     ]
    }
   ],
   "source": [
    "#%%\n",
    "# Training\n",
    "hist = model.fit(X_train, y_train, batch_size=16, nb_epoch=num_epoch, verbose=1, validation_data=(X_test, y_test))\n",
    "\n",
    "#hist = model.fit(X_train, y_train, batch_size=32, nb_epoch=20,verbose=1, validation_split=0.2)"
   ]
  },
  {
   "cell_type": "code",
   "execution_count": 102,
   "metadata": {},
   "outputs": [
    {
     "name": "stdout",
     "output_type": "stream",
     "text": [
      "Train on 646 samples, validate on 162 samples\n",
      "Epoch 1/20\n"
     ]
    },
    {
     "name": "stderr",
     "output_type": "stream",
     "text": [
      "C:\\Users\\Ravi\\Anaconda3\\envs\\theano_env\\lib\\site-packages\\keras\\models.py:939: UserWarning: The `nb_epoch` argument in `fit` has been renamed `epochs`.\n",
      "  warnings.warn('The `nb_epoch` argument in `fit` '\n"
     ]
    },
    {
     "name": "stdout",
     "output_type": "stream",
     "text": [
      "640/646 [============================>.] - ETA: 0s - loss: 1.3994 - acc: 0.2516Epoch 00001: val_loss improved from inf to 1.39455, saving model to Best-weights-my_model-001-1.3994-0.2523.hdf5\n",
      "646/646 [==============================] - 105s 162ms/step - loss: 1.3994 - acc: 0.2523 - val_loss: 1.3946 - val_acc: 0.2037\n",
      "Epoch 2/20\n",
      "640/646 [============================>.] - ETA: 0s - loss: 1.3982 - acc: 0.2406Epoch 00002: val_loss did not improve\n",
      "646/646 [==============================] - 99s 154ms/step - loss: 1.3979 - acc: 0.2415 - val_loss: 1.3954 - val_acc: 0.2037\n"
     ]
    }
   ],
   "source": [
    "# Training with callbacks\n",
    "from keras import callbacks\n",
    "\n",
    "filename='model_train_new.csv'\n",
    "csv_log=callbacks.CSVLogger(filename, separator=',', append=False)\n",
    "\n",
    "early_stopping=callbacks.EarlyStopping(monitor='val_loss', min_delta=0, patience=0, verbose=0, mode='min')\n",
    "\n",
    "filepath=\"Best-weights-my_model-{epoch:03d}-{loss:.4f}-{acc:.4f}.hdf5\"\n",
    "\n",
    "checkpoint = callbacks.ModelCheckpoint(filepath, monitor='val_loss', verbose=1, save_best_only=True, mode='min')\n",
    "\n",
    "callbacks_list = [csv_log,early_stopping,checkpoint]\n",
    "\n",
    "hist = model.fit(X_train, y_train, batch_size=16, nb_epoch=num_epoch, verbose=1, validation_data=(X_test, y_test),callbacks=callbacks_list)\n"
   ]
  },
  {
   "cell_type": "code",
   "execution_count": 103,
   "metadata": {},
   "outputs": [
    {
     "data": {
      "image/png": "[encoded data removed]",
      "text/plain": [
       "<matplotlib.figure.Figure at 0x21a23cea748>"
      ]
     },
     "metadata": {},
     "output_type": "display_data"
    }
   ],
   "source": [
    "# visualizing losses and accuracy\n",
    "train_loss=hist.history['loss']\n",
    "val_loss=hist.history['val_loss']\n",
    "train_acc=hist.history['acc']\n",
    "val_acc=hist.history['val_acc']\n",
    "xc=range(2)\n",
    "\n",
    "plt.figure(1,figsize=(7,5))\n",
    "plt.plot(xc,train_loss)\n",
    "plt.plot(xc,val_loss)\n",
    "\n",
    "\n",
    "plt.xlabel('num of Epochs')\n",
    "plt.ylabel('loss')\n",
    "plt.title('train_loss vs val_loss')\n",
    "plt.grid(True)\n",
    "plt.legend(['train','val'])\n",
    "#print plt.style.available # use bmh, classic,ggplot for big pictures\n",
    "plt.style.use(['classic'])\n",
    "plt.show()"
   ]
  },
  {
   "cell_type": "code",
   "execution_count": 104,
   "metadata": {},
   "outputs": [
    {
     "data": {
      "image/png": "[encoded data removed]",
      "text/plain": [
       "<matplotlib.figure.Figure at 0x21a56c1c7f0>"
      ]
     },
     "metadata": {},
     "output_type": "display_data"
    }
   ],
   "source": [
    "plt.figure(2,figsize=(7,5))\n",
    "plt.plot(xc,train_acc)\n",
    "plt.plot(xc,val_acc)\n",
    "\n",
    "plt.xlabel('num of Epochs')\n",
    "plt.ylabel('accuracy')\n",
    "plt.title('train_acc vs val_acc')\n",
    "plt.grid(True)\n",
    "plt.legend(['train','val'],loc=4)\n",
    "#print plt.style.available # use bmh, classic,ggplot for big pictures\n",
    "plt.style.use(['classic'])\n",
    "plt.show()"
   ]
  },
  {
   "cell_type": "code",
   "execution_count": 105,
   "metadata": {},
   "outputs": [
    {
     "name": "stdout",
     "output_type": "stream",
     "text": [
      "Test Loss: 1.39542580534\n",
      "Test accuracy: 0.203703703704\n",
      "(1, 3, 227, 227)\n",
      "[[ 0.24  0.25  0.27  0.24]]\n",
      "[2]\n",
      "[[ 0.  0.  1.  0.]]\n"
     ]
    }
   ],
   "source": [
    "# Evaluating the model\n",
    "\n",
    "score = model.evaluate(X_test, y_test, verbose=0)\n",
    "print('Test Loss:', score[0])\n",
    "print('Test accuracy:', score[1])\n",
    "\n",
    "test_image = X_test[0:1]\n",
    "print (test_image.shape)\n",
    "\n",
    "print(model.predict(test_image))\n",
    "print(model.predict_classes(test_image))\n",
    "print(y_test[0:1])"
   ]
  },
  {
   "cell_type": "code",
   "execution_count": 106,
   "metadata": {},
   "outputs": [
    {
     "name": "stdout",
     "output_type": "stream",
     "text": [
      "(227, 227, 3)\n"
     ]
    }
   ],
   "source": [
    "# Testing a new image\n",
    "test_image =cv2.imread('C:/Users/Ravi/Desktop/keras own data cnn_files/data/humans/rider-5.jpg.jpg')\n",
    "#test_image=cv2.cvtColor(test_image, cv2.COLOR_BGR2GRAY)\n",
    "#test_image=cv2.resize(test_image,(227,227))\n",
    "test_image = np.array(test_image)\n",
    "test_image = test_image.astype('float32')\n",
    "test_image /= 255\n",
    "print (test_image.shape)\n",
    "\n",
    "   "
   ]
  },
  {
   "cell_type": "code",
   "execution_count": 107,
   "metadata": {},
   "outputs": [
    {
     "name": "stdout",
     "output_type": "stream",
     "text": [
      "(1, 3, 227, 227)\n"
     ]
    }
   ],
   "source": [
    "if num_channel==1:\n",
    "\tif K.image_dim_ordering()=='th':\n",
    "\t\ttest_image= np.expand_dims(test_image, axis=0)\n",
    "\t\ttest_image= np.expand_dims(test_image, axis=0)\n",
    "\t\tprint (test_image.shape)\n",
    "\telse:\n",
    "\t\ttest_image= np.expand_dims(test_image, axis=3) \n",
    "\t\ttest_image= np.expand_dims(test_image, axis=0)\n",
    "\t\tprint (test_image.shape)\n",
    "\t\t\n",
    "else:\n",
    "\tif K.image_dim_ordering()=='th':\n",
    "\t\ttest_image=np.rollaxis(test_image,2,0)\n",
    "\t\ttest_image= np.expand_dims(test_image, axis=0)\n",
    "\t\tprint (test_image.shape)\n",
    "\telse:\n",
    "\t\ttest_image= np.expand_dims(test_image, axis=0)\n",
    "\t\tprint (test_image.shape)"
   ]
  },
  {
   "cell_type": "code",
   "execution_count": 108,
   "metadata": {},
   "outputs": [
    {
     "name": "stdout",
     "output_type": "stream",
     "text": [
      "[[ 0.24  0.25  0.27  0.24]]\n",
      "[2]\n"
     ]
    }
   ],
   "source": [
    "# Predicting the test image\n",
    "print((model.predict(test_image)))\n",
    "print(model.predict_classes(test_image))"
   ]
  },
  {
   "cell_type": "code",
   "execution_count": 109,
   "metadata": {
    "collapsed": true
   },
   "outputs": [],
   "source": [
    "# Visualizing the intermediate layer\n",
    "\n",
    "#\n",
    "def get_featuremaps(model, layer_idx, X_batch):\n",
    "\tget_activations = K.function([model.layers[0].input, K.learning_phase()],[model.layers[layer_idx].output,])\n",
    "\tactivations = get_activations([X_batch,0])\n",
    "\treturn activations"
   ]
  },
  {
   "cell_type": "code",
   "execution_count": 110,
   "metadata": {},
   "outputs": [
    {
     "name": "stdout",
     "output_type": "stream",
     "text": [
      "(1, 1, 96, 27, 27)\n",
      "(96, 27, 27)\n",
      "(27, 27, 96)\n"
     ]
    },
    {
     "data": {
      "image/png": "[encoded data removed]",
      "text/plain": [
       "<matplotlib.figure.Figure at 0x21a270be7b8>"
      ]
     },
     "metadata": {},
     "output_type": "display_data"
    }
   ],
   "source": [
    "layer_num=2\n",
    "filter_num=0\n",
    "\n",
    "activations = get_featuremaps(model, int(layer_num),test_image)\n",
    "\n",
    "print (np.shape(activations))\n",
    "feature_maps = activations[0][0]      \n",
    "print (np.shape(feature_maps))\n",
    "\n",
    "if K.image_dim_ordering()=='th':\n",
    "\tfeature_maps=np.rollaxis((np.rollaxis(feature_maps,2,0)),2,0)\n",
    "print (feature_maps.shape)\n",
    "\n",
    "fig=plt.figure(figsize=(16,16))\n",
    "plt.imshow(feature_maps[:,:,filter_num], cmap='jet', interpolation='nearest')\n",
    "plt.savefig(\"featuremaps-layer-{}\".format(layer_num) + \"-filternum-{}\".format(filter_num)+'.jpg')\n",
    "plt.show()"
   ]
  },
  {
   "cell_type": "code",
   "execution_count": 111,
   "metadata": {},
   "outputs": [
    {
     "data": {
      "image/png": "[encoded data removed]",
      "text/plain": [
       "<matplotlib.figure.Figure at 0x21a270be4e0>"
      ]
     },
     "metadata": {},
     "output_type": "display_data"
    }
   ],
   "source": [
    "num_of_featuremaps=feature_maps.shape[2]\n",
    "fig=plt.figure(figsize=(16,16))\t\n",
    "plt.title(\"featuremaps-layer-{}\".format(layer_num))\n",
    "subplot_num=int(np.ceil(np.sqrt(num_of_featuremaps)))\n",
    "for i in range(int(num_of_featuremaps)):\n",
    "\tax = fig.add_subplot(subplot_num, subplot_num, i+1)\n",
    "\t#ax.imshow(output_image[0,:,:,i],interpolation='nearest' ) #to see the first filter\n",
    "\tax.imshow(feature_maps[:,:,i], cmap='jet', interpolation='nearest')\n",
    "\tplt.xticks([])\n",
    "\tplt.yticks([])\n",
    "\tplt.tight_layout()\n",
    "plt.show()\n",
    "fig.savefig(\"featuremaps-layer-{}\".format(layer_num) + '.jpg')\n",
    "\n",
    "#%%"
   ]
  },
  {
   "cell_type": "code",
   "execution_count": 112,
   "metadata": {},
   "outputs": [
    {
     "name": "stdout",
     "output_type": "stream",
     "text": [
      "[[ 0.24  0.25  0.27  0.24]\n",
      " [ 0.24  0.25  0.27  0.24]\n",
      " [ 0.24  0.25  0.27  0.24]\n",
      " [ 0.24  0.25  0.27  0.24]\n",
      " [ 0.24  0.25  0.27  0.24]\n",
      " [ 0.24  0.25  0.27  0.24]\n",
      " [ 0.24  0.25  0.27  0.24]\n",
      " [ 0.24  0.25  0.27  0.24]\n",
      " [ 0.24  0.25  0.27  0.24]\n",
      " [ 0.24  0.25  0.27  0.24]\n",
      " [ 0.24  0.25  0.27  0.24]\n",
      " [ 0.24  0.25  0.27  0.24]\n",
      " [ 0.24  0.25  0.27  0.24]\n",
      " [ 0.24  0.25  0.27  0.24]\n",
      " [ 0.24  0.25  0.27  0.24]\n",
      " [ 0.24  0.25  0.27  0.24]\n",
      " [ 0.24  0.25  0.27  0.24]\n",
      " [ 0.24  0.25  0.27  0.24]\n",
      " [ 0.24  0.25  0.27  0.24]\n",
      " [ 0.24  0.25  0.27  0.24]\n",
      " [ 0.24  0.25  0.27  0.24]\n",
      " [ 0.24  0.25  0.27  0.24]\n",
      " [ 0.24  0.25  0.27  0.24]\n",
      " [ 0.24  0.25  0.27  0.24]\n",
      " [ 0.24  0.25  0.27  0.24]\n",
      " [ 0.24  0.25  0.27  0.24]\n",
      " [ 0.24  0.25  0.27  0.24]\n",
      " [ 0.24  0.25  0.27  0.24]\n",
      " [ 0.24  0.25  0.27  0.24]\n",
      " [ 0.24  0.25  0.27  0.24]\n",
      " [ 0.24  0.25  0.27  0.24]\n",
      " [ 0.24  0.25  0.27  0.24]\n",
      " [ 0.24  0.25  0.27  0.24]\n",
      " [ 0.24  0.25  0.27  0.24]\n",
      " [ 0.24  0.25  0.27  0.24]\n",
      " [ 0.24  0.25  0.27  0.24]\n",
      " [ 0.24  0.25  0.27  0.24]\n",
      " [ 0.24  0.25  0.27  0.24]\n",
      " [ 0.24  0.25  0.27  0.24]\n",
      " [ 0.24  0.25  0.27  0.24]\n",
      " [ 0.24  0.25  0.27  0.24]\n",
      " [ 0.24  0.25  0.27  0.24]\n",
      " [ 0.24  0.25  0.27  0.24]\n",
      " [ 0.24  0.25  0.27  0.24]\n",
      " [ 0.24  0.25  0.27  0.24]\n",
      " [ 0.24  0.25  0.27  0.24]\n",
      " [ 0.24  0.25  0.27  0.24]\n",
      " [ 0.24  0.25  0.27  0.24]\n",
      " [ 0.24  0.25  0.27  0.24]\n",
      " [ 0.24  0.25  0.27  0.24]\n",
      " [ 0.24  0.25  0.27  0.24]\n",
      " [ 0.24  0.25  0.27  0.24]\n",
      " [ 0.24  0.25  0.27  0.24]\n",
      " [ 0.24  0.25  0.27  0.24]\n",
      " [ 0.24  0.25  0.27  0.24]\n",
      " [ 0.24  0.25  0.27  0.24]\n",
      " [ 0.24  0.25  0.27  0.24]\n",
      " [ 0.24  0.25  0.27  0.24]\n",
      " [ 0.24  0.25  0.27  0.24]\n",
      " [ 0.24  0.25  0.27  0.24]\n",
      " [ 0.24  0.25  0.27  0.24]\n",
      " [ 0.24  0.25  0.27  0.24]\n",
      " [ 0.24  0.25  0.27  0.24]\n",
      " [ 0.24  0.25  0.27  0.24]\n",
      " [ 0.24  0.25  0.27  0.24]\n",
      " [ 0.24  0.25  0.27  0.24]\n",
      " [ 0.24  0.25  0.27  0.24]\n",
      " [ 0.24  0.25  0.27  0.24]\n",
      " [ 0.24  0.25  0.27  0.24]\n",
      " [ 0.24  0.25  0.27  0.24]\n",
      " [ 0.24  0.25  0.27  0.24]\n",
      " [ 0.24  0.25  0.27  0.24]\n",
      " [ 0.24  0.25  0.27  0.24]\n",
      " [ 0.24  0.25  0.27  0.24]\n",
      " [ 0.24  0.25  0.27  0.24]\n",
      " [ 0.24  0.25  0.27  0.24]\n",
      " [ 0.24  0.25  0.27  0.24]\n",
      " [ 0.24  0.25  0.27  0.24]\n",
      " [ 0.24  0.25  0.27  0.24]\n",
      " [ 0.24  0.25  0.27  0.24]\n",
      " [ 0.24  0.25  0.27  0.24]\n",
      " [ 0.24  0.25  0.27  0.24]\n",
      " [ 0.24  0.25  0.27  0.24]\n",
      " [ 0.24  0.25  0.27  0.24]\n",
      " [ 0.24  0.25  0.27  0.24]\n",
      " [ 0.24  0.25  0.27  0.24]\n",
      " [ 0.24  0.25  0.27  0.24]\n",
      " [ 0.24  0.25  0.27  0.24]\n",
      " [ 0.24  0.25  0.27  0.24]\n",
      " [ 0.24  0.25  0.27  0.24]\n",
      " [ 0.24  0.25  0.27  0.24]\n",
      " [ 0.24  0.25  0.27  0.24]\n",
      " [ 0.24  0.25  0.27  0.24]\n",
      " [ 0.24  0.25  0.27  0.24]\n",
      " [ 0.24  0.25  0.27  0.24]\n",
      " [ 0.24  0.25  0.27  0.24]\n",
      " [ 0.24  0.25  0.27  0.24]\n",
      " [ 0.24  0.25  0.27  0.24]\n",
      " [ 0.24  0.25  0.27  0.24]\n",
      " [ 0.24  0.25  0.27  0.24]\n",
      " [ 0.24  0.25  0.27  0.24]\n",
      " [ 0.24  0.25  0.27  0.24]\n",
      " [ 0.24  0.25  0.27  0.24]\n",
      " [ 0.24  0.25  0.27  0.24]\n",
      " [ 0.24  0.25  0.27  0.24]\n",
      " [ 0.24  0.25  0.27  0.24]\n",
      " [ 0.24  0.25  0.27  0.24]\n",
      " [ 0.24  0.25  0.27  0.24]\n",
      " [ 0.24  0.25  0.27  0.24]\n",
      " [ 0.24  0.25  0.27  0.24]\n",
      " [ 0.24  0.25  0.27  0.24]\n",
      " [ 0.24  0.25  0.27  0.24]\n",
      " [ 0.24  0.25  0.27  0.24]\n",
      " [ 0.24  0.25  0.27  0.24]\n",
      " [ 0.24  0.25  0.27  0.24]\n",
      " [ 0.24  0.25  0.27  0.24]\n",
      " [ 0.24  0.25  0.27  0.24]\n",
      " [ 0.24  0.25  0.27  0.24]\n",
      " [ 0.24  0.25  0.27  0.24]\n",
      " [ 0.24  0.25  0.27  0.24]\n",
      " [ 0.24  0.25  0.27  0.24]\n",
      " [ 0.24  0.25  0.27  0.24]\n",
      " [ 0.24  0.25  0.27  0.24]\n",
      " [ 0.24  0.25  0.27  0.24]\n",
      " [ 0.24  0.25  0.27  0.24]\n",
      " [ 0.24  0.25  0.27  0.24]\n",
      " [ 0.24  0.25  0.27  0.24]\n",
      " [ 0.24  0.25  0.27  0.24]\n",
      " [ 0.24  0.25  0.27  0.24]\n",
      " [ 0.24  0.25  0.27  0.24]\n",
      " [ 0.24  0.25  0.27  0.24]\n",
      " [ 0.24  0.25  0.27  0.24]\n",
      " [ 0.24  0.25  0.27  0.24]\n",
      " [ 0.24  0.25  0.27  0.24]\n",
      " [ 0.24  0.25  0.27  0.24]\n",
      " [ 0.24  0.25  0.27  0.24]\n",
      " [ 0.24  0.25  0.27  0.24]\n",
      " [ 0.24  0.25  0.27  0.24]\n",
      " [ 0.24  0.25  0.27  0.24]\n",
      " [ 0.24  0.25  0.27  0.24]\n",
      " [ 0.24  0.25  0.27  0.24]\n",
      " [ 0.24  0.25  0.27  0.24]\n",
      " [ 0.24  0.25  0.27  0.24]\n",
      " [ 0.24  0.25  0.27  0.24]\n",
      " [ 0.24  0.25  0.27  0.24]\n",
      " [ 0.24  0.25  0.27  0.24]\n",
      " [ 0.24  0.25  0.27  0.24]\n",
      " [ 0.24  0.25  0.27  0.24]\n",
      " [ 0.24  0.25  0.27  0.24]\n",
      " [ 0.24  0.25  0.27  0.24]\n",
      " [ 0.24  0.25  0.27  0.24]\n",
      " [ 0.24  0.25  0.27  0.24]\n",
      " [ 0.24  0.25  0.27  0.24]\n",
      " [ 0.24  0.25  0.27  0.24]\n",
      " [ 0.24  0.25  0.27  0.24]\n",
      " [ 0.24  0.25  0.27  0.24]\n",
      " [ 0.24  0.25  0.27  0.24]\n",
      " [ 0.24  0.25  0.27  0.24]\n",
      " [ 0.24  0.25  0.27  0.24]\n",
      " [ 0.24  0.25  0.27  0.24]\n",
      " [ 0.24  0.25  0.27  0.24]\n",
      " [ 0.24  0.25  0.27  0.24]]\n",
      "[2 2 2 2 2 2 2 2 2 2 2 2 2 2 2 2 2 2 2 2 2 2 2 2 2 2 2 2 2 2 2 2 2 2 2 2 2\n",
      " 2 2 2 2 2 2 2 2 2 2 2 2 2 2 2 2 2 2 2 2 2 2 2 2 2 2 2 2 2 2 2 2 2 2 2 2 2\n",
      " 2 2 2 2 2 2 2 2 2 2 2 2 2 2 2 2 2 2 2 2 2 2 2 2 2 2 2 2 2 2 2 2 2 2 2 2 2\n",
      " 2 2 2 2 2 2 2 2 2 2 2 2 2 2 2 2 2 2 2 2 2 2 2 2 2 2 2 2 2 2 2 2 2 2 2 2 2\n",
      " 2 2 2 2 2 2 2 2 2 2 2 2 2 2]\n",
      "                 precision    recall  f1-score   support\n",
      "\n",
      "  class 0(cats)       0.00      0.00      0.00        41\n",
      "  class 1(Dogs)       0.00      0.00      0.00        40\n",
      "class 2(Horses)       0.20      1.00      0.34        33\n",
      "class 3(Humans)       0.00      0.00      0.00        48\n",
      "\n",
      "    avg / total       0.04      0.20      0.07       162\n",
      "\n",
      "[[ 0  0 41  0]\n",
      " [ 0  0 40  0]\n",
      " [ 0  0 33  0]\n",
      " [ 0  0 48  0]]\n"
     ]
    },
    {
     "name": "stderr",
     "output_type": "stream",
     "text": [
      "C:\\Users\\Ravi\\Anaconda3\\envs\\theano_env\\lib\\site-packages\\sklearn\\metrics\\classification.py:1135: UndefinedMetricWarning: Precision and F-score are ill-defined and being set to 0.0 in labels with no predicted samples.\n",
      "  'precision', 'predicted', average, warn_for)\n"
     ]
    }
   ],
   "source": [
    "# Printing the confusion matrix\n",
    "from sklearn.metrics import classification_report,confusion_matrix\n",
    "import itertools\n",
    "\n",
    "Y_pred = model.predict(X_test)\n",
    "print(Y_pred)\n",
    "y_pred = np.argmax(Y_pred, axis=1)\n",
    "print(y_pred)\n",
    "#y_pred = model.predict_classes(X_test)\n",
    "#print(y_pred)\n",
    "target_names = ['class 0(cats)', 'class 1(Dogs)', 'class 2(Horses)','class 3(Humans)']\n",
    "\t\t\t\t\t\n",
    "print(classification_report(np.argmax(y_test,axis=1), y_pred,target_names=target_names))\n",
    "\n",
    "print(confusion_matrix(np.argmax(y_test,axis=1), y_pred))"
   ]
  },
  {
   "cell_type": "code",
   "execution_count": 113,
   "metadata": {
    "collapsed": true
   },
   "outputs": [],
   "source": [
    "# Plotting the confusion matrix\n",
    "def plot_confusion_matrix(cm, classes,\n",
    "                          normalize=False,\n",
    "                          title='Confusion matrix',\n",
    "                          cmap=plt.cm.Blues):\n",
    "    \"\"\"\n",
    "    This function prints and plots the confusion matrix.\n",
    "    Normalization can be applied by setting `normalize=True`.\n",
    "    \"\"\"\n",
    "    plt.imshow(cm, interpolation='nearest', cmap=cmap)\n",
    "    plt.title(title)\n",
    "    plt.colorbar()\n",
    "    tick_marks = np.arange(len(classes))\n",
    "    plt.xticks(tick_marks, classes, rotation=45)\n",
    "    plt.yticks(tick_marks, classes)\n",
    "\n",
    "    if normalize:\n",
    "        cm = cm.astype('float') / cm.sum(axis=1)[:, np.newaxis]\n",
    "        print(\"Normalized confusion matrix\")\n",
    "    else:\n",
    "        print('Confusion matrix, without normalization')\n",
    "\n",
    "    print(cm)\n",
    "\n",
    "    thresh = cm.max() / 2.\n",
    "    for i, j in itertools.product(range(cm.shape[0]), range(cm.shape[1])):\n",
    "        plt.text(j, i, cm[i, j],\n",
    "                 horizontalalignment=\"center\",\n",
    "                 color=\"white\" if cm[i, j] > thresh else \"black\")\n",
    "\n",
    "    plt.tight_layout()\n",
    "    plt.ylabel('True label')\n",
    "    plt.xlabel('Predicted label')\n"
   ]
  },
  {
   "cell_type": "code",
   "execution_count": 114,
   "metadata": {},
   "outputs": [
    {
     "name": "stdout",
     "output_type": "stream",
     "text": [
      "Confusion matrix, without normalization\n",
      "[[ 0  0 41  0]\n",
      " [ 0  0 40  0]\n",
      " [ 0  0 33  0]\n",
      " [ 0  0 48  0]]\n"
     ]
    },
    {
     "data": {
      "image/png": "[encoded data removed]",
      "text/plain": [
       "<matplotlib.figure.Figure at 0x21a236042e8>"
      ]
     },
     "metadata": {},
     "output_type": "display_data"
    }
   ],
   "source": [
    "# Compute confusion matrix\n",
    "cnf_matrix = (confusion_matrix(np.argmax(y_test,axis=1), y_pred))\n",
    "\n",
    "np.set_printoptions(precision=2)\n",
    "\n",
    "plt.figure()\n",
    "\n",
    "# Plot non-normalized confusion matrix\n",
    "plot_confusion_matrix(cnf_matrix, classes=target_names,\n",
    "                      title='Confusion matrix')\n",
    "#plt.figure()\n",
    "# Plot normalized confusion matrix\n",
    "#plot_confusion_matrix(cnf_matrix, classes=target_names, normalize=True,\n",
    "#                      title='Normalized confusion matrix')\n",
    "#plt.figure()\n",
    "plt.show()"
   ]
  },
  {
   "cell_type": "code",
   "execution_count": 115,
   "metadata": {},
   "outputs": [
    {
     "name": "stdout",
     "output_type": "stream",
     "text": [
      "Saved model to disk\n",
      "Loaded model from disk\n"
     ]
    }
   ],
   "source": [
    "#%%\n",
    "# Saving and loading model and weights\n",
    "from keras.models import model_from_json\n",
    "from keras.models import load_model\n",
    "\n",
    "# serialize model to JSON\n",
    "model_json = model.to_json()\n",
    "with open(\"model.json\", \"w\") as json_file:\n",
    "    json_file.write(model_json)\n",
    "# serialize weights to HDF5\n",
    "model.save_weights(\"alexnetmodel.h5\")\n",
    "print(\"Saved model to disk\")\n",
    "\n",
    "# load json and create model\n",
    "json_file = open('model.json', 'r')\n",
    "loaded_model_json = json_file.read()\n",
    "json_file.close()\n",
    "loaded_model = model_from_json(loaded_model_json)\n",
    "# load weights into new model\n",
    "loaded_model.load_weights(\"alexnetmodel.h5\")\n",
    "print(\"Loaded model from disk\")\n",
    "\n",
    "model.save('alexnetmodel.hdf5')\n",
    "loaded_model=load_model('alexnetmodel.hdf5')"
   ]
  },
  {
   "cell_type": "code",
   "execution_count": null,
   "metadata": {
    "collapsed": true
   },
   "outputs": [],
   "source": []
  }
 ],
 "metadata": {
  "kernelspec": {
   "display_name": "Python 3",
   "language": "python",
   "name": "python3"
  },
  "language_info": {
   "codemirror_mode": {
    "name": "ipython",
    "version": 3
   },
   "file_extension": ".py",
   "mimetype": "text/x-python",
   "name": "python",
   "nbconvert_exporter": "python",
   "pygments_lexer": "ipython3",
   "version": "3.5.4"
  }
 },
 "nbformat": 4,
 "nbformat_minor": 2
}
