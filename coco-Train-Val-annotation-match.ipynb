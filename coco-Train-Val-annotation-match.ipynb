{
 "cells": [
  {
   "cell_type": "code",
   "execution_count": 1,
   "metadata": {},
   "outputs": [],
   "source": [
    "import os\n",
    "import glob"
   ]
  },
  {
   "cell_type": "code",
   "execution_count": 2,
   "metadata": {},
   "outputs": [
    {
     "data": {
      "text/plain": [
       "'/home/ujjawal/basic-yolo-keras'"
      ]
     },
     "execution_count": 2,
     "metadata": {},
     "output_type": "execute_result"
    }
   ],
   "source": [
    "os.getcwd()"
   ]
  },
  {
   "cell_type": "code",
   "execution_count": 3,
   "metadata": {},
   "outputs": [],
   "source": [
    "path1=glob.glob(\"/home/ujjawal/basic-yolo-keras/COCO2014/images/train2014/*\")"
   ]
  },
  {
   "cell_type": "code",
   "execution_count": 4,
   "metadata": {},
   "outputs": [
    {
     "data": {
      "text/plain": [
       "82783"
      ]
     },
     "execution_count": 4,
     "metadata": {},
     "output_type": "execute_result"
    }
   ],
   "source": [
    "len(path1)"
   ]
  },
  {
   "cell_type": "code",
   "execution_count": 5,
   "metadata": {},
   "outputs": [],
   "source": [
    "path2=glob.glob(\"/home/ujjawal/basic-yolo-keras/COCO2014/images/val2014/*\")"
   ]
  },
  {
   "cell_type": "code",
   "execution_count": 6,
   "metadata": {},
   "outputs": [
    {
     "data": {
      "text/plain": [
       "40504"
      ]
     },
     "execution_count": 6,
     "metadata": {},
     "output_type": "execute_result"
    }
   ],
   "source": [
    "len(path2)"
   ]
  },
  {
   "cell_type": "code",
   "execution_count": 7,
   "metadata": {},
   "outputs": [],
   "source": [
    "path3=glob.glob(\"/home/ujjawal/basic-yolo-keras/COCO2014/train_annot_folder/*\")"
   ]
  },
  {
   "cell_type": "code",
   "execution_count": 8,
   "metadata": {},
   "outputs": [
    {
     "data": {
      "text/plain": [
       "81910"
      ]
     },
     "execution_count": 8,
     "metadata": {},
     "output_type": "execute_result"
    }
   ],
   "source": [
    "len(path3)"
   ]
  },
  {
   "cell_type": "code",
   "execution_count": 9,
   "metadata": {},
   "outputs": [],
   "source": [
    "path4=glob.glob(\"/home/ujjawal/basic-yolo-keras/COCO2014/val_annot_folder/*\")"
   ]
  },
  {
   "cell_type": "code",
   "execution_count": 10,
   "metadata": {},
   "outputs": [
    {
     "data": {
      "text/plain": [
       "40072"
      ]
     },
     "execution_count": 10,
     "metadata": {},
     "output_type": "execute_result"
    }
   ],
   "source": [
    "len(path4)"
   ]
  },
  {
   "cell_type": "code",
   "execution_count": 11,
   "metadata": {},
   "outputs": [
    {
     "name": "stdout",
     "output_type": "stream",
     "text": [
      "/home/ujjawal/basic-yolo-keras/COCO2014/images/train2014/COCO_train2014_000000283309.jpg\n"
     ]
    }
   ],
   "source": [
    "for i in path1:\n",
    "    print(i)\n",
    "    break\n"
   ]
  },
  {
   "cell_type": "code",
   "execution_count": 12,
   "metadata": {},
   "outputs": [
    {
     "name": "stdout",
     "output_type": "stream",
     "text": [
      "/home/ujjawal/basic-yolo-keras/COCO2014/images/val2014/COCO_val2014_000000448837.jpg\n"
     ]
    }
   ],
   "source": [
    "for i in path2:\n",
    "    print(i)\n",
    "    break"
   ]
  },
  {
   "cell_type": "code",
   "execution_count": 13,
   "metadata": {},
   "outputs": [
    {
     "name": "stdout",
     "output_type": "stream",
     "text": [
      "/home/ujjawal/basic-yolo-keras/COCO2014/train_annot_folder/COCO_train2014_000000266026.xml\n"
     ]
    }
   ],
   "source": [
    "for i in path3:\n",
    "    print(i)\n",
    "    break"
   ]
  },
  {
   "cell_type": "code",
   "execution_count": 14,
   "metadata": {},
   "outputs": [
    {
     "name": "stdout",
     "output_type": "stream",
     "text": [
      "/home/ujjawal/basic-yolo-keras/COCO2014/val_annot_folder/COCO_val2014_000000331307.xml\n"
     ]
    }
   ],
   "source": [
    "for i in path4:\n",
    "    print(i)\n",
    "    break"
   ]
  },
  {
   "cell_type": "code",
   "execution_count": 15,
   "metadata": {},
   "outputs": [],
   "source": [
    "dir1=os.listdir(\"/home/ujjawal/basic-yolo-keras/COCO2014/images/train2014/\")"
   ]
  },
  {
   "cell_type": "code",
   "execution_count": 16,
   "metadata": {},
   "outputs": [
    {
     "data": {
      "text/plain": [
       "82783"
      ]
     },
     "execution_count": 16,
     "metadata": {},
     "output_type": "execute_result"
    }
   ],
   "source": [
    "len(dir1)"
   ]
  },
  {
   "cell_type": "code",
   "execution_count": 17,
   "metadata": {},
   "outputs": [
    {
     "data": {
      "text/plain": [
       "'COCO_train2014_000000283309.jpg'"
      ]
     },
     "execution_count": 17,
     "metadata": {},
     "output_type": "execute_result"
    }
   ],
   "source": [
    "dir1[0]"
   ]
  },
  {
   "cell_type": "code",
   "execution_count": 18,
   "metadata": {},
   "outputs": [],
   "source": [
    "dir2=os.listdir(\"/home/ujjawal/basic-yolo-keras/COCO2014/train_annot_folder/\")"
   ]
  },
  {
   "cell_type": "code",
   "execution_count": 19,
   "metadata": {},
   "outputs": [
    {
     "data": {
      "text/plain": [
       "81910"
      ]
     },
     "execution_count": 19,
     "metadata": {},
     "output_type": "execute_result"
    }
   ],
   "source": [
    "len(dir2)"
   ]
  },
  {
   "cell_type": "code",
   "execution_count": 20,
   "metadata": {},
   "outputs": [],
   "source": [
    "dir3=os.listdir(\"/home/ujjawal/basic-yolo-keras/COCO2014/images/val2014/\")"
   ]
  },
  {
   "cell_type": "code",
   "execution_count": 21,
   "metadata": {},
   "outputs": [
    {
     "data": {
      "text/plain": [
       "40504"
      ]
     },
     "execution_count": 21,
     "metadata": {},
     "output_type": "execute_result"
    }
   ],
   "source": [
    "len(dir3)"
   ]
  },
  {
   "cell_type": "code",
   "execution_count": 22,
   "metadata": {},
   "outputs": [],
   "source": [
    "dir4=os.listdir(\"/home/ujjawal/basic-yolo-keras/COCO2014/val_annot_folder/\")"
   ]
  },
  {
   "cell_type": "code",
   "execution_count": 23,
   "metadata": {},
   "outputs": [
    {
     "data": {
      "text/plain": [
       "40072"
      ]
     },
     "execution_count": 23,
     "metadata": {},
     "output_type": "execute_result"
    }
   ],
   "source": [
    "len(dir4)"
   ]
  },
  {
   "cell_type": "code",
   "execution_count": 24,
   "metadata": {},
   "outputs": [],
   "source": [
    "#dir5=os.makedirs(\"/home/ujjawal/basic-yolo-keras/COCO2014/rejected_annot_folder2\")"
   ]
  },
  {
   "cell_type": "code",
   "execution_count": 25,
   "metadata": {},
   "outputs": [
    {
     "name": "stdout",
     "output_type": "stream",
     "text": [
      "COCO_train2014_000000283309.jpg\n"
     ]
    }
   ],
   "source": [
    "for i in dir1:\n",
    "    print(i)\n",
    "    break"
   ]
  },
  {
   "cell_type": "code",
   "execution_count": 26,
   "metadata": {},
   "outputs": [
    {
     "name": "stdout",
     "output_type": "stream",
     "text": [
      "COCO_train2014_000000266026.xml\n"
     ]
    }
   ],
   "source": [
    "for i in dir2:\n",
    "    print(i)\n",
    "    break"
   ]
  },
  {
   "cell_type": "code",
   "execution_count": 31,
   "metadata": {},
   "outputs": [
    {
     "name": "stdout",
     "output_type": "stream",
     "text": [
      "1n1:0,count:0\n",
      "1n1:1000,count:6\n",
      "1n1:2000,count:18\n",
      "1n1:3000,count:31\n",
      "1n1:4000,count:41\n",
      "1n1:5000,count:51\n",
      "1n1:6000,count:64\n",
      "1n1:7000,count:82\n",
      "1n1:8000,count:93\n",
      "1n1:9000,count:103\n",
      "1n1:10000,count:117\n",
      "1n1:11000,count:125\n",
      "1n1:12000,count:132\n",
      "1n1:13000,count:142\n",
      "1n1:14000,count:154\n",
      "1n1:15000,count:164\n",
      "1n1:16000,count:177\n",
      "1n1:17000,count:191\n",
      "1n1:18000,count:199\n",
      "1n1:19000,count:208\n",
      "1n1:20000,count:218\n",
      "1n1:21000,count:227\n",
      "1n1:22000,count:237\n",
      "1n1:23000,count:249\n",
      "1n1:24000,count:262\n",
      "1n1:25000,count:271\n",
      "1n1:26000,count:277\n",
      "1n1:27000,count:284\n",
      "1n1:28000,count:297\n",
      "1n1:29000,count:309\n",
      "1n1:30000,count:321\n",
      "1n1:31000,count:334\n",
      "1n1:32000,count:342\n",
      "1n1:33000,count:353\n",
      "1n1:34000,count:358\n",
      "1n1:35000,count:375\n",
      "1n1:36000,count:378\n",
      "1n1:37000,count:390\n",
      "1n1:38000,count:403\n",
      "1n1:39000,count:410\n",
      "1n1:40000,count:418\n",
      "1n1:41000,count:432\n",
      "1n1:42000,count:442\n",
      "1n1:43000,count:451\n",
      "1n1:44000,count:460\n",
      "1n1:45000,count:472\n",
      "1n1:46000,count:482\n",
      "1n1:47000,count:493\n",
      "1n1:48000,count:501\n",
      "1n1:49000,count:518\n",
      "1n1:50000,count:530\n",
      "1n1:51000,count:539\n",
      "1n1:52000,count:552\n",
      "1n1:53000,count:562\n",
      "1n1:54000,count:574\n",
      "1n1:55000,count:585\n",
      "1n1:56000,count:591\n",
      "1n1:57000,count:602\n",
      "1n1:58000,count:616\n",
      "1n1:59000,count:630\n",
      "1n1:60000,count:639\n",
      "1n1:61000,count:653\n",
      "1n1:62000,count:663\n",
      "1n1:63000,count:678\n",
      "1n1:64000,count:686\n",
      "1n1:65000,count:698\n",
      "1n1:66000,count:711\n",
      "1n1:67000,count:720\n",
      "1n1:68000,count:735\n",
      "1n1:69000,count:748\n",
      "1n1:70000,count:754\n",
      "1n1:71000,count:766\n",
      "1n1:72000,count:777\n",
      "1n1:73000,count:783\n",
      "1n1:74000,count:795\n",
      "1n1:75000,count:803\n",
      "1n1:76000,count:809\n",
      "1n1:77000,count:816\n",
      "1n1:78000,count:825\n",
      "1n1:79000,count:833\n",
      "1n1:80000,count:845\n",
      "1n1:81000,count:858\n",
      "1n1:82000,count:866\n"
     ]
    }
   ],
   "source": [
    "import shutil\n",
    "source=\"/home/ujjawal/basic-yolo-keras/COCO2014/images/train2014/\"\n",
    "dst=\"/home/ujjawal/basic-yolo-keras/COCO2014/rejected_train_img/\"\n",
    "count=0\n",
    "count1=0\n",
    "for in1,i in enumerate(dir1):\n",
    "    #print(in1)\n",
    "    for j in dir2:\n",
    "        if(i[:len(i)-3]==j[:len(j)-3]):\n",
    "            count=1\n",
    "            break\n",
    "           \n",
    "        else:\n",
    "            count=0\n",
    "            continue\n",
    "            #print(i)\n",
    "            #print(j)\n",
    "    if(count==0):\n",
    "        s1=source+i\n",
    "        shutil.move(s1,dst)\n",
    "        count1=count1+1\n",
    "    if(in1%1000==0):\n",
    "        print(\"1n1:{},count:{}\".format(in1,count1))\n",
    "        #break\n",
    "     #print(count1)\n",
    "            #print(j)\n",
    "            #break\n",
    "            #s1=source+i\n",
    "            #shutil.move(s1,dst)\n",
    "            #count+=1\n",
    "    #break        \n",
    "#print(\"count:{}\".format(count1))                   "
   ]
  },
  {
   "cell_type": "code",
   "execution_count": 32,
   "metadata": {},
   "outputs": [
    {
     "name": "stdout",
     "output_type": "stream",
     "text": [
      "873\n",
      "2\n"
     ]
    }
   ],
   "source": [
    "print(count1)\n",
    "h=\"hi\"\n",
    "print(len(h))"
   ]
  },
  {
   "cell_type": "code",
   "execution_count": 34,
   "metadata": {},
   "outputs": [
    {
     "data": {
      "text/plain": [
       "81910"
      ]
     },
     "execution_count": 34,
     "metadata": {},
     "output_type": "execute_result"
    }
   ],
   "source": [
    "len(glob.glob(\"/home/ujjawal/basic-yolo-keras/COCO2014/images/train2014/*\"))"
   ]
  },
  {
   "cell_type": "code",
   "execution_count": null,
   "metadata": {},
   "outputs": [
    {
     "name": "stdout",
     "output_type": "stream",
     "text": [
      "1n1:0,count:0\n",
      "1n1:1000,count:10\n",
      "1n1:2000,count:26\n",
      "1n1:3000,count:40\n",
      "1n1:4000,count:58\n",
      "1n1:5000,count:69\n",
      "1n1:6000,count:75\n"
     ]
    }
   ],
   "source": [
    "import shutil\n",
    "source=\"/home/ujjawal/basic-yolo-keras/COCO2014/images/val2014/\"\n",
    "dst=\"/home/ujjawal/basic-yolo-keras/COCO2014/rejected_val_img/\"\n",
    "count=0\n",
    "count1=0\n",
    "for in1,i in enumerate(dir3):\n",
    "    #print(in1)\n",
    "    for j in dir4:\n",
    "        if(i[:len(i)-3]==j[:len(j)-3]):\n",
    "            count=1\n",
    "            break\n",
    "           \n",
    "        else:\n",
    "            count=0\n",
    "            continue\n",
    "            #print(i)\n",
    "            #print(j)\n",
    "    if(count==0):\n",
    "        s1=source+i\n",
    "        shutil.move(s1,dst)\n",
    "        count1=count1+1\n",
    "    if(in1%1000==0):\n",
    "        print(\"1n1:{},count:{}\".format(in1,count1))\n",
    "        #break\n",
    "     #print(count1)\n",
    "            #print(j)\n",
    "            #break\n",
    "            #s1=source+i\n",
    "            #shutil.move(s1,dst)\n",
    "            #count+=1\n",
    "    #break        \n",
    "#print(\"count:{}\".format(count1))                   "
   ]
  },
  {
   "cell_type": "code",
   "execution_count": null,
   "metadata": {},
   "outputs": [],
   "source": []
  }
 ],
 "metadata": {
  "kernelspec": {
   "display_name": "Python 3",
   "language": "python",
   "name": "python3"
  },
  "language_info": {
   "codemirror_mode": {
    "name": "ipython",
    "version": 3
   },
   "file_extension": ".py",
   "mimetype": "text/x-python",
   "name": "python",
   "nbconvert_exporter": "python",
   "pygments_lexer": "ipython3",
   "version": "3.6.4"
  }
 },
 "nbformat": 4,
 "nbformat_minor": 2
}
