{
 "cells": [
  {
   "cell_type": "code",
   "execution_count": 42,
   "metadata": {},
   "outputs": [],
   "source": [
    "%matplotlib inline\n",
    "import tensorflow as tf\n",
    "import matplotlib.pyplot as plt\n",
    "import numpy as np\n",
    "import sklearn\n",
    "from sklearn.datasets import load_boston"
   ]
  },
  {
   "cell_type": "code",
   "execution_count": 43,
   "metadata": {},
   "outputs": [],
   "source": [
    "boston=load_boston()"
   ]
  },
  {
   "cell_type": "code",
   "execution_count": 44,
   "metadata": {},
   "outputs": [
    {
     "data": {
      "text/plain": [
       "dict_keys(['data', 'target', 'feature_names', 'DESCR'])"
      ]
     },
     "execution_count": 44,
     "metadata": {},
     "output_type": "execute_result"
    }
   ],
   "source": [
    "boston.keys()"
   ]
  },
  {
   "cell_type": "code",
   "execution_count": 45,
   "metadata": {},
   "outputs": [
    {
     "data": {
      "text/plain": [
       "(506, 13)"
      ]
     },
     "execution_count": 45,
     "metadata": {},
     "output_type": "execute_result"
    }
   ],
   "source": [
    "boston['data'].shape"
   ]
  },
  {
   "cell_type": "code",
   "execution_count": 46,
   "metadata": {},
   "outputs": [
    {
     "data": {
      "text/plain": [
       "(506,)"
      ]
     },
     "execution_count": 46,
     "metadata": {},
     "output_type": "execute_result"
    }
   ],
   "source": [
    "boston['target'].shape"
   ]
  },
  {
   "cell_type": "code",
   "execution_count": 47,
   "metadata": {},
   "outputs": [],
   "source": [
    "boston['target']=np.reshape(boston['target'],(506,1))"
   ]
  },
  {
   "cell_type": "code",
   "execution_count": 48,
   "metadata": {},
   "outputs": [
    {
     "data": {
      "text/plain": [
       "(506, 1)"
      ]
     },
     "execution_count": 48,
     "metadata": {},
     "output_type": "execute_result"
    }
   ],
   "source": [
    "boston['target'].shape"
   ]
  },
  {
   "cell_type": "code",
   "execution_count": 49,
   "metadata": {},
   "outputs": [
    {
     "data": {
      "text/plain": [
       "dtype('float64')"
      ]
     },
     "execution_count": 49,
     "metadata": {},
     "output_type": "execute_result"
    }
   ],
   "source": [
    "boston['target'].dtype"
   ]
  },
  {
   "cell_type": "code",
   "execution_count": 50,
   "metadata": {},
   "outputs": [],
   "source": [
    "X=boston['data']\n",
    "Y=boston['target']"
   ]
  },
  {
   "cell_type": "code",
   "execution_count": 51,
   "metadata": {},
   "outputs": [
    {
     "name": "stdout",
     "output_type": "stream",
     "text": [
      "(354, 13)\n",
      "(152, 13)\n",
      "(354, 1)\n",
      "(152, 1)\n"
     ]
    }
   ],
   "source": [
    "from sklearn import cross_validation\n",
    "X_train, X_test, Y_train, Y_test = sklearn.cross_validation.train_test_split(X, Y, test_size = 0.3, random_state = 5)\n",
    "print(X_train.shape)\n",
    "print(X_test.shape)\n",
    "print(Y_train.shape)\n",
    "print(Y_test.shape)"
   ]
  },
  {
   "cell_type": "code",
   "execution_count": 52,
   "metadata": {},
   "outputs": [
    {
     "data": {
      "text/plain": [
       "<tf.Tensor 'Placeholder_4:0' shape=(?, 13) dtype=float64>"
      ]
     },
     "execution_count": 52,
     "metadata": {},
     "output_type": "execute_result"
    }
   ],
   "source": [
    "X1=tf.placeholder(tf.float64,shape=[None,13])\n",
    "X1"
   ]
  },
  {
   "cell_type": "code",
   "execution_count": 53,
   "metadata": {},
   "outputs": [
    {
     "data": {
      "text/plain": [
       "<tf.Tensor 'Placeholder_5:0' shape=(?, 1) dtype=float64>"
      ]
     },
     "execution_count": 53,
     "metadata": {},
     "output_type": "execute_result"
    }
   ],
   "source": [
    "Y1=tf.placeholder(tf.float64,shape=[None,1])\n",
    "Y1"
   ]
  },
  {
   "cell_type": "code",
   "execution_count": 54,
   "metadata": {},
   "outputs": [
    {
     "data": {
      "text/plain": [
       "<tf.Variable 'Variable_4:0' shape=(13, 1) dtype=float64_ref>"
      ]
     },
     "execution_count": 54,
     "metadata": {},
     "output_type": "execute_result"
    }
   ],
   "source": [
    "W1=tf.Variable(tf.constant(0.1,shape=[13,1],dtype=tf.float64))\n",
    "W1"
   ]
  },
  {
   "cell_type": "code",
   "execution_count": 55,
   "metadata": {},
   "outputs": [
    {
     "data": {
      "text/plain": [
       "<tf.Variable 'Variable_5:0' shape=() dtype=float64_ref>"
      ]
     },
     "execution_count": 55,
     "metadata": {},
     "output_type": "execute_result"
    }
   ],
   "source": [
    "b1=tf.Variable(tf.constant(0.1,dtype=tf.float64))\n",
    "b1"
   ]
  },
  {
   "cell_type": "code",
   "execution_count": 56,
   "metadata": {},
   "outputs": [
    {
     "data": {
      "text/plain": [
       "<tf.Tensor 'add_2:0' shape=(?, 1) dtype=float64>"
      ]
     },
     "execution_count": 56,
     "metadata": {},
     "output_type": "execute_result"
    }
   ],
   "source": [
    "Y_pred=tf.matmul(X1,W1)+b1\n",
    "Y_pred"
   ]
  },
  {
   "cell_type": "code",
   "execution_count": 57,
   "metadata": {},
   "outputs": [
    {
     "data": {
      "text/plain": [
       "<tf.Tensor 'Mean_2:0' shape=() dtype=float64>"
      ]
     },
     "execution_count": 57,
     "metadata": {},
     "output_type": "execute_result"
    }
   ],
   "source": [
    "loss=tf.reduce_mean(tf.square(Y_pred-Y1))\n",
    "loss"
   ]
  },
  {
   "cell_type": "code",
   "execution_count": 99,
   "metadata": {},
   "outputs": [
    {
     "data": {
      "text/plain": [
       "<tf.Operation 'GradientDescent_11' type=NoOp>"
      ]
     },
     "execution_count": 99,
     "metadata": {},
     "output_type": "execute_result"
    }
   ],
   "source": [
    "opt=tf.train.GradientDescentOptimizer(learning_rate=0.000001).minimize(loss)\n",
    "opt"
   ]
  },
  {
   "cell_type": "code",
   "execution_count": 100,
   "metadata": {},
   "outputs": [],
   "source": [
    "init=tf.global_variables_initializer()\n",
    "sess=tf.InteractiveSession()\n",
    "sess.run(init)"
   ]
  },
  {
   "cell_type": "code",
   "execution_count": 101,
   "metadata": {},
   "outputs": [
    {
     "data": {
      "text/plain": [
       "5190.745052304911"
      ]
     },
     "execution_count": 101,
     "metadata": {},
     "output_type": "execute_result"
    }
   ],
   "source": [
    "initial_loss=loss.eval(feed_dict={X1:X_train,Y1:Y_train})\n",
    "initial_loss"
   ]
  },
  {
   "cell_type": "code",
   "execution_count": 102,
   "metadata": {},
   "outputs": [
    {
     "name": "stdout",
     "output_type": "stream",
     "text": [
      "initial_loss:5190.745052304911\n"
     ]
    }
   ],
   "source": [
    "print('initial_loss:{}'.format(initial_loss))"
   ]
  },
  {
   "cell_type": "code",
   "execution_count": 103,
   "metadata": {},
   "outputs": [
    {
     "name": "stdout",
     "output_type": "stream",
     "text": [
      "current_loss:837.0480272750477\n",
      "current_loss:78.63472474138213\n",
      "current_loss:77.04217980666851\n",
      "current_loss:75.79164941363715\n",
      "current_loss:74.78708790150918\n",
      "current_loss:73.96079346422405\n",
      "current_loss:73.26411151081531\n",
      "current_loss:72.66206874866543\n",
      "current_loss:72.12951911607587\n",
      "current_loss:71.64837554468262\n",
      "current_loss:71.205621631864\n",
      "current_loss:70.79188349268304\n",
      "current_loss:70.40040396742543\n",
      "current_loss:70.02630582586602\n",
      "current_loss:69.66606254694656\n",
      "current_loss:69.31711819205987\n",
      "current_loss:68.97761436670545\n",
      "current_loss:68.64619409976794\n",
      "current_loss:68.32186096992547\n",
      "current_loss:68.00387791410277\n",
      "current_loss:67.69169453816232\n",
      "current_loss:67.38489489980526\n",
      "current_loss:67.08315999601712\n",
      "current_loss:66.78624081236327\n",
      "current_loss:66.49393895859215\n",
      "current_loss:66.20609275332495\n",
      "current_loss:65.92256722274567\n",
      "current_loss:65.64324691069415\n",
      "current_loss:65.36803070820677\n",
      "current_loss:65.09682813366996\n",
      "current_loss:64.82955665501238\n",
      "current_loss:64.56613976046977\n",
      "current_loss:64.30650556713425\n",
      "current_loss:64.05058581588501\n",
      "current_loss:63.79831514395086\n",
      "current_loss:63.54963055699126\n",
      "current_loss:63.304471044588745\n",
      "current_loss:63.06277729884984\n",
      "current_loss:62.82449150716526\n",
      "current_loss:62.589557198333644\n",
      "current_loss:62.35791912711039\n",
      "current_loss:62.129523186449596\n",
      "current_loss:61.90431633972943\n",
      "current_loss:61.682246567420485\n",
      "current_loss:61.463262824217104\n",
      "current_loss:61.24731500377005\n",
      "current_loss:61.03435390896438\n",
      "current_loss:60.82433122626293\n",
      "current_loss:60.61719950305232\n",
      "current_loss:60.41291212722505\n"
     ]
    }
   ],
   "source": [
    "for i in range(5000):\n",
    "    sess.run(opt,feed_dict={X1:X_train,Y1:Y_train})\n",
    "    if i%100==0:\n",
    "        print(\"current_loss:{}\".format(loss.eval(feed_dict={X1:X_train,Y1:Y_train})))"
   ]
  },
  {
   "cell_type": "code",
   "execution_count": 114,
   "metadata": {},
   "outputs": [
    {
     "name": "stdout",
     "output_type": "stream",
     "text": [
      "29\n",
      "prediction is :28.860983115217884  and   actual is :24.1\n",
      "146\n",
      "prediction is :25.037511416786064  and   actual is :24.0\n",
      "38\n",
      "prediction is :26.231755948207283  and   actual is :48.8\n",
      "113\n",
      "prediction is :29.824840390575073  and   actual is :30.3\n",
      "121\n",
      "prediction is :28.664806555187983  and   actual is :33.4\n",
      "41\n",
      "prediction is :20.72618988145514  and   actual is :14.4\n",
      "55\n",
      "prediction is :33.61650125562226  and   actual is :24.7\n",
      "145\n",
      "prediction is :20.917141827782064  and   actual is :50.0\n",
      "77\n",
      "prediction is :19.42613305018883  and   actual is :15.4\n",
      "44\n",
      "prediction is :22.650902980500973  and   actual is :27.1\n"
     ]
    }
   ],
   "source": [
    "data,targets=X_test,Y_test\n",
    "predictions=sess.run(Y_pred,feed_dict={X1:data})\n",
    "predictions=predictions.flatten()\n",
    "targets=targets.reshape((152))\n",
    "\n",
    "for i in range(10):\n",
    "    randint=np.random.randint(0,152)\n",
    "    print(randint)\n",
    "    pred=predictions[randint]\n",
    "    actual=targets[randint]\n",
    "    print(\"prediction is :{}  and   actual is :{}\".format(pred,actual))"
   ]
  },
  {
   "cell_type": "code",
   "execution_count": 115,
   "metadata": {},
   "outputs": [
    {
     "data": {
      "image/png": "[encoded data removed]",
      "text/plain": [
       "<matplotlib.figure.Figure at 0x7f0ee004c048>"
      ]
     },
     "metadata": {},
     "output_type": "display_data"
    },
    {
     "name": "stdout",
     "output_type": "stream",
     "text": [
      "average absolute difference: 6052.978556703457\n",
      "average house price: 22478.28947368421\n"
     ]
    }
   ],
   "source": [
    "diffs = abs(targets - predictions)\n",
    "avg_diffs = np.mean(diffs)\n",
    "avg_houseprice = np.mean(targets)\n",
    "plt.xlabel('Home price values')\n",
    "plt.ylabel('Diff btwn targets and functions')\n",
    "plt.scatter(targets, diffs)\n",
    "plt.show()\n",
    "print(\"average absolute difference: {}\".format(avg_diffs * 1000))\n",
    "print(\"average house price: {}\".format(avg_houseprice * 1000))"
   ]
  },
  {
   "cell_type": "code",
   "execution_count": 116,
   "metadata": {},
   "outputs": [
    {
     "name": "stdout",
     "output_type": "stream",
     "text": [
      "{0: 0, 10: 0, 20: 0, 30: 0, 40: 0, 50: 0}\n",
      "0 : 7\n",
      "10 : 62\n",
      "20 : 58\n",
      "30 : 13\n",
      "40 : 4\n",
      "50 : 8\n"
     ]
    }
   ],
   "source": [
    "price_buckets = [0, 10, 20, 30, 40, 50]\n",
    "limits = dict(zip(price_buckets, [0  for _ in range(len(price_buckets))]))\n",
    "print(limits)\n",
    "for price in targets:\n",
    "    limits[int(price/10) * 10]+=1\n",
    "\n",
    "for k, v in sorted(limits.items()):\n",
    "    print(\"{} : {}\".format(k, v))"
   ]
  }
 ],
 "metadata": {
  "kernelspec": {
   "display_name": "Python 3",
   "language": "python",
   "name": "python3"
  },
  "language_info": {
   "codemirror_mode": {
    "name": "ipython",
    "version": 3
   },
   "file_extension": ".py",
   "mimetype": "text/x-python",
   "name": "python",
   "nbconvert_exporter": "python",
   "pygments_lexer": "ipython3",
   "version": "3.6.3"
  }
 },
 "nbformat": 4,
 "nbformat_minor": 2
}
