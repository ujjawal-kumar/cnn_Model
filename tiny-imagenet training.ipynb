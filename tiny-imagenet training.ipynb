{
 "cells": [
  {
   "cell_type": "code",
   "execution_count": 1,
   "metadata": {},
   "outputs": [
    {
     "name": "stdout",
     "output_type": "stream",
     "text": [
      "Fri Mar  2 19:30:08 2018       \r\n",
      "+-----------------------------------------------------------------------------+\r\n",
      "| NVIDIA-SMI 367.48                 Driver Version: 367.48                    |\r\n",
      "|-------------------------------+----------------------+----------------------+\r\n",
      "| GPU  Name        Persistence-M| Bus-Id        Disp.A | Volatile Uncorr. ECC |\r\n",
      "| Fan  Temp  Perf  Pwr:Usage/Cap|         Memory-Usage | GPU-Util  Compute M. |\r\n",
      "|===============================+======================+======================|\r\n",
      "|   0  Tesla M40 24GB      Off  | 0000:02:00.0     Off |                    0 |\r\n",
      "| N/A   39C    P0    57W / 250W |   7173MiB / 22939MiB |      0%      Default |\r\n",
      "+-------------------------------+----------------------+----------------------+\r\n",
      "                                                                               \r\n",
      "+-----------------------------------------------------------------------------+\r\n",
      "| Processes:                                                       GPU Memory |\r\n",
      "|  GPU       PID  Type  Process name                               Usage      |\r\n",
      "|=============================================================================|\r\n",
      "|    0     19987    C   /home/15mcpc08/miniconda2/bin/python          7167MiB |\r\n",
      "+-----------------------------------------------------------------------------+\r\n"
     ]
    }
   ],
   "source": [
    "!nvidia-smi"
   ]
  },
  {
   "cell_type": "code",
   "execution_count": 2,
   "metadata": {},
   "outputs": [],
   "source": [
    "import os"
   ]
  },
  {
   "cell_type": "code",
   "execution_count": 3,
   "metadata": {},
   "outputs": [
    {
     "data": {
      "text/plain": [
       "'/home/16mcmi16'"
      ]
     },
     "execution_count": 3,
     "metadata": {},
     "output_type": "execute_result"
    }
   ],
   "source": [
    "os.getcwd()"
   ]
  },
  {
   "cell_type": "code",
   "execution_count": 4,
   "metadata": {},
   "outputs": [
    {
     "data": {
      "text/plain": [
       "['.mozilla',\n",
       " '.bash_logout',\n",
       " '.bash_profile',\n",
       " '.bashrc',\n",
       " '.emacs',\n",
       " '.cache',\n",
       " '.config',\n",
       " '.bash_history',\n",
       " '.ipython',\n",
       " '.keras',\n",
       " '.theano',\n",
       " '.rnd',\n",
       " '.continuum',\n",
       " '.bashrc-miniconda2.bak',\n",
       " '.dbus',\n",
       " 'naveenproject',\n",
       " '.Xauthority',\n",
       " '.conda',\n",
       " '.theanorc',\n",
       " '.nv',\n",
       " '.local',\n",
       " '.esd_auth',\n",
       " '.gstreamer-0.10',\n",
       " 'Desktop',\n",
       " 'perl5',\n",
       " 'Downloads',\n",
       " '.emacs.d',\n",
       " '.pki',\n",
       " 'Train_img_dataset3.h5',\n",
       " 'cnn_utils.py',\n",
       " 'tiny-imagenet training.ipynb',\n",
       " '.kde',\n",
       " '.defaults-0.1.0.ini',\n",
       " '__pycache__',\n",
       " '.jupyter',\n",
       " '.ipynb_checkpoints',\n",
       " '.ssh',\n",
       " '.bashrc-anaconda3.bak',\n",
       " '.bashrc.save',\n",
       " '.python_history',\n",
       " '.pyxbld',\n",
       " 'data',\n",
       " 'anaconda3']"
      ]
     },
     "execution_count": 4,
     "metadata": {},
     "output_type": "execute_result"
    }
   ],
   "source": [
    "os.listdir()"
   ]
  },
  {
   "cell_type": "code",
   "execution_count": 5,
   "metadata": {},
   "outputs": [
    {
     "name": "stderr",
     "output_type": "stream",
     "text": [
      "/home/16mcmi16/anaconda3/envs/tensorflow_env/lib/python3.6/site-packages/h5py/__init__.py:36: FutureWarning: Conversion of the second argument of issubdtype from `float` to `np.floating` is deprecated. In future, it will be treated as `np.float64 == np.dtype(float).type`.\n",
      "  from ._conv import register_converters as _register_converters\n"
     ]
    }
   ],
   "source": [
    "import h5py\n",
    "import tensorflow as tf\n",
    "import matplotlib.pyplot as plt"
   ]
  },
  {
   "cell_type": "code",
   "execution_count": 6,
   "metadata": {},
   "outputs": [],
   "source": [
    "hf=h5py.File(\"Train_img_dataset3.h5\",\"r\")"
   ]
  },
  {
   "cell_type": "code",
   "execution_count": 7,
   "metadata": {},
   "outputs": [],
   "source": [
    "L1=list(hf.keys())"
   ]
  },
  {
   "cell_type": "code",
   "execution_count": 8,
   "metadata": {},
   "outputs": [
    {
     "data": {
      "text/plain": [
       "['train_data']"
      ]
     },
     "execution_count": 8,
     "metadata": {},
     "output_type": "execute_result"
    }
   ],
   "source": [
    "L1"
   ]
  },
  {
   "cell_type": "code",
   "execution_count": 9,
   "metadata": {},
   "outputs": [
    {
     "data": {
      "text/plain": [
       "1"
      ]
     },
     "execution_count": 9,
     "metadata": {},
     "output_type": "execute_result"
    }
   ],
   "source": [
    "len(L1)"
   ]
  },
  {
   "cell_type": "code",
   "execution_count": 10,
   "metadata": {},
   "outputs": [
    {
     "data": {
      "text/plain": [
       "'train_data'"
      ]
     },
     "execution_count": 10,
     "metadata": {},
     "output_type": "execute_result"
    }
   ],
   "source": [
    "L1[0]"
   ]
  },
  {
   "cell_type": "code",
   "execution_count": 11,
   "metadata": {},
   "outputs": [],
   "source": [
    "d1=hf.get('train_data')"
   ]
  },
  {
   "cell_type": "code",
   "execution_count": 12,
   "metadata": {},
   "outputs": [
    {
     "data": {
      "text/plain": [
       "<HDF5 dataset \"train_data\": shape (100000, 64, 64, 3), type \"<f4\">"
      ]
     },
     "execution_count": 12,
     "metadata": {},
     "output_type": "execute_result"
    }
   ],
   "source": [
    "d1"
   ]
  },
  {
   "cell_type": "code",
   "execution_count": 13,
   "metadata": {},
   "outputs": [
    {
     "data": {
      "text/plain": [
       "(100000, 64, 64, 3)"
      ]
     },
     "execution_count": 13,
     "metadata": {},
     "output_type": "execute_result"
    }
   ],
   "source": [
    "d1.shape"
   ]
  },
  {
   "cell_type": "code",
   "execution_count": 14,
   "metadata": {},
   "outputs": [],
   "source": [
    "import numpy as np"
   ]
  },
  {
   "cell_type": "code",
   "execution_count": 15,
   "metadata": {},
   "outputs": [],
   "source": [
    "n1=np.asarray(d1)"
   ]
  },
  {
   "cell_type": "code",
   "execution_count": 16,
   "metadata": {},
   "outputs": [
    {
     "data": {
      "text/plain": [
       "(100000, 64, 64, 3)"
      ]
     },
     "execution_count": 16,
     "metadata": {},
     "output_type": "execute_result"
    }
   ],
   "source": [
    "n1.shape"
   ]
  },
  {
   "cell_type": "code",
   "execution_count": 17,
   "metadata": {},
   "outputs": [
    {
     "data": {
      "text/plain": [
       "dtype('float32')"
      ]
     },
     "execution_count": 17,
     "metadata": {},
     "output_type": "execute_result"
    }
   ],
   "source": [
    "n1.dtype"
   ]
  },
  {
   "cell_type": "code",
   "execution_count": 18,
   "metadata": {},
   "outputs": [
    {
     "data": {
      "image/png": "[encoded data removed]",
      "text/plain": [
       "<matplotlib.figure.Figure at 0x7f7a3d1dd240>"
      ]
     },
     "metadata": {},
     "output_type": "display_data"
    }
   ],
   "source": [
    "plt.imshow(n1[0])\n",
    "plt.show()"
   ]
  },
  {
   "cell_type": "code",
   "execution_count": 19,
   "metadata": {},
   "outputs": [],
   "source": [
    "# Assigning Labels\n",
    "\n",
    "# Define the number of classes\n",
    "num_classes = 200\n",
    "num_of_samples = n1.shape[0]\n",
    "labels = np.ones((num_of_samples,),dtype='int64')\n",
    "list1=labels.tolist()\n",
    "i=0\n",
    "j=0\n",
    "while(i<num_classes):\n",
    "    count=0\n",
    "    while(j<len(list1)) :\n",
    "        list1[j]=i\n",
    "        j+=1\n",
    "        #print(list1[j])\n",
    "        count=count+1\n",
    "        if(count==500):\n",
    "            break\n",
    "    i+=1\n"
   ]
  },
  {
   "cell_type": "code",
   "execution_count": 20,
   "metadata": {},
   "outputs": [],
   "source": [
    "labels=np.asarray(list1)"
   ]
  },
  {
   "cell_type": "code",
   "execution_count": 21,
   "metadata": {},
   "outputs": [],
   "source": [
    "Y=tf.one_hot(labels, num_classes)"
   ]
  },
  {
   "cell_type": "code",
   "execution_count": 22,
   "metadata": {},
   "outputs": [],
   "source": [
    "sess = tf.Session()\n",
    "Y1=Y.eval(session=sess)"
   ]
  },
  {
   "cell_type": "code",
   "execution_count": 23,
   "metadata": {},
   "outputs": [
    {
     "data": {
      "text/plain": [
       "(100000, 200)"
      ]
     },
     "execution_count": 23,
     "metadata": {},
     "output_type": "execute_result"
    }
   ],
   "source": [
    "Y1.shape"
   ]
  },
  {
   "cell_type": "code",
   "execution_count": 24,
   "metadata": {},
   "outputs": [
    {
     "name": "stderr",
     "output_type": "stream",
     "text": [
      "/home/16mcmi16/anaconda3/envs/tensorflow_env/lib/python3.6/site-packages/sklearn/cross_validation.py:41: DeprecationWarning: This module was deprecated in version 0.18 in favor of the model_selection module into which all the refactored classes and functions are moved. Also note that the interface of the new CV iterators are different from that of this module. This module will be removed in 0.20.\n",
      "  \"This module will be removed in 0.20.\", DeprecationWarning)\n"
     ]
    }
   ],
   "source": [
    "from sklearn.utils import shuffle\n",
    "from sklearn.cross_validation import train_test_split"
   ]
  },
  {
   "cell_type": "code",
   "execution_count": 25,
   "metadata": {},
   "outputs": [],
   "source": [
    "n1/=255\n",
    "#Shuffle the dataset\n",
    "x,y = shuffle(n1,Y1, random_state=2)"
   ]
  },
  {
   "cell_type": "code",
   "execution_count": 26,
   "metadata": {},
   "outputs": [
    {
     "data": {
      "text/plain": [
       "((100000, 64, 64, 3), (100000, 200))"
      ]
     },
     "execution_count": 26,
     "metadata": {},
     "output_type": "execute_result"
    }
   ],
   "source": [
    "x.shape,y.shape"
   ]
  },
  {
   "cell_type": "code",
   "execution_count": 27,
   "metadata": {},
   "outputs": [],
   "source": [
    "# Split the dataset\n",
    "X_train, X_test, y_train, y_test = train_test_split(x, y, test_size=0.2, random_state=2)"
   ]
  },
  {
   "cell_type": "code",
   "execution_count": 28,
   "metadata": {},
   "outputs": [
    {
     "data": {
      "text/plain": [
       "((80000, 64, 64, 3), (20000, 64, 64, 3), (80000, 200), (20000, 200))"
      ]
     },
     "execution_count": 28,
     "metadata": {},
     "output_type": "execute_result"
    }
   ],
   "source": [
    "X_train.shape, X_test.shape, y_train.shape, y_test.shape "
   ]
  },
  {
   "cell_type": "code",
   "execution_count": 29,
   "metadata": {},
   "outputs": [
    {
     "data": {
      "text/plain": [
       "(dtype('float32'), dtype('float32'), dtype('float32'), dtype('float32'))"
      ]
     },
     "execution_count": 29,
     "metadata": {},
     "output_type": "execute_result"
    }
   ],
   "source": [
    "X_train.dtype, X_test.dtype, y_train.dtype, y_test.dtype "
   ]
  },
  {
   "cell_type": "code",
   "execution_count": 30,
   "metadata": {},
   "outputs": [],
   "source": [
    "def create_placeholders(H,W,C,Y0):\n",
    "    X=tf.placeholder(tf.float32,shape=(None,H,W,C))\n",
    "    Y=tf.placeholder(tf.float32,shape=(None,Y0))\n",
    "    return X,Y"
   ]
  },
  {
   "cell_type": "code",
   "execution_count": 31,
   "metadata": {},
   "outputs": [],
   "source": [
    "def initialize_parameters():\n",
    "    tf.set_random_seed(1) \n",
    "    W1= tf.get_variable(\"W1\", [3,3,3,32], initializer = tf.contrib.layers.xavier_initializer(seed = 0))\n",
    "    W2= tf.get_variable(\"W2\", [3,3,32,64], initializer = tf.contrib.layers.xavier_initializer(seed = 0))\n",
    "    W3= tf.get_variable(\"W3\", [3,3,64,128], initializer = tf.contrib.layers.xavier_initializer(seed = 0))\n",
    "    W4= tf.get_variable(\"W4\", [3,3,128,64], initializer = tf.contrib.layers.xavier_initializer(seed = 0))\n",
    "    W5= tf.get_variable(\"W5\", [3,3,64,128], initializer = tf.contrib.layers.xavier_initializer(seed = 0))\n",
    "    W6= tf.get_variable(\"W6\", [3,3,128,256], initializer = tf.contrib.layers.xavier_initializer(seed = 0))\n",
    "    W7= tf.get_variable(\"W7\", [3,3,256,128], initializer = tf.contrib.layers.xavier_initializer(seed = 0))\n",
    "    W8= tf.get_variable(\"W8\", [3,3,128,256], initializer = tf.contrib.layers.xavier_initializer(seed = 0))\n",
    "    W9= tf.get_variable(\"W9\", [3,3,256,512], initializer = tf.contrib.layers.xavier_initializer(seed = 0))\n",
    "    W10= tf.get_variable(\"W10\", [3,3,512,256], initializer = tf.contrib.layers.xavier_initializer(seed = 0))\n",
    "    W11= tf.get_variable(\"W11\", [3,3,256,512], initializer = tf.contrib.layers.xavier_initializer(seed = 0))\n",
    "    W12= tf.get_variable(\"W12\", [3,3,512,256], initializer = tf.contrib.layers.xavier_initializer(seed = 0))\n",
    "    W13= tf.get_variable(\"W13\", [3,3,256,512], initializer = tf.contrib.layers.xavier_initializer(seed = 0))\n",
    "    W14= tf.get_variable(\"W14\", [3,3,512,1024], initializer = tf.contrib.layers.xavier_initializer(seed = 0))\n",
    "    W15= tf.get_variable(\"W15\", [3,3,1024,512], initializer = tf.contrib.layers.xavier_initializer(seed = 0))\n",
    "    W16= tf.get_variable(\"W16\", [3,3,512,1024], initializer = tf.contrib.layers.xavier_initializer(seed = 0))\n",
    "    W17 = tf.get_variable(\"W17\", [1,1,1024,512], initializer = tf.contrib.layers.xavier_initializer(seed = 0))\n",
    "    W18= tf.get_variable(\"W18\", [3,3,512,1024], initializer = tf.contrib.layers.xavier_initializer(seed = 0))\n",
    "    W19= tf.get_variable(\"W19\", [3,3,1024,1000], initializer = tf.contrib.layers.xavier_initializer(seed = 0))\n",
    "    #W_1=tf.Variable(tf.constant(0.1,shape=[3,3,o_d,n_f]))\n",
    "    #W_3=tf.Variable(tf.constant(0.1,shape=[1,1,o_d,n_f]))\n",
    "    parameters = {\"W1\": W1,\"W2\": W2,\"W3\": W3,\"W4\": W4,\"W5\": W5,\"W6\": W6,\"W7\": W7,\"W8\": W8,\"W9\": W9,\"W10\": W10,\n",
    "                  \"W11\": W11,\"W12\": W12,\"W13\": W13,\"W14\": W14,\"W15\": W15,\"W16\": W16,\"W17\": W17,\"W18\": W18,\n",
    "                  \"W19\": W19}\n",
    "    return parameters"
   ]
  },
  {
   "cell_type": "code",
   "execution_count": 32,
   "metadata": {},
   "outputs": [],
   "source": [
    "def forward_propagation(X, parameters):\n",
    "    W1 = parameters['W1']\n",
    "    W2 = parameters['W2']\n",
    "    W3 = parameters['W3']\n",
    "    W4 = parameters['W4']\n",
    "    W5 = parameters['W5']\n",
    "    W6 = parameters['W6']\n",
    "    W7 = parameters['W7']\n",
    "    W8 = parameters['W8']\n",
    "    W9 = parameters['W9']\n",
    "    W10 = parameters['W10']\n",
    "    W11 = parameters['W11']\n",
    "    W12= parameters['W12']\n",
    "    W13 = parameters['W13']\n",
    "    W14= parameters['W14']\n",
    "    W15 = parameters['W15']\n",
    "    W16 = parameters['W16']\n",
    "    W17= parameters['W17']\n",
    "    W18= parameters['W18']\n",
    "    W19= parameters['W19']\n",
    "    \n",
    "    Z1 = tf.nn.conv2d(X,W1, strides = [1,1,1,1], padding = 'SAME')\n",
    "    bn1= tf.contrib.layers.batch_norm(Z1,center=True,scale=True,is_training=True)\n",
    "    A1 = tf.nn.leaky_relu(bn1)\n",
    "\n",
    "    P1 = tf.nn.max_pool(A1, ksize = [1,2,2,1], strides = [1,2,2,1], padding = 'SAME')\n",
    "    \n",
    "    Z2 = tf.nn.conv2d(P1,W2, strides = [1,1,1,1], padding = 'SAME')\n",
    "    bn2= tf.contrib.layers.batch_norm(Z2,center=True,scale=True,is_training=True)\n",
    "    A2 = tf.nn.leaky_relu(bn2)\n",
    "    \n",
    "    P2 = tf.nn.max_pool(A2, ksize = [1,2,2,1], strides = [1,2,2,1], padding = 'SAME')\n",
    "    \n",
    "    Z3 = tf.nn.conv2d(P2,W3, strides = [1,1,1,1], padding = 'SAME')\n",
    "    bn3= tf.contrib.layers.batch_norm(Z3,center=True,scale=True,is_training=True)\n",
    "    A3 = tf.nn.leaky_relu(bn3)\n",
    "    \n",
    "    Z4 = tf.nn.conv2d(A3,W4, strides = [1,1,1,1], padding = 'SAME')\n",
    "    bn4= tf.contrib.layers.batch_norm(Z4,center=True,scale=True,is_training=True)\n",
    "    A4 = tf.nn.leaky_relu(bn4)\n",
    "    \n",
    "    Z5 = tf.nn.conv2d(A4,W5, strides = [1,1,1,1], padding = 'SAME')\n",
    "    bn5= tf.contrib.layers.batch_norm(Z5,center=True,scale=True,is_training=True)\n",
    "    A5 = tf.nn.leaky_relu(bn5)\n",
    "    \n",
    "    P3 = tf.nn.max_pool(A5, ksize = [1,2,2,1], strides = [1,2,2,1], padding = 'SAME')\n",
    "    \n",
    "    Z6 = tf.nn.conv2d(P3,W6, strides = [1,1,1,1], padding = 'SAME')\n",
    "    bn6= tf.contrib.layers.batch_norm(Z6,center=True,scale=True,is_training=True)\n",
    "    A6 = tf.nn.leaky_relu(bn6)\n",
    "    \n",
    "    Z7 = tf.nn.conv2d(A6,W7, strides = [1,1,1,1], padding = 'SAME')\n",
    "    bn7= tf.contrib.layers.batch_norm(Z7,center=True,scale=True,is_training=True)\n",
    "    A7 = tf.nn.leaky_relu(bn7)\n",
    "    \n",
    "    Z8 = tf.nn.conv2d(A7,W8, strides = [1,1,1,1], padding = 'SAME')\n",
    "    bn8= tf.contrib.layers.batch_norm(Z8,center=True,scale=True,is_training=True)\n",
    "    A8 = tf.nn.leaky_relu(bn8)\n",
    "    \n",
    "    \n",
    "    P4 = tf.nn.max_pool(A8, ksize = [1,2,2,1], strides = [1,2,2,1], padding = 'SAME')\n",
    "    \n",
    "    Z9 = tf.nn.conv2d(P4,W9, strides = [1,1,1,1], padding = 'SAME')\n",
    "    bn9= tf.contrib.layers.batch_norm(Z9,center=True,scale=True,is_training=True)\n",
    "    A9 = tf.nn.leaky_relu(bn9)\n",
    "    \n",
    "    Z10 = tf.nn.conv2d(A9,W10, strides = [1,1,1,1], padding = 'SAME')\n",
    "    bn10= tf.contrib.layers.batch_norm(Z10,center=True,scale=True,is_training=True)\n",
    "    A10= tf.nn.leaky_relu(bn10)\n",
    "    \n",
    "    Z11 = tf.nn.conv2d(A10,W11, strides = [1,1,1,1], padding = 'SAME')\n",
    "    bn11= tf.contrib.layers.batch_norm(Z11,center=True,scale=True,is_training=True)\n",
    "    A11 = tf.nn.leaky_relu(bn11)\n",
    "    \n",
    "    Z12 = tf.nn.conv2d(A11,W12, strides = [1,1,1,1], padding = 'SAME')\n",
    "    bn12= tf.contrib.layers.batch_norm(Z12,center=True,scale=True,is_training=True)\n",
    "    A12 = tf.nn.leaky_relu(bn12)\n",
    "    \n",
    "    Z13 = tf.nn.conv2d(A12,W13, strides = [1,1,1,1], padding = 'SAME')\n",
    "    bn13= tf.contrib.layers.batch_norm(Z13,center=True,scale=True,is_training=True)\n",
    "    A13 = tf.nn.leaky_relu(bn13)\n",
    "    \n",
    "    \n",
    "    P5 = tf.nn.max_pool(A13, ksize = [1,2,2,1], strides = [1,2,2,1], padding = 'SAME')\n",
    "    \n",
    "    Z14 = tf.nn.conv2d(P5,W14, strides = [1,1,1,1], padding = 'SAME')\n",
    "    bn14= tf.contrib.layers.batch_norm(Z14,center=True,scale=True,is_training=True)\n",
    "    A14 = tf.nn.leaky_relu(bn14)\n",
    "    \n",
    "    Z15 = tf.nn.conv2d(A14,W15, strides = [1,1,1,1], padding = 'SAME')\n",
    "    bn15= tf.contrib.layers.batch_norm(Z15,center=True,scale=True,is_training=True)\n",
    "    A15 = tf.nn.leaky_relu(bn15)\n",
    "\n",
    "    Z16 = tf.nn.conv2d(A15,W16, strides = [1,1,1,1], padding = 'SAME')\n",
    "    bn16= tf.contrib.layers.batch_norm(Z16,center=True,scale=True,is_training=True)\n",
    "    A16 = tf.nn.leaky_relu(bn16)\n",
    "    \n",
    "    Z17 = tf.nn.conv2d(A16,W17, strides = [1,1,1,1], padding = 'SAME')\n",
    "    bn17= tf.contrib.layers.batch_norm(Z17,center=True,scale=True,is_training=True)\n",
    "    A17 = tf.nn.leaky_relu(bn17)\n",
    "    \n",
    "    Z18 = tf.nn.conv2d(A17,W18, strides = [1,1,1,1], padding = 'SAME')\n",
    "    bn18= tf.contrib.layers.batch_norm(Z18,center=True,scale=True,is_training=True)\n",
    "    A18 = tf.nn.leaky_relu(bn18)\n",
    "    \n",
    "    Z19 = tf.nn.conv2d(A18,W19, strides = [1,1,1,1], padding = 'SAME')\n",
    "    bn19= tf.contrib.layers.batch_norm(Z19,center=True,scale=True,is_training=True)\n",
    "    A19 = tf.nn.leaky_relu(bn19)\n",
    "    \n",
    "    P6=tf.nn.avg_pool(A19,ksize = [1,2,2,1], strides = [1,2,2,1], padding = 'SAME')\n",
    "    \n",
    "    P6 = tf.contrib.layers.flatten(P6)\n",
    "    \n",
    "    Z20 = tf.contrib.layers.fully_connected(P6, 200, activation_fn=None)\n",
    "\n",
    "    return Z20"
   ]
  },
  {
   "cell_type": "code",
   "execution_count": 33,
   "metadata": {},
   "outputs": [
    {
     "name": "stdout",
     "output_type": "stream",
     "text": [
      "Z20 = [[ 0.379388    1.5797744  -0.40070707  0.9195221  -0.5695102  -0.6278648\n",
      "   0.5956111   0.8284087  -0.95642877 -0.56758904 -1.7070756   0.31377748\n",
      "  -0.6600201  -0.88399374  0.77567184  0.01053964 -0.01320803  0.5481856\n",
      "   0.16662055  0.635705   -0.6986159  -0.5005974  -0.84800184 -0.836527\n",
      "  -0.20146036  0.3028824   0.3157611  -1.1663282  -0.24480319 -0.18767475\n",
      "   0.38949522  0.6351019  -0.52271783  0.3272576   1.1077504   0.32240683\n",
      "  -0.27022898  0.89373875 -0.08240095 -1.1386925  -0.9605273   1.3097615\n",
      "  -0.47905716 -0.57255167 -0.42495272  0.81549585 -0.54275584  0.36317882\n",
      "  -1.4428087  -0.6602359   0.1072388  -0.6358366  -0.75346535  0.35604057\n",
      "   0.08435111  1.568357   -0.55939496 -0.49769616  0.5976316   0.33013624\n",
      "   0.25354755 -0.08242387 -1.6065948   1.2457664  -0.68849885  0.2353737\n",
      "   0.85508275  1.0839441   0.43010524 -0.29161718  0.6019039   0.9264011\n",
      "  -0.10054083 -0.83798575 -0.6256729  -0.290008   -0.7300476  -0.95276093\n",
      "  -1.0225719  -0.41135356 -0.42381078  0.12057176  1.6756926  -0.6009699\n",
      "  -0.6590198  -0.39436856  1.0239367   0.6713372   0.20152178 -0.72190416\n",
      "  -0.31311488  1.469698    0.04886828  0.29362905  0.07140481  0.37923384\n",
      "  -0.8119998   0.2504698   0.33603615 -1.1028466  -0.36632365 -0.9075581\n",
      "  -0.4407447   0.0632751   0.81911385 -0.22405677  0.2567789   0.5859569\n",
      "  -0.05289674 -1.5938907   0.50000834  0.8218963  -0.29715455 -0.22718821\n",
      "  -0.76594543 -1.0158355  -0.444999    0.5282452   0.8897518  -0.3505751\n",
      "   0.0600665  -0.45064163  0.33274287 -0.4454121   1.0268654   0.01057914\n",
      "  -0.22852884 -0.09190384  0.05704385 -0.95321494 -0.04946482  0.98201805\n",
      "  -0.9576416  -0.20035808  1.0801646   0.53071404 -0.1310585   0.3486289\n",
      "  -1.174733    0.6478183   0.17159098  0.3879328  -0.24337663 -0.63219625\n",
      "  -0.16653419 -0.05089971 -0.14450192  0.47046277 -1.6502025  -0.33814585\n",
      "  -0.6128898  -0.23376039  0.628628    0.7306257   0.05118614  0.20442651\n",
      "   0.13986577 -0.6622822  -0.07174306 -0.72482854 -0.1057749   0.74866474\n",
      "  -1.7514927   1.4513351   0.19339666 -0.32692522  0.8354106   0.16774103\n",
      "  -1.2331095  -1.1500801  -0.28161204 -0.36862335 -1.0366509   1.0803419\n",
      "  -0.7535279  -0.23527303  0.03365943  0.19776997  0.05011257  0.25011373\n",
      "  -0.5217376  -0.8918732  -1.4794817  -0.12633431  1.3172185   0.6702049\n",
      "  -0.14279498 -0.5713506  -0.7093372  -0.6089753   0.01602866  0.19136898\n",
      "   0.14842786  0.077737    0.6486097  -0.4668618   0.85384065 -0.43590027\n",
      "  -0.7877058   1.0489824 ]\n",
      " [ 0.7354855   1.4452541  -0.5637288   0.81414413 -0.44307446 -0.8396977\n",
      "   0.72605145  0.50542146 -0.15482485 -0.13728097 -0.6811515   0.2843054\n",
      "  -0.49610704 -0.6103824   1.1372056   0.47817945 -0.30031872  1.1410294\n",
      "  -0.04881307  0.1664296   0.55122614  0.2884974  -0.43464676 -0.93944275\n",
      "  -0.36098272  0.15467627  0.31165534  0.2644858   0.46974206  0.43890557\n",
      "  -0.82795215  0.04689661 -1.122673    0.95957667  1.2829417   0.51348037\n",
      "  -0.7184788   1.0177     -0.09528005 -0.52929944  0.30016983  1.6551121\n",
      "  -0.14897911 -0.32856384 -0.4504377   1.0807288   0.04069864 -0.42651165\n",
      "  -1.6125398  -0.6934955   0.45151037 -0.13639462 -0.7120714   0.76574504\n",
      "  -0.07953131  0.66096926  0.08850235  0.7493276   0.69983816  0.94322634\n",
      "   0.31878418  0.36964434 -0.08658984  1.037252   -1.6450193   0.13896269\n",
      "   0.57102567 -0.06399012  0.8498515  -0.44537115 -0.15776321  0.87440336\n",
      "   0.43402255 -0.01248662 -0.5543996  -1.1180224  -0.262937   -1.2941046\n",
      "   0.69083357  0.3202069  -0.077876    1.0069205   1.9085112  -0.33030814\n",
      "   0.2510106  -0.39336455 -0.04192215  0.24886864  0.11390515 -0.4473731\n",
      "  -0.49052387  0.81258523 -0.32678324  0.11549324  0.09567615 -0.34078008\n",
      "   0.88198113  0.3213424  -0.23775902 -1.0704751   0.21518439 -0.50720394\n",
      "   0.3815962  -0.9891803   0.2562524  -0.31203753  0.07663956  1.0693735\n",
      "   0.4686922  -1.7201247  -0.15201455  0.5792093  -0.17922366 -0.49887693\n",
      "  -0.58680695 -0.43850994  0.42371523 -0.16056138  0.33035663 -0.4394729\n",
      "   0.06581763 -0.1279092   0.0406417   1.1938821   1.4222959   0.44600093\n",
      "   0.0054257  -0.72632223 -0.02142023 -0.940619   -0.16747534  0.7345873\n",
      "   0.24253651  0.23402402 -0.02444045  0.44684297 -0.11201021  0.99062455\n",
      "  -0.9553635   0.51994926 -0.16839454  1.3010879  -0.6788489  -0.39713195\n",
      "   0.23748489  0.07108444 -0.10159825 -0.21388718 -1.3197479  -0.17041078\n",
      "  -0.597173   -0.10401464 -0.2186524   0.05369264 -0.22409555  0.26707554\n",
      "  -0.47043043  1.0816994  -0.44618925 -0.25120628 -0.12405218  0.386615\n",
      "  -1.6071427  -0.3889569  -0.35921413 -1.2845856   0.45751745 -0.07644778\n",
      "  -0.21712738 -0.613601   -0.07494855 -0.6594137  -0.20343187  0.6410254\n",
      "  -0.60013163 -0.84462386  0.5822784  -0.3376169   0.06394209 -0.36670247\n",
      "  -1.2019521  -0.49574474 -0.798404   -0.20402971  0.2672183   0.67867684\n",
      "  -0.3720814  -0.59889966  0.07489425 -0.15272553 -0.28631464  1.5863152\n",
      "  -0.54395807  0.18832806  0.5820613   0.7369387   0.8199773   0.51342016\n",
      "  -0.16190933  0.22237489]]\n"
     ]
    }
   ],
   "source": [
    "tf.reset_default_graph()\n",
    "\n",
    "with tf.Session() as sess:\n",
    "    np.random.seed(1)\n",
    "    X, Y = create_placeholders(224, 224, 3, 1)\n",
    "    parameters = initialize_parameters()\n",
    "    Z20 = forward_propagation(X,parameters)\n",
    "    init = tf.global_variables_initializer()\n",
    "    sess.run(init)\n",
    "    a = sess.run(Z20, {X: np.random.randn(2,224,224,3), Y: np.random.randn(2,1)})\n",
    "    print(\"Z20 = \" + str(a))"
   ]
  },
  {
   "cell_type": "code",
   "execution_count": 34,
   "metadata": {},
   "outputs": [],
   "source": [
    "def compute_cost(Z20, Y):\n",
    "    cost = tf.reduce_mean(tf.nn.softmax_cross_entropy_with_logits(logits = Z20, labels = Y))\n",
    "    return cost"
   ]
  },
  {
   "cell_type": "code",
   "execution_count": 35,
   "metadata": {},
   "outputs": [
    {
     "name": "stdout",
     "output_type": "stream",
     "text": [
      "cost = 15.680149\n"
     ]
    }
   ],
   "source": [
    "tf.reset_default_graph()\n",
    "\n",
    "with tf.Session() as sess:\n",
    "    np.random.seed(1)\n",
    "    X, Y = create_placeholders(224, 224, 3, 200)\n",
    "    parameters = initialize_parameters()\n",
    "    Z20= forward_propagation(X, parameters)\n",
    "    cost = compute_cost(Z20, Y)\n",
    "    init = tf.global_variables_initializer()\n",
    "    sess.run(init)\n",
    "    a = sess.run(cost, {X: np.random.randn(2,224,224,3), Y: np.random.randn(2,200)})\n",
    "    print(\"cost = \" + str(a))\n"
   ]
  },
  {
   "cell_type": "code",
   "execution_count": 38,
   "metadata": {},
   "outputs": [],
   "source": [
    "from cnn_utils import *\n",
    "def model(X_train, Y_train, X_test, Y_test, learning_rate = 0.009,\n",
    "          num_epochs =125, minibatch_size = 64, print_cost = True):\n",
    "    \n",
    "    ops.reset_default_graph() \n",
    "    tf.set_random_seed(1)\n",
    "    \n",
    "    seed = 3\n",
    "    \n",
    "    (m, n_H0, n_W0, n_C0) = X_train.shape             \n",
    "    n_y = Y_train.shape[1]                            \n",
    "    costs = []  \n",
    "    \n",
    "    X, Y = create_placeholders(n_H0, n_W0, n_C0, n_y)\n",
    "    \n",
    "    parameters = initialize_parameters()\n",
    "    Z20 = forward_propagation(X, parameters)\n",
    "    cost = compute_cost(Z20, Y)\n",
    "    \n",
    "    optimizer = tf.train.AdamOptimizer(learning_rate = learning_rate).minimize(cost)\n",
    "    \n",
    "    init = tf.global_variables_initializer()\n",
    "    \n",
    "    \n",
    "    with tf.Session() as sess:\n",
    "        \n",
    "   \n",
    "        sess.run(init)\n",
    "        \n",
    "      \n",
    "        for epoch in range(num_epochs):\n",
    "\n",
    "            minibatch_cost = 0.\n",
    "            num_minibatches = int(m / minibatch_size)\n",
    "            seed = seed + 1\n",
    "            minibatches = random_mini_batches(X_train, Y_train, minibatch_size, seed)\n",
    "\n",
    "            for minibatch in minibatches:\n",
    "\n",
    "                \n",
    "                (minibatch_X, minibatch_Y) = minibatch\n",
    "                \n",
    "                _ , temp_cost = sess.run([optimizer, cost], feed_dict={X: minibatch_X, Y: minibatch_Y})\n",
    "              \n",
    "                \n",
    "                minibatch_cost += temp_cost / num_minibatches\n",
    "                \n",
    "\n",
    "           \n",
    "            if print_cost == True and epoch % 5 == 0:\n",
    "                print (\"Cost after epoch %i: %f\" % (epoch, minibatch_cost))\n",
    "            if print_cost == True and epoch % 1 == 0:\n",
    "                costs.append(minibatch_cost)\n",
    "        \n",
    "        \n",
    "        # plot the cost\n",
    "        plt.plot(np.squeeze(costs))\n",
    "        plt.ylabel('cost')\n",
    "        plt.xlabel('iterations (per tens)')\n",
    "        plt.title(\"Learning rate =\" + str(learning_rate))\n",
    "        plt.show()\n",
    "        \n",
    "        # Calculate the correct predictions\n",
    "        predict_op = tf.argmax(Z20, 1)\n",
    "        correct_prediction = tf.equal(predict_op, tf.argmax(Y, 1))\n",
    "        \n",
    "        # Calculate accuracy on the test set\n",
    "        accuracy = tf.reduce_mean(tf.cast(correct_prediction, \"float\"))\n",
    "        print(accuracy)\n",
    "        i=0\n",
    "        while(i<X_train.shape[0]):\n",
    "            train_accuracy = accuracy.eval({X: X_train[i:i+1000], Y: Y_train[i:i+1000]})\n",
    "            i=i+1000\n",
    "        j=0\n",
    "        while(j<X_test.shape[0]):\n",
    "            test_accuracy = accuracy.eval({X: X_test[j:j+1000], Y: Y_test[j:j+1000]})\n",
    "            j=j+1000\n",
    "            \n",
    "        print(\"Train Accuracy:\", train_accuracy)\n",
    "        print(\"Test Accuracy:\", test_accuracy)\n",
    "                \n",
    "        return  train_accuracy, test_accuracy, parameters\n"
   ]
  },
  {
   "cell_type": "code",
   "execution_count": 39,
   "metadata": {},
   "outputs": [
    {
     "name": "stdout",
     "output_type": "stream",
     "text": [
      "Cost after epoch 0: 5.161849\n",
      "Cost after epoch 5: 4.147615\n",
      "Cost after epoch 10: 3.796608\n",
      "Cost after epoch 15: 3.512979\n",
      "Cost after epoch 20: 3.150405\n",
      "Cost after epoch 25: 2.735719\n",
      "Cost after epoch 30: 2.362833\n",
      "Cost after epoch 35: 1.967333\n",
      "Cost after epoch 40: 1.615234\n",
      "Cost after epoch 45: 1.320767\n",
      "Cost after epoch 50: 1.082412\n",
      "Cost after epoch 55: 0.894896\n",
      "Cost after epoch 60: 0.760319\n",
      "Cost after epoch 65: 0.649906\n",
      "Cost after epoch 70: 0.566851\n",
      "Cost after epoch 75: 0.497882\n",
      "Cost after epoch 80: 0.449458\n",
      "Cost after epoch 85: 0.401163\n",
      "Cost after epoch 90: 0.363023\n",
      "Cost after epoch 95: 0.328230\n",
      "Cost after epoch 100: 0.300463\n",
      "Cost after epoch 105: 0.292374\n",
      "Cost after epoch 110: 0.266959\n",
      "Cost after epoch 115: 0.251723\n",
      "Cost after epoch 120: 0.234779\n"
     ]
    },
    {
     "data": {
      "image/png": "[encoded data removed]",
      "text/plain": [
       "<matplotlib.figure.Figure at 0x7f755e64f3c8>"
      ]
     },
     "metadata": {},
     "output_type": "display_data"
    },
    {
     "name": "stdout",
     "output_type": "stream",
     "text": [
      "Tensor(\"Mean_1:0\", shape=(), dtype=float32)\n",
      "Train Accuracy: 0.971\n",
      "Test Accuracy: 0.222\n"
     ]
    }
   ],
   "source": [
    "_, _, parameters = model(X_train, y_train, X_test, y_test)"
   ]
  },
  {
   "cell_type": "code",
   "execution_count": 40,
   "metadata": {},
   "outputs": [
    {
     "name": "stdout",
     "output_type": "stream",
     "text": [
      "Fri Mar  2 23:41:25 2018       \r\n",
      "+-----------------------------------------------------------------------------+\r\n",
      "| NVIDIA-SMI 367.48                 Driver Version: 367.48                    |\r\n",
      "|-------------------------------+----------------------+----------------------+\r\n",
      "| GPU  Name        Persistence-M| Bus-Id        Disp.A | Volatile Uncorr. ECC |\r\n",
      "| Fan  Temp  Perf  Pwr:Usage/Cap|         Memory-Usage | GPU-Util  Compute M. |\r\n",
      "|===============================+======================+======================|\r\n",
      "|   0  Tesla M40 24GB      Off  | 0000:02:00.0     Off |                    0 |\r\n",
      "| N/A   59C    P0    69W / 250W |  22314MiB / 22939MiB |     50%      Default |\r\n",
      "+-------------------------------+----------------------+----------------------+\r\n",
      "                                                                               \r\n",
      "+-----------------------------------------------------------------------------+\r\n",
      "| Processes:                                                       GPU Memory |\r\n",
      "|  GPU       PID  Type  Process name                               Usage      |\r\n",
      "|=============================================================================|\r\n",
      "|    0       662    C   .../anaconda3/envs/tensorflow_env/bin/python 15140MiB |\r\n",
      "|    0     19987    C   /home/15mcpc08/miniconda2/bin/python          7167MiB |\r\n",
      "+-----------------------------------------------------------------------------+\r\n"
     ]
    }
   ],
   "source": [
    "!nvidia-smi"
   ]
  }
 ],
 "metadata": {
  "kernelspec": {
   "display_name": "Python 3",
   "language": "python",
   "name": "python3"
  },
  "language_info": {
   "codemirror_mode": {
    "name": "ipython",
    "version": 3
   },
   "file_extension": ".py",
   "mimetype": "text/x-python",
   "name": "python",
   "nbconvert_exporter": "python",
   "pygments_lexer": "ipython3",
   "version": "3.6.4"
  }
 },
 "nbformat": 4,
 "nbformat_minor": 2
}
